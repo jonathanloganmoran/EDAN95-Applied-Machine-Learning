{
 "cells": [
  {
   "cell_type": "markdown",
   "metadata": {},
   "source": [
    "# Introduction to Python and NumPy\n",
    "## Part One - Python\n",
    "#### By Jonathan L. Moran (jo6155mo-s@student.lu.se)\n",
    "From the EDAN95 - Applied Machine Learning course given at Lunds Tekniska Högskola (LTH) | Ht2 2019."
   ]
  },
  {
   "cell_type": "markdown",
   "metadata": {},
   "source": [
    "## Objectives\n",
    "In this set of notebooks you will\n",
    "*  Get a hands-on introduction to Python\n",
    "*  Refresh your knowledge on linear algebra\n",
    "*  Know the main functions of numpy"
   ]
  },
  {
   "cell_type": "markdown",
   "metadata": {},
   "source": [
    "## Implementation task"
   ]
  },
  {
   "cell_type": "markdown",
   "metadata": {},
   "source": [
    "_1. Run all the code in the chapter: A Tour of Python (P. Nugues)._"
   ]
  },
  {
   "cell_type": "markdown",
   "metadata": {},
   "source": [
    "#### 1.2 The Read, Evaluate and Print Loop"
   ]
  },
  {
   "cell_type": "code",
   "execution_count": 1,
   "metadata": {},
   "outputs": [],
   "source": [
    "### From P. Nugues' Ch. 1 - A Tour of Python (Language Processing with Python, 2019)"
   ]
  },
  {
   "cell_type": "code",
   "execution_count": 2,
   "metadata": {},
   "outputs": [
    {
     "data": {
      "text/plain": [
       "3"
      ]
     },
     "execution_count": 2,
     "metadata": {},
     "output_type": "execute_result"
    }
   ],
   "source": [
    "a = 1            # We create variable a and assign it with 1\n",
    "b = 2            # We create b and assign it with 2\n",
    "b + 1            # We add 1 to b\n",
    "# And Python returns the result..."
   ]
  },
  {
   "cell_type": "code",
   "execution_count": 3,
   "metadata": {},
   "outputs": [
    {
     "data": {
      "text/plain": [
       "0.3333333333333333"
      ]
     },
     "execution_count": 3,
     "metadata": {},
     "output_type": "execute_result"
    }
   ],
   "source": [
    "c = a / (b + 1)  # We carry out a computation and assign it to c\n",
    "c                # We print c"
   ]
  },
  {
   "cell_type": "code",
   "execution_count": 4,
   "metadata": {},
   "outputs": [
    {
     "name": "stdout",
     "output_type": "stream",
     "text": [
      "Result: 0.3333333333333333\n"
     ]
    }
   ],
   "source": [
    "text = 'Result:' # We create text and assign it with a string\n",
    "print(text, c)   # And we print both text and c"
   ]
  },
  {
   "cell_type": "markdown",
   "metadata": {},
   "source": [
    "#### 1.3 Introdutory Programs"
   ]
  },
  {
   "cell_type": "markdown",
   "metadata": {},
   "source": [
    "_The program below uses a loop to print the numbers of a list. The loop starts with the `for` and `in` statements ended with a colon. After this statement, we add an indentation of four spaces to define the body of the loop: The statements executed by this loop. We remove the indentation when the block has ended:_"
   ]
  },
  {
   "cell_type": "code",
   "execution_count": 5,
   "metadata": {},
   "outputs": [
    {
     "name": "stdout",
     "output_type": "stream",
     "text": [
      "1\n",
      "2\n",
      "3\n",
      "4\n",
      "5\n",
      "6\n",
      "Done\n"
     ]
    }
   ],
   "source": [
    "for i in [1, 2, 3, 4, 5, 6]:\n",
    "    print(i)\n",
    "print('Done')"
   ]
  },
  {
   "cell_type": "markdown",
   "metadata": {},
   "source": [
    "_The next program introduces a condition with the `if` and `else` statements, also ended with a colon, and the modulo operator, `%`, to print the odd and even numbers:_"
   ]
  },
  {
   "cell_type": "code",
   "execution_count": 6,
   "metadata": {},
   "outputs": [
    {
     "name": "stdout",
     "output_type": "stream",
     "text": [
      "Odd: 1\n",
      "Even: 2\n",
      "Odd: 3\n",
      "Even: 4\n",
      "Odd: 5\n",
      "Even: 6\n",
      "Done\n"
     ]
    }
   ],
   "source": [
    "for i in [1, 2, 3, 4, 5, 6]:\n",
    "    if i % 2 == 0:\n",
    "        print('Even:', i)\n",
    "    else:\n",
    "        print('Odd:', i)\n",
    "print('Done')"
   ]
  },
  {
   "cell_type": "markdown",
   "metadata": {},
   "source": [
    "#### 1.4 Strings"
   ]
  },
  {
   "cell_type": "code",
   "execution_count": 7,
   "metadata": {},
   "outputs": [
    {
     "data": {
      "text/plain": [
       "'Sing, O goddess, the anger of Achilles son of\\nPeleus, that brought countless ills upon the Achaeans.'"
      ]
     },
     "execution_count": 7,
     "metadata": {},
     "output_type": "execute_result"
    }
   ],
   "source": [
    "iliad = \"\"\"Sing, O goddess, the anger of Achilles son of\n",
    "Peleus, that brought countless ills upon the Achaeans.\"\"\"\n",
    "iliad"
   ]
  },
  {
   "cell_type": "markdown",
   "metadata": {},
   "source": [
    "_In the example above, the string includes a new line delimiter, `\\n`, between of\n",
    "and Peleus to break the line._\n",
    "\n",
    "_If, instead, we want to keep the white spaces and just wrap the line so that it fits our text editor, we will use the backslash continuation character, `\\`, as in:_"
   ]
  },
  {
   "cell_type": "code",
   "execution_count": 8,
   "metadata": {},
   "outputs": [
    {
     "data": {
      "text/plain": [
       "'Sing, O goddess, the anger of Achilles son of Peleus, that brought countless ills upon the Achaeans.'"
      ]
     },
     "execution_count": 8,
     "metadata": {},
     "output_type": "execute_result"
    }
   ],
   "source": [
    "iliad2 = 'Sing, O goddess, the anger of Achilles son of \\\n",
    "Peleus, that brought countless ills upon the Achaeans.'\n",
    "iliad2"
   ]
  },
  {
   "cell_type": "markdown",
   "metadata": {},
   "source": [
    "##### 1.4.1 String Index"
   ]
  },
  {
   "cell_type": "markdown",
   "metadata": {},
   "source": [
    "_We access the characters in a string using their index enclosed in square brackets, starting at 0:_"
   ]
  },
  {
   "cell_type": "code",
   "execution_count": 9,
   "metadata": {},
   "outputs": [
    {
     "data": {
      "text/plain": [
       "'z'"
      ]
     },
     "execution_count": 9,
     "metadata": {},
     "output_type": "execute_result"
    }
   ],
   "source": [
    "alphabet = 'abcdefghijklmnopqrstuvwxyz'\n",
    "alphabet[0]     # ’a’\n",
    "alphabet[1]     # ’b’\n",
    "alphabet[25]    # ’z’"
   ]
  },
  {
   "cell_type": "markdown",
   "metadata": {},
   "source": [
    "_We can use negative indices, that start from the end of the string:_"
   ]
  },
  {
   "cell_type": "code",
   "execution_count": 10,
   "metadata": {},
   "outputs": [
    {
     "data": {
      "text/plain": [
       "'a'"
      ]
     },
     "execution_count": 10,
     "metadata": {},
     "output_type": "execute_result"
    }
   ],
   "source": [
    "alphabet[-1]    # the last character of a string: ’z’\n",
    "alphabet[-2]    # the second last: ’y’\n",
    "alphabet[-26]   # ’a’"
   ]
  },
  {
   "cell_type": "markdown",
   "metadata": {},
   "source": [
    "_The length of a string is given by the `len()` function_"
   ]
  },
  {
   "cell_type": "code",
   "execution_count": 11,
   "metadata": {},
   "outputs": [
    {
     "data": {
      "text/plain": [
       "26"
      ]
     },
     "execution_count": 11,
     "metadata": {},
     "output_type": "execute_result"
    }
   ],
   "source": [
    "len(alphabet)   # 26"
   ]
  },
  {
   "cell_type": "markdown",
   "metadata": {},
   "source": [
    "##### 1.4.2 String Operations and Functions"
   ]
  },
  {
   "cell_type": "markdown",
   "metadata": {},
   "source": [
    "Strings come with a set of built-in operators and functions. We concatenate and repeat strings using `+` and `*` as in:"
   ]
  },
  {
   "cell_type": "code",
   "execution_count": 12,
   "metadata": {},
   "outputs": [
    {
     "data": {
      "text/plain": [
       "'abcabcabc'"
      ]
     },
     "execution_count": 12,
     "metadata": {},
     "output_type": "execute_result"
    }
   ],
   "source": [
    "'abc' + 'def'   # ’abcdef’\n",
    "'abc' * 3       # ’abcabcabc’"
   ]
  },
  {
   "cell_type": "markdown",
   "metadata": {},
   "source": [
    "_The `join()` function is an alternative to `+`. It is called by a string with a list as argument: `str.join(list)`. It concatenates the elements of the list with the calling string, possibly empty, placed in-between:_"
   ]
  },
  {
   "cell_type": "code",
   "execution_count": 13,
   "metadata": {},
   "outputs": [
    {
     "data": {
      "text/plain": [
       "'abc, def, ghi'"
      ]
     },
     "execution_count": 13,
     "metadata": {},
     "output_type": "execute_result"
    }
   ],
   "source": [
    "''.join(['abc', 'def', 'ghi'])    # equivalent to a +:\n",
    "                                  # ’abcdefghi’\n",
    "' '.join(['abc', 'def', 'ghi'])   # places a space between the\n",
    "                                  # elements: ’abc def ghi’\n",
    "', '.join(['abc', 'def', 'ghi'])  # ’abc, def, ghi’"
   ]
  },
  {
   "cell_type": "markdown",
   "metadata": {},
   "source": [
    "_We set a string in uppercase letters with `str.upper()` and in lowercase with `str.lower()`:_"
   ]
  },
  {
   "cell_type": "code",
   "execution_count": 14,
   "metadata": {},
   "outputs": [
    {
     "data": {
      "text/plain": [
       "'EÉÈÊË'"
      ]
     },
     "execution_count": 14,
     "metadata": {},
     "output_type": "execute_result"
    }
   ],
   "source": [
    "accented_e = 'eéèêë'\n",
    "accented_e.upper()                # ’EÉÈÊË’"
   ]
  },
  {
   "cell_type": "code",
   "execution_count": 15,
   "metadata": {},
   "outputs": [
    {
     "data": {
      "text/plain": [
       "'eéèêë'"
      ]
     },
     "execution_count": 15,
     "metadata": {},
     "output_type": "execute_result"
    }
   ],
   "source": [
    "accented_E = 'EÉÈÊË'\n",
    "accented_E.lower()                # ’eéèêë’"
   ]
  },
  {
   "cell_type": "markdown",
   "metadata": {},
   "source": [
    "_We search and replace substrings in strings using `str.find()` and `str.replace()`. `str.find()` returns the index of the first occurrence of the substring or `-1`, if not found, while `replace()` replaces all the occurrences of the substring and returns a new string:_"
   ]
  },
  {
   "cell_type": "code",
   "execution_count": 16,
   "metadata": {},
   "outputs": [
    {
     "data": {
      "text/plain": [
       "3"
      ]
     },
     "execution_count": 16,
     "metadata": {},
     "output_type": "execute_result"
    }
   ],
   "source": [
    "alphabet.find('def')              # 3"
   ]
  },
  {
   "cell_type": "code",
   "execution_count": 17,
   "metadata": {},
   "outputs": [
    {
     "data": {
      "text/plain": [
       "-1"
      ]
     },
     "execution_count": 17,
     "metadata": {},
     "output_type": "execute_result"
    }
   ],
   "source": [
    "alphabet.find('é')                # -1"
   ]
  },
  {
   "cell_type": "code",
   "execution_count": 18,
   "metadata": {},
   "outputs": [
    {
     "data": {
      "text/plain": [
       "'αβγdefghijklmnopqrstuvwxyz'"
      ]
     },
     "execution_count": 18,
     "metadata": {},
     "output_type": "execute_result"
    }
   ],
   "source": [
    "alphabet.replace('abc', 'αβγ')    # ’αβγdefghijklmnopqrstuvwxyz’"
   ]
  },
  {
   "cell_type": "markdown",
   "metadata": {},
   "source": [
    "_We can iterate over the characters of a string using a `for` `in` loop, and for instance extract all its vowels as in:_"
   ]
  },
  {
   "cell_type": "code",
   "execution_count": 19,
   "metadata": {},
   "outputs": [
    {
     "name": "stdout",
     "output_type": "stream",
     "text": [
      "ioeeaeoieooeeuaououeiuoeaea\n"
     ]
    }
   ],
   "source": [
    "text_vowels = ''\n",
    "for i in iliad:\n",
    "    if i in 'aeiou':\n",
    "        text_vowels = text_vowels + i\n",
    "print(text_vowels)                # ’ioeeaeoieooeeuaououeiuoeaea’"
   ]
  },
  {
   "cell_type": "markdown",
   "metadata": {},
   "source": [
    "_We can abridge the statement:_"
   ]
  },
  {
   "cell_type": "code",
   "execution_count": 20,
   "metadata": {},
   "outputs": [],
   "source": [
    "text_vowels = text_vowels + i"
   ]
  },
  {
   "cell_type": "markdown",
   "metadata": {},
   "source": [
    "_into_"
   ]
  },
  {
   "cell_type": "code",
   "execution_count": 21,
   "metadata": {},
   "outputs": [],
   "source": [
    "text_vowels += i"
   ]
  },
  {
   "cell_type": "markdown",
   "metadata": {},
   "source": [
    "_as well as for all the arithmetic operators: `-=`, `*=`, `/=`, `**=`, and `%=`._"
   ]
  },
  {
   "cell_type": "markdown",
   "metadata": {},
   "source": [
    "##### 1.4.3 Slices"
   ]
  },
  {
   "cell_type": "markdown",
   "metadata": {},
   "source": [
    "_We can extract substrings of a string using **slices**: A range defined by a start and an end index, `[start:end]`, where the slice will include all the characters from index start up to index `end - 1`:_"
   ]
  },
  {
   "cell_type": "code",
   "execution_count": 22,
   "metadata": {},
   "outputs": [
    {
     "data": {
      "text/plain": [
       "'abcdefghijklmnopqrstuvwxyz'"
      ]
     },
     "execution_count": 22,
     "metadata": {},
     "output_type": "execute_result"
    }
   ],
   "source": [
    "alphabet[0:3]     # the three first letters of alphabet: ’abc’\n",
    "alphabet[:3]      # equivalent to alphabet[0:3]\n",
    "alphabet[3:6]     # substring from index 3 to index 5: ’def’\n",
    "alphabet[-3:]     # the three last letters of alphabet: ’xyz’\n",
    "alphabet[10:-10]  # ’klmnop’\n",
    "alphabet[:]       # all the letters: ’a...z’"
   ]
  },
  {
   "cell_type": "markdown",
   "metadata": {},
   "source": [
    "_As the end index is excluded from the slice,_\n",
    "```\n",
    "alphabet[:i] + alphabet[i:]\n",
    "```\n",
    "_is always equal to the original string, whatever the value of `i`._"
   ]
  },
  {
   "cell_type": "markdown",
   "metadata": {},
   "source": [
    "In addition to the start and the end, we can add a step using the syntax `[start:end:step]`.\n",
    "With a step of 2, we extract every second letter:"
   ]
  },
  {
   "cell_type": "code",
   "execution_count": 23,
   "metadata": {},
   "outputs": [
    {
     "data": {
      "text/plain": [
       "'acegikmoqsuwy'"
      ]
     },
     "execution_count": 23,
     "metadata": {},
     "output_type": "execute_result"
    }
   ],
   "source": [
    "alphabet[0::2]        # acegikmoqzuwy"
   ]
  },
  {
   "cell_type": "markdown",
   "metadata": {},
   "source": [
    "##### 1.4.4 Special Characters"
   ]
  },
  {
   "cell_type": "markdown",
   "metadata": {},
   "source": [
    "_The characters in the strings are interpreted literally by Python, except the quotes and backslashes. To create strings containing these two characters, Python defines two escape sequences: `\\’` to represent a quote and `\\\\` to represent a backslash as in:_"
   ]
  },
  {
   "cell_type": "code",
   "execution_count": 24,
   "metadata": {},
   "outputs": [
    {
     "data": {
      "text/plain": [
       "\"Python's strings\""
      ]
     },
     "execution_count": 24,
     "metadata": {},
     "output_type": "execute_result"
    }
   ],
   "source": [
    "'Python\\'s strings'    # \"Python’s strings\""
   ]
  },
  {
   "cell_type": "markdown",
   "metadata": {},
   "source": [
    "_The `\\N{name}` name and `\\uxxxx` and `\\Uxxxxxxxx` sequences enable us to designate any character, like Ö and Œ, by its Unicode name, respectively, `\\N{LATIN CAPITAL LETTER O WITH DIAERESIS}` and `\\N{LATIN CAPITAL LIGATURE OE}`, or its code point, `\\u00D6` and `\\u0152`._"
   ]
  },
  {
   "cell_type": "code",
   "execution_count": 25,
   "metadata": {},
   "outputs": [
    {
     "data": {
      "text/plain": [
       "'Œ'"
      ]
     },
     "execution_count": 25,
     "metadata": {},
     "output_type": "execute_result"
    }
   ],
   "source": [
    "'\\N{COMMERCIAL AT}'    # ’@’\n",
    "'\\x40'                 # ’@’\n",
    "'\\100'                 # ’@’\n",
    "'\\u0152'               # ’Œ’"
   ]
  },
  {
   "cell_type": "markdown",
   "metadata": {},
   "source": [
    "_If we want to treat backslashes as normal characters, we add the `r` prefix (raw) to the string as in:_"
   ]
  },
  {
   "cell_type": "code",
   "execution_count": 26,
   "metadata": {},
   "outputs": [
    {
     "data": {
      "text/plain": [
       "'\\\\u0152'"
      ]
     },
     "execution_count": 26,
     "metadata": {},
     "output_type": "execute_result"
    }
   ],
   "source": [
    "r'\\N{COMMERCIAL AT}'   # ’\\\\N{COMMERCIAL AT}’\n",
    "r'\\x40'                # ’\\\\x40’\n",
    "r'\\100'                # ’\\\\100’\n",
    "r'\\u0152'              # ’\\\\u0152’"
   ]
  },
  {
   "cell_type": "markdown",
   "metadata": {},
   "source": [
    "##### 1.4.5 Formatting Strings"
   ]
  },
  {
   "cell_type": "markdown",
   "metadata": {},
   "source": [
    "_Python can interpolate variables inside strings. This process is called formatting and uses the `str.format()` function. The positions of the variables in the string are given by curly braces: `{}` that will be replaced by the arguments in `format()` in the same order as in:_"
   ]
  },
  {
   "cell_type": "code",
   "execution_count": 27,
   "metadata": {},
   "outputs": [
    {
     "data": {
      "text/plain": [
       "'my string is empty'"
      ]
     },
     "execution_count": 27,
     "metadata": {},
     "output_type": "execute_result"
    }
   ],
   "source": [
    "begin = 'my'\n",
    "'{} string {}'.format(begin, 'is empty')\n",
    "# ’my string is empty’"
   ]
  },
  {
   "cell_type": "code",
   "execution_count": 28,
   "metadata": {},
   "outputs": [
    {
     "data": {
      "text/plain": [
       "'my string is empty'"
      ]
     },
     "execution_count": 28,
     "metadata": {},
     "output_type": "execute_result"
    }
   ],
   "source": [
    "begin = 'my'\n",
    "'{0} string {1}'.format(begin, 'is empty')\n",
    "# ’my string is empty’"
   ]
  },
  {
   "cell_type": "markdown",
   "metadata": {},
   "source": [
    "_If the input string contains braces, we escape them by doubling them: `{{` for a literal { and `}}` for }._"
   ]
  },
  {
   "cell_type": "markdown",
   "metadata": {},
   "source": [
    "#### 1.5 Data Types"
   ]
  },
  {
   "cell_type": "markdown",
   "metadata": {},
   "source": [
    "_We return the type of a value with the `type()` function:_"
   ]
  },
  {
   "cell_type": "code",
   "execution_count": 29,
   "metadata": {},
   "outputs": [
    {
     "data": {
      "text/plain": [
       "NoneType"
      ]
     },
     "execution_count": 29,
     "metadata": {},
     "output_type": "execute_result"
    }
   ],
   "source": [
    "type(alphabet)     # <class ’str’>\n",
    "type(12)           # <class ’int’>\n",
    "type('12')         # <class ’str’>\n",
    "type(12.0)         # <class ’float’>\n",
    "type(True)         # <class ’bool’>\n",
    "type(1 < 2)        # <class ’bool’>\n",
    "type(None)         # <class ’NoneType’>"
   ]
  },
  {
   "cell_type": "markdown",
   "metadata": {},
   "source": [
    "_Python supports the conversion of types using a function with the type name as `int()` or `str()`. When the conversion is not possible, Python throws an error:_"
   ]
  },
  {
   "cell_type": "code",
   "execution_count": 30,
   "metadata": {},
   "outputs": [
    {
     "ename": "ValueError",
     "evalue": "invalid literal for int() with base 10: '12.0'",
     "output_type": "error",
     "traceback": [
      "\u001b[0;31m---------------------------------------------------------------------------\u001b[0m",
      "\u001b[0;31mValueError\u001b[0m                                Traceback (most recent call last)",
      "\u001b[0;32m<ipython-input-30-0ab274bd349d>\u001b[0m in \u001b[0;36m<module>\u001b[0;34m\u001b[0m\n\u001b[1;32m      1\u001b[0m \u001b[0mint\u001b[0m\u001b[0;34m(\u001b[0m\u001b[0;34m'12'\u001b[0m\u001b[0;34m)\u001b[0m         \u001b[0;31m# 12\u001b[0m\u001b[0;34m\u001b[0m\u001b[0;34m\u001b[0m\u001b[0m\n\u001b[1;32m      2\u001b[0m \u001b[0mstr\u001b[0m\u001b[0;34m(\u001b[0m\u001b[0;36m12\u001b[0m\u001b[0;34m)\u001b[0m           \u001b[0;31m# ’12’\u001b[0m\u001b[0;34m\u001b[0m\u001b[0;34m\u001b[0m\u001b[0m\n\u001b[0;32m----> 3\u001b[0;31m \u001b[0mint\u001b[0m\u001b[0;34m(\u001b[0m\u001b[0;34m'12.0'\u001b[0m\u001b[0;34m)\u001b[0m       \u001b[0;31m# ValueError\u001b[0m\u001b[0;34m\u001b[0m\u001b[0;34m\u001b[0m\u001b[0m\n\u001b[0m\u001b[1;32m      4\u001b[0m \u001b[0mint\u001b[0m\u001b[0;34m(\u001b[0m\u001b[0malphabet\u001b[0m\u001b[0;34m)\u001b[0m     \u001b[0;31m# ValueError\u001b[0m\u001b[0;34m\u001b[0m\u001b[0;34m\u001b[0m\u001b[0m\n\u001b[1;32m      5\u001b[0m \u001b[0mint\u001b[0m\u001b[0;34m(\u001b[0m\u001b[0;32mTrue\u001b[0m\u001b[0;34m)\u001b[0m         \u001b[0;31m# 1\u001b[0m\u001b[0;34m\u001b[0m\u001b[0;34m\u001b[0m\u001b[0m\n",
      "\u001b[0;31mValueError\u001b[0m: invalid literal for int() with base 10: '12.0'"
     ]
    }
   ],
   "source": [
    "int('12')         # 12\n",
    "str(12)           # ’12’\n",
    "int('12.0')       # ValueError\n",
    "int(alphabet)     # ValueError\n",
    "int(True)         # 1\n",
    "int(False)        # 0\n",
    "bool(7)           # True\n",
    "bool(0)           # False\n",
    "bool(None)        # False"
   ]
  },
  {
   "cell_type": "markdown",
   "metadata": {},
   "source": [
    "#### 1.6 Data Structures"
   ]
  },
  {
   "cell_type": "markdown",
   "metadata": {},
   "source": [
    "##### 1.6.1 Lists\n",
    "_Lists in Python are data structures that can hold any number of elements of any type. Like in strings, each element has a position, where we can read data using the position index. We can also write data to a specific index and a list grows or shrinks automatically when elements are appended, inserted, or deleted. Python manages the memory without any intervention from the programmer._"
   ]
  },
  {
   "cell_type": "code",
   "execution_count": 31,
   "metadata": {},
   "outputs": [
    {
     "ename": "IndexError",
     "evalue": "list index out of range",
     "output_type": "error",
     "traceback": [
      "\u001b[0;31m---------------------------------------------------------------------------\u001b[0m",
      "\u001b[0;31mIndexError\u001b[0m                                Traceback (most recent call last)",
      "\u001b[0;32m<ipython-input-31-89946145e61b>\u001b[0m in \u001b[0;36m<module>\u001b[0;34m\u001b[0m\n\u001b[1;32m      5\u001b[0m \u001b[0mlist2\u001b[0m\u001b[0;34m[\u001b[0m\u001b[0;36m1\u001b[0m\u001b[0;34m]\u001b[0m \u001b[0;34m=\u001b[0m \u001b[0;36m8\u001b[0m\u001b[0;34m\u001b[0m\u001b[0;34m\u001b[0m\u001b[0m\n\u001b[1;32m      6\u001b[0m \u001b[0mlist2\u001b[0m            \u001b[0;31m# [1, 8, 3]\u001b[0m\u001b[0;34m\u001b[0m\u001b[0;34m\u001b[0m\u001b[0m\n\u001b[0;32m----> 7\u001b[0;31m \u001b[0mlist2\u001b[0m\u001b[0;34m[\u001b[0m\u001b[0;36m4\u001b[0m\u001b[0;34m]\u001b[0m         \u001b[0;31m# Index error\u001b[0m\u001b[0;34m\u001b[0m\u001b[0;34m\u001b[0m\u001b[0m\n\u001b[0m",
      "\u001b[0;31mIndexError\u001b[0m: list index out of range"
     ]
    }
   ],
   "source": [
    "list1 = []       # An empty list\n",
    "list1 = list()   # Another way to create an empty list\n",
    "list2 = [1,2,3]  # List containing 1, 2, and 3\n",
    "list2[1]         # 2\n",
    "list2[1] = 8\n",
    "list2            # [1, 8, 3]\n",
    "list2[4]         # Index error"
   ]
  },
  {
   "cell_type": "markdown",
   "metadata": {},
   "source": [
    "_Lists can contain elements of different types:_"
   ]
  },
  {
   "cell_type": "code",
   "execution_count": 32,
   "metadata": {},
   "outputs": [
    {
     "data": {
      "text/plain": [
       "[1, 3.14, 'Prolog', 'my string']"
      ]
     },
     "execution_count": 32,
     "metadata": {},
     "output_type": "execute_result"
    }
   ],
   "source": [
    "var1 = 3.14\n",
    "var2 = 'my string'\n",
    "list3 = [1, var1, 'Prolog', var2]\n",
    "list3            # [1, 3.14, ’Prolog’, ’my string’]"
   ]
  },
  {
   "cell_type": "code",
   "execution_count": 33,
   "metadata": {},
   "outputs": [
    {
     "data": {
      "text/plain": [
       "[1, 2.72, 'Perl', 'Python', 'my string']"
      ]
     },
     "execution_count": 33,
     "metadata": {},
     "output_type": "execute_result"
    }
   ],
   "source": [
    "list3[1:3]       # [3.14, ’Prolog’]\n",
    "list3[1:3] = [2.72, 'Perl', 'Python']\n",
    "list3            # [1, 2.72, ’Perl’, ’Python’, ’my string’]"
   ]
  },
  {
   "cell_type": "markdown",
   "metadata": {},
   "source": [
    "_We can create lists of lists:_"
   ]
  },
  {
   "cell_type": "code",
   "execution_count": 34,
   "metadata": {},
   "outputs": [
    {
     "data": {
      "text/plain": [
       "[[1, 8, 3], [1, 2.72, 'Perl', 'Python', 'my string']]"
      ]
     },
     "execution_count": 34,
     "metadata": {},
     "output_type": "execute_result"
    }
   ],
   "source": [
    "list4 = [list2, list3]\n",
    "list4\n",
    "# [[1, 8, 3], [1, 2.72, ’Perl’, ’Python’, ’my string’]]"
   ]
  },
  {
   "cell_type": "markdown",
   "metadata": {},
   "source": [
    "_where we access the elements of the inner lists with a sequence of indices between square brackets:_"
   ]
  },
  {
   "cell_type": "code",
   "execution_count": 35,
   "metadata": {},
   "outputs": [
    {
     "data": {
      "text/plain": [
       "'Python'"
      ]
     },
     "execution_count": 35,
     "metadata": {},
     "output_type": "execute_result"
    }
   ],
   "source": [
    "list4[0][1]       # 8\n",
    "list4[1][3]       # ’Python’"
   ]
  },
  {
   "cell_type": "markdown",
   "metadata": {},
   "source": [
    "_We can also assign complete list to a variable and a list to a list of variables as in:_"
   ]
  },
  {
   "cell_type": "code",
   "execution_count": 36,
   "metadata": {},
   "outputs": [],
   "source": [
    "list5 = list2\n",
    "[v1,v2,v3] = list5"
   ]
  },
  {
   "cell_type": "markdown",
   "metadata": {},
   "source": [
    "_where `list5` contains a copy of `list2`, and `v`, `v2`, `v3` contain, respectively, 1, 8, and 3._"
   ]
  },
  {
   "cell_type": "markdown",
   "metadata": {},
   "source": [
    "##### 1.6.2 Built-in List Operations and Functions\n",
    "_Lists have built-in operators and functions. Like for strings, we can use the `+` and `*` operators to concatenate and repeat lists:_"
   ]
  },
  {
   "cell_type": "code",
   "execution_count": 37,
   "metadata": {},
   "outputs": [
    {
     "data": {
      "text/plain": [
       "[0.0, 0.0, 0.0, 0.0]"
      ]
     },
     "execution_count": 37,
     "metadata": {},
     "output_type": "execute_result"
    }
   ],
   "source": [
    "list2                         # [1, 8, 3]\n",
    "list3[:-1]                    # [1, 2.72, ’Perl’, ’Python’]\n",
    "[1, 2, 3] + ['a', 'b']        # [1, 2, 3, ’a’, ’b’]\n",
    "list2[:2] + list3[2:-1]       # [1, 8, ’Perl’, ’Python’]\n",
    "list2 * 2                     # [1, 8, 3, 1, 8, 3]\n",
    "[0.0] * 4                     # Initializes a list of four 0.0s\n",
    "# [0.0, 0.0, 0.0, 0.0]"
   ]
  },
  {
   "cell_type": "markdown",
   "metadata": {},
   "source": [
    "_In addition to operators, lists have functions that include:_\n",
    "* `list.extend(elements)` that extends the list with the elements of elements passed as argument;\n",
    "* `list.append(element)` that appends element to the end of the list;\n",
    "* `list.insert(idx, element)` that inserts element at index idx;\n",
    "* `list.remove(value)` that removes the first occurrence of value;\n",
    "* `list.pop(i)`, that removes the element at index i and returns its value; If there is no index, list.pop() takes the last element in the list;\n",
    "* `del list[i]`, a statement that also removes the element at index i. In addition, `del` can remove slices, clear the whole list, or delete the list variable;\n",
    "* `len()`, a function that returns the length of list;\n",
    "* `list.sort()` that sorts the list;\n",
    "* `sorted()` a function that returns a sorted list."
   ]
  },
  {
   "cell_type": "code",
   "execution_count": 38,
   "metadata": {},
   "outputs": [],
   "source": [
    "list2                          # [1, 8, 3]\n",
    "list2[1] = 2                   # [1, 2, 3]\n",
    "len(list2)                     # 3\n",
    "list2.extend([4, 5])           # [1, 2, 3, 4, 5]\n",
    "list2.append(6)                # [1, 2, 3, 4, 5, 6]\n",
    "list2.append([7, 8])           # [1, 2, 3, 4, 5, 6, [7, 8]]\n",
    "list2.pop(-1)                  # [1, 2, 3, 4, 5, 6]\n",
    "list2.remove(1)                # [2, 3, 4, 5, 6]\n",
    "list2.insert(0, 'a')           # [’a’,2,3,4,5,6]"
   ]
  },
  {
   "cell_type": "markdown",
   "metadata": {},
   "source": [
    "_To know all the functions associated with a type, we can use `dir()`, as in:_"
   ]
  },
  {
   "cell_type": "code",
   "execution_count": 39,
   "metadata": {},
   "outputs": [
    {
     "data": {
      "text/plain": [
       "['__add__',\n",
       " '__class__',\n",
       " '__contains__',\n",
       " '__delattr__',\n",
       " '__delitem__',\n",
       " '__dir__',\n",
       " '__doc__',\n",
       " '__eq__',\n",
       " '__format__',\n",
       " '__ge__',\n",
       " '__getattribute__',\n",
       " '__getitem__',\n",
       " '__gt__',\n",
       " '__hash__',\n",
       " '__iadd__',\n",
       " '__imul__',\n",
       " '__init__',\n",
       " '__init_subclass__',\n",
       " '__iter__',\n",
       " '__le__',\n",
       " '__len__',\n",
       " '__lt__',\n",
       " '__mul__',\n",
       " '__ne__',\n",
       " '__new__',\n",
       " '__reduce__',\n",
       " '__reduce_ex__',\n",
       " '__repr__',\n",
       " '__reversed__',\n",
       " '__rmul__',\n",
       " '__setattr__',\n",
       " '__setitem__',\n",
       " '__sizeof__',\n",
       " '__str__',\n",
       " '__subclasshook__',\n",
       " 'append',\n",
       " 'clear',\n",
       " 'copy',\n",
       " 'count',\n",
       " 'extend',\n",
       " 'index',\n",
       " 'insert',\n",
       " 'pop',\n",
       " 'remove',\n",
       " 'reverse',\n",
       " 'sort']"
      ]
     },
     "execution_count": 39,
     "metadata": {},
     "output_type": "execute_result"
    }
   ],
   "source": [
    "dir(list)"
   ]
  },
  {
   "cell_type": "markdown",
   "metadata": {},
   "source": [
    "_or_"
   ]
  },
  {
   "cell_type": "code",
   "execution_count": 40,
   "metadata": {},
   "outputs": [
    {
     "data": {
      "text/plain": [
       "['__add__',\n",
       " '__class__',\n",
       " '__contains__',\n",
       " '__delattr__',\n",
       " '__dir__',\n",
       " '__doc__',\n",
       " '__eq__',\n",
       " '__format__',\n",
       " '__ge__',\n",
       " '__getattribute__',\n",
       " '__getitem__',\n",
       " '__getnewargs__',\n",
       " '__gt__',\n",
       " '__hash__',\n",
       " '__init__',\n",
       " '__init_subclass__',\n",
       " '__iter__',\n",
       " '__le__',\n",
       " '__len__',\n",
       " '__lt__',\n",
       " '__mod__',\n",
       " '__mul__',\n",
       " '__ne__',\n",
       " '__new__',\n",
       " '__reduce__',\n",
       " '__reduce_ex__',\n",
       " '__repr__',\n",
       " '__rmod__',\n",
       " '__rmul__',\n",
       " '__setattr__',\n",
       " '__sizeof__',\n",
       " '__str__',\n",
       " '__subclasshook__',\n",
       " 'capitalize',\n",
       " 'casefold',\n",
       " 'center',\n",
       " 'count',\n",
       " 'encode',\n",
       " 'endswith',\n",
       " 'expandtabs',\n",
       " 'find',\n",
       " 'format',\n",
       " 'format_map',\n",
       " 'index',\n",
       " 'isalnum',\n",
       " 'isalpha',\n",
       " 'isascii',\n",
       " 'isdecimal',\n",
       " 'isdigit',\n",
       " 'isidentifier',\n",
       " 'islower',\n",
       " 'isnumeric',\n",
       " 'isprintable',\n",
       " 'isspace',\n",
       " 'istitle',\n",
       " 'isupper',\n",
       " 'join',\n",
       " 'ljust',\n",
       " 'lower',\n",
       " 'lstrip',\n",
       " 'maketrans',\n",
       " 'partition',\n",
       " 'replace',\n",
       " 'rfind',\n",
       " 'rindex',\n",
       " 'rjust',\n",
       " 'rpartition',\n",
       " 'rsplit',\n",
       " 'rstrip',\n",
       " 'split',\n",
       " 'splitlines',\n",
       " 'startswith',\n",
       " 'strip',\n",
       " 'swapcase',\n",
       " 'title',\n",
       " 'translate',\n",
       " 'upper',\n",
       " 'zfill']"
      ]
     },
     "execution_count": 40,
     "metadata": {},
     "output_type": "execute_result"
    }
   ],
   "source": [
    "dir(str)"
   ]
  },
  {
   "cell_type": "markdown",
   "metadata": {},
   "source": [
    "_To have help on a specific type or function, we can use help as in:_"
   ]
  },
  {
   "cell_type": "code",
   "execution_count": 41,
   "metadata": {},
   "outputs": [
    {
     "name": "stdout",
     "output_type": "stream",
     "text": [
      "Help on class list in module builtins:\n",
      "\n",
      "class list(object)\n",
      " |  list(iterable=(), /)\n",
      " |  \n",
      " |  Built-in mutable sequence.\n",
      " |  \n",
      " |  If no argument is given, the constructor creates a new empty list.\n",
      " |  The argument must be an iterable if specified.\n",
      " |  \n",
      " |  Methods defined here:\n",
      " |  \n",
      " |  __add__(self, value, /)\n",
      " |      Return self+value.\n",
      " |  \n",
      " |  __contains__(self, key, /)\n",
      " |      Return key in self.\n",
      " |  \n",
      " |  __delitem__(self, key, /)\n",
      " |      Delete self[key].\n",
      " |  \n",
      " |  __eq__(self, value, /)\n",
      " |      Return self==value.\n",
      " |  \n",
      " |  __ge__(self, value, /)\n",
      " |      Return self>=value.\n",
      " |  \n",
      " |  __getattribute__(self, name, /)\n",
      " |      Return getattr(self, name).\n",
      " |  \n",
      " |  __getitem__(...)\n",
      " |      x.__getitem__(y) <==> x[y]\n",
      " |  \n",
      " |  __gt__(self, value, /)\n",
      " |      Return self>value.\n",
      " |  \n",
      " |  __iadd__(self, value, /)\n",
      " |      Implement self+=value.\n",
      " |  \n",
      " |  __imul__(self, value, /)\n",
      " |      Implement self*=value.\n",
      " |  \n",
      " |  __init__(self, /, *args, **kwargs)\n",
      " |      Initialize self.  See help(type(self)) for accurate signature.\n",
      " |  \n",
      " |  __iter__(self, /)\n",
      " |      Implement iter(self).\n",
      " |  \n",
      " |  __le__(self, value, /)\n",
      " |      Return self<=value.\n",
      " |  \n",
      " |  __len__(self, /)\n",
      " |      Return len(self).\n",
      " |  \n",
      " |  __lt__(self, value, /)\n",
      " |      Return self<value.\n",
      " |  \n",
      " |  __mul__(self, value, /)\n",
      " |      Return self*value.\n",
      " |  \n",
      " |  __ne__(self, value, /)\n",
      " |      Return self!=value.\n",
      " |  \n",
      " |  __repr__(self, /)\n",
      " |      Return repr(self).\n",
      " |  \n",
      " |  __reversed__(self, /)\n",
      " |      Return a reverse iterator over the list.\n",
      " |  \n",
      " |  __rmul__(self, value, /)\n",
      " |      Return value*self.\n",
      " |  \n",
      " |  __setitem__(self, key, value, /)\n",
      " |      Set self[key] to value.\n",
      " |  \n",
      " |  __sizeof__(self, /)\n",
      " |      Return the size of the list in memory, in bytes.\n",
      " |  \n",
      " |  append(self, object, /)\n",
      " |      Append object to the end of the list.\n",
      " |  \n",
      " |  clear(self, /)\n",
      " |      Remove all items from list.\n",
      " |  \n",
      " |  copy(self, /)\n",
      " |      Return a shallow copy of the list.\n",
      " |  \n",
      " |  count(self, value, /)\n",
      " |      Return number of occurrences of value.\n",
      " |  \n",
      " |  extend(self, iterable, /)\n",
      " |      Extend list by appending elements from the iterable.\n",
      " |  \n",
      " |  index(self, value, start=0, stop=9223372036854775807, /)\n",
      " |      Return first index of value.\n",
      " |      \n",
      " |      Raises ValueError if the value is not present.\n",
      " |  \n",
      " |  insert(self, index, object, /)\n",
      " |      Insert object before index.\n",
      " |  \n",
      " |  pop(self, index=-1, /)\n",
      " |      Remove and return item at index (default last).\n",
      " |      \n",
      " |      Raises IndexError if list is empty or index is out of range.\n",
      " |  \n",
      " |  remove(self, value, /)\n",
      " |      Remove first occurrence of value.\n",
      " |      \n",
      " |      Raises ValueError if the value is not present.\n",
      " |  \n",
      " |  reverse(self, /)\n",
      " |      Reverse *IN PLACE*.\n",
      " |  \n",
      " |  sort(self, /, *, key=None, reverse=False)\n",
      " |      Sort the list in ascending order and return None.\n",
      " |      \n",
      " |      The sort is in-place (i.e. the list itself is modified) and stable (i.e. the\n",
      " |      order of two equal elements is maintained).\n",
      " |      \n",
      " |      If a key function is given, apply it once to each list item and sort them,\n",
      " |      ascending or descending, according to their function values.\n",
      " |      \n",
      " |      The reverse flag can be set to sort in descending order.\n",
      " |  \n",
      " |  ----------------------------------------------------------------------\n",
      " |  Static methods defined here:\n",
      " |  \n",
      " |  __new__(*args, **kwargs) from builtins.type\n",
      " |      Create and return a new object.  See help(type) for accurate signature.\n",
      " |  \n",
      " |  ----------------------------------------------------------------------\n",
      " |  Data and other attributes defined here:\n",
      " |  \n",
      " |  __hash__ = None\n",
      "\n"
     ]
    }
   ],
   "source": [
    "help(list)"
   ]
  },
  {
   "cell_type": "markdown",
   "metadata": {},
   "source": [
    "_and_"
   ]
  },
  {
   "cell_type": "code",
   "execution_count": 42,
   "metadata": {},
   "outputs": [
    {
     "name": "stdout",
     "output_type": "stream",
     "text": [
      "Help on method_descriptor:\n",
      "\n",
      "append(self, object, /)\n",
      "    Append object to the end of the list.\n",
      "\n"
     ]
    }
   ],
   "source": [
    "help(list.append)"
   ]
  },
  {
   "cell_type": "markdown",
   "metadata": {},
   "source": [
    "##### 1.6.3 Tuples\n",
    "_Tuples are sequences enclosed in parentheses. They are very similar to lists, except that they are immutable. Once created, we access the elements of a tuple, including slices, using the same notation as with the lists._"
   ]
  },
  {
   "cell_type": "code",
   "execution_count": 43,
   "metadata": {},
   "outputs": [
    {
     "data": {
      "text/plain": [
       "(2, 3, 4)"
      ]
     },
     "execution_count": 43,
     "metadata": {},
     "output_type": "execute_result"
    }
   ],
   "source": [
    "tuple1 = ()               # An empty tuple\n",
    "tuple1 = tuple()          # Another way to create an empty tuple\n",
    "tuple2 = (1, 2, 3, 4)\n",
    "tuple2[3]                 # 4\n",
    "tuple2[1:4]               # (2, 3, 4)"
   ]
  },
  {
   "cell_type": "markdown",
   "metadata": {},
   "source": [
    "_Parentheses enclosing one item could be ambiguous as `(1)`, for example, as it already denotes an arithmetic expression. That is why tuples of one item require a trailing comma:_"
   ]
  },
  {
   "cell_type": "code",
   "execution_count": 44,
   "metadata": {},
   "outputs": [
    {
     "data": {
      "text/plain": [
       "int"
      ]
     },
     "execution_count": 44,
     "metadata": {},
     "output_type": "execute_result"
    }
   ],
   "source": [
    "type((1))       # <class ’int’>\n",
    "                # Arithmetic expression corresponding to integer 1"
   ]
  },
  {
   "cell_type": "code",
   "execution_count": 45,
   "metadata": {},
   "outputs": [
    {
     "data": {
      "text/plain": [
       "tuple"
      ]
     },
     "execution_count": 45,
     "metadata": {},
     "output_type": "execute_result"
    }
   ],
   "source": [
    "type((1,))      # <class ’tuple’>\n",
    "                # A tuple consisting of one item: integer 1"
   ]
  },
  {
   "cell_type": "markdown",
   "metadata": {},
   "source": [
    "_We can convert lists to tuples and tuples to lists:_"
   ]
  },
  {
   "cell_type": "code",
   "execution_count": 46,
   "metadata": {},
   "outputs": [
    {
     "data": {
      "text/plain": [
       "[1]"
      ]
     },
     "execution_count": 46,
     "metadata": {},
     "output_type": "execute_result"
    }
   ],
   "source": [
    "list6 = ['a', 'b', 'c']\n",
    "tuple3 = tuple(list6)       # conversion to a tuple: (’a’, ’b’, ’c’)\n",
    "type(tuple3)                # <class ’tuple’>\n",
    "list7 = list(tuple2)        # [1, 2, 3, 4]\n",
    "tuple([1])                  # (1,)\n",
    "                            # conversion to a tuple of one item\n",
    "list((1,))                  # [1]\n",
    "                            # conversion to a list of one item"
   ]
  },
  {
   "cell_type": "markdown",
   "metadata": {},
   "source": [
    "_Tuple can include elements of different types. If an inner element is mutable, we can change its value as in:_"
   ]
  },
  {
   "cell_type": "code",
   "execution_count": 47,
   "metadata": {},
   "outputs": [],
   "source": [
    "tuple4 = (tuple2, list6)    # ((1, 2, 3, 4), [’a’, ’b’, ’c’])\n",
    "tuple4[0]                   # (1, 2, 3, 4),\n",
    "tuple4[1]                   # [’a’, ’b’, ’c’]\n",
    "tuple4[0][2]                # 3\n",
    "tuple4[1][1]                # ’b’\n",
    "tuple4[1][1] = 'β'          # ((1, 2, 3, 4), [’a’, ’β’, ’c’])"
   ]
  },
  {
   "cell_type": "markdown",
   "metadata": {},
   "source": [
    "##### 1.6.4 Sets\n",
    "_Sets are collections that have no duplicates. We create a set with a sequence enclosed in curly braces or an empty set with the `set()` function. We can then add and remove elements with the `add()` and `remove()` functions:_"
   ]
  },
  {
   "cell_type": "code",
   "execution_count": 48,
   "metadata": {},
   "outputs": [],
   "source": [
    "set1 = set()                        # An empty set\n",
    "set2 = {'a', 'b', 'c', 'c', 'b'}    # {’a’, ’b’, ’c’}\n",
    "set2.add('d')                       # {’a’, ’b’, ’c’, ’d’}\n",
    "set2.remove('a')                    # {’b’, ’c’, ’d’}"
   ]
  },
  {
   "cell_type": "markdown",
   "metadata": {},
   "source": [
    "_Sets are useful to extract the unique elements of lists or strings as in:_"
   ]
  },
  {
   "cell_type": "code",
   "execution_count": 49,
   "metadata": {},
   "outputs": [],
   "source": [
    "list8 = ['a', 'b', 'c', 'c', 'b']\n",
    "set3 = set(list8)                   # {’a’, ’b’, ’c’}\n",
    "iliad_chars = set(iliad.lower())\n",
    "# The set of unique characters of the iliad string"
   ]
  },
  {
   "cell_type": "markdown",
   "metadata": {},
   "source": [
    "_Sets are unordered. We can create a sorted list of them using `sorted()` as in:_"
   ]
  },
  {
   "cell_type": "code",
   "execution_count": 50,
   "metadata": {},
   "outputs": [
    {
     "data": {
      "text/plain": [
       "['\\n',\n",
       " ' ',\n",
       " ',',\n",
       " '.',\n",
       " 'a',\n",
       " 'b',\n",
       " 'c',\n",
       " 'd',\n",
       " 'e',\n",
       " 'f',\n",
       " 'g',\n",
       " 'h',\n",
       " 'i',\n",
       " 'l',\n",
       " 'n',\n",
       " 'o',\n",
       " 'p',\n",
       " 'r',\n",
       " 's',\n",
       " 't',\n",
       " 'u']"
      ]
     },
     "execution_count": 50,
     "metadata": {},
     "output_type": "execute_result"
    }
   ],
   "source": [
    "sorted(iliad_chars)"
   ]
  },
  {
   "cell_type": "markdown",
   "metadata": {},
   "source": [
    "##### 1.6.5 Built-in Set Functions\n",
    "_The `set` library includes the classical set operations:_\n",
    "* `set1.intersection(set2, ...)`\n",
    "* `set1.union(set2, ...)`\n",
    "* `set1.difference(set2, ...)`\n",
    "* `set1.symmetric_difference(set2)`\n",
    "* `set1.issuperset(set2)`\n",
    "* `set1.issubset(set2)`"
   ]
  },
  {
   "cell_type": "markdown",
   "metadata": {},
   "source": [
    "_A few examples:_"
   ]
  },
  {
   "cell_type": "code",
   "execution_count": 51,
   "metadata": {},
   "outputs": [
    {
     "data": {
      "text/plain": [
       "{'a',\n",
       " 'b',\n",
       " 'c',\n",
       " 'd',\n",
       " 'e',\n",
       " 'f',\n",
       " 'g',\n",
       " 'h',\n",
       " 'i',\n",
       " 'l',\n",
       " 'n',\n",
       " 'o',\n",
       " 'p',\n",
       " 'r',\n",
       " 's',\n",
       " 't',\n",
       " 'u'}"
      ]
     },
     "execution_count": 51,
     "metadata": {},
     "output_type": "execute_result"
    }
   ],
   "source": [
    "set2.intersection(set3)                  # {’c’, ’b’}\n",
    "set2.union(set3)\n",
    "set2.symmetric_difference(set3)          # {’d’, ’b’, ’a’, ’c’}\n",
    "set2.issubset(set3)                      # {’a’, ’d’}\n",
    "iliad_chars.intersection(set(alphabet))\n",
    "# characters of the iliad string that are letters:\n",
    "# {’a’, ’s’, ’g’, ’p’, ’u’, ’h’, ’c’, ’l’, ’i’,\n",
    "#  ’d’, ’o’, ’e’, ’b’, ’t’, ’f’, ’r’, ’n’}"
   ]
  },
  {
   "cell_type": "markdown",
   "metadata": {},
   "source": [
    "#### 1.6 Dictionaries\n",
    "_Dictionaries are collections, where the values are indexed by keys instead of ordered positions, like in lists or tuples. Counting the words of a text is a very frequent operation in natural language processing, as we will see in the rest of this book. Dictionaries are the most appropriate data structures to carry this out, where we use the keys to store the words and the values to store the counts._"
   ]
  },
  {
   "cell_type": "markdown",
   "metadata": {},
   "source": [
    "_We create a dictionary by assigning it a set of initial key-value pairs, possibly empty, where keys and values are separated by a colon, and then adding keys and values using the same syntax as with the lists. The statements:_"
   ]
  },
  {
   "cell_type": "code",
   "execution_count": 52,
   "metadata": {},
   "outputs": [
    {
     "data": {
      "text/plain": [
       "{'a': 21, 'And': 10, 'the': 18}"
      ]
     },
     "execution_count": 52,
     "metadata": {},
     "output_type": "execute_result"
    }
   ],
   "source": [
    "wordcount = {}                # We create an empty dictionary\n",
    "wordcount = dict()            # Another way to create a dictionary\n",
    "wordcount['a'] = 21           # The key ’a’ has value 21\n",
    "wordcount['And'] = 10         # ’And’ has value 10\n",
    "wordcount['the'] = 18\n",
    "wordcount"
   ]
  },
  {
   "cell_type": "markdown",
   "metadata": {},
   "source": [
    "_create the dictionary `wordcount` and add three keys: `a`, `And`, `the`, whose values are 21, 10, and 18._"
   ]
  },
  {
   "cell_type": "markdown",
   "metadata": {},
   "source": [
    "_A dictionary entry is created when a value is assigned to it. Its existence can be tested using the `in` Boolean function:_"
   ]
  },
  {
   "cell_type": "code",
   "execution_count": 53,
   "metadata": {},
   "outputs": [
    {
     "data": {
      "text/plain": [
       "True"
      ]
     },
     "execution_count": 53,
     "metadata": {},
     "output_type": "execute_result"
    }
   ],
   "source": [
    "'And' in wordcount            # True"
   ]
  },
  {
   "cell_type": "code",
   "execution_count": 54,
   "metadata": {},
   "outputs": [
    {
     "data": {
      "text/plain": [
       "False"
      ]
     },
     "execution_count": 54,
     "metadata": {},
     "output_type": "execute_result"
    }
   ],
   "source": [
    "'is' in wordcount             # False"
   ]
  },
  {
   "cell_type": "markdown",
   "metadata": {},
   "source": [
    "_To access a key in a dictionary without risking an error, we can use the `get()` function that has a default value if the key is undefined:_\n",
    "* `get(’And’)` returns the value of the key or `None` if undefined;\n",
    "* `get(’is’, val)` returns the value of the key or val if undefined."
   ]
  },
  {
   "cell_type": "code",
   "execution_count": 55,
   "metadata": {},
   "outputs": [],
   "source": [
    "wordcount.get('And')          # 10\n",
    "wordcount.get('is', 0)        # 0\n",
    "wordcount.get('is')           # None"
   ]
  },
  {
   "cell_type": "markdown",
   "metadata": {},
   "source": [
    "##### 1.6.7 Built-in Dictionary Functions\n",
    "_Dictionaries have a set of built-in functions. The most useful ones are:_\n",
    "* `keys()` returns the keys of a dictionary;\n",
    "* `values()` returns the values of a dictionary;\n",
    "* `items()` returns the key-value pairs of a dictionary."
   ]
  },
  {
   "cell_type": "markdown",
   "metadata": {},
   "source": [
    "_A few examples:_"
   ]
  },
  {
   "cell_type": "code",
   "execution_count": 56,
   "metadata": {},
   "outputs": [
    {
     "data": {
      "text/plain": [
       "dict_items([('a', 21), ('And', 10), ('the', 18)])"
      ]
     },
     "execution_count": 56,
     "metadata": {},
     "output_type": "execute_result"
    }
   ],
   "source": [
    "wordcount.keys()               # dict_keys([’the’, ’a’, ’And’])\n",
    "wordcount.values()             # dict_values([18, 21, 10])\n",
    "wordcount.items()              # dict_items([(’the’, 18), (’a’, 21),\n",
    "                               # (’And’, 10)])"
   ]
  },
  {
   "cell_type": "markdown",
   "metadata": {},
   "source": [
    "##### 1.6.8 Counting the Letters of a Text"
   ]
  },
  {
   "cell_type": "markdown",
   "metadata": {},
   "source": [
    "_We use the `for` `in` statement to scan the `iliad` text `set` in lowercase letters; we increment the frequency of the current letter if it is in the dictionary or we set it to 1, if we have not seen it before. The complete program is:_"
   ]
  },
  {
   "cell_type": "code",
   "execution_count": 57,
   "metadata": {},
   "outputs": [
    {
     "data": {
      "text/plain": [
       "{'s': 10,\n",
       " 'i': 3,\n",
       " 'n': 6,\n",
       " 'g': 4,\n",
       " 'o': 8,\n",
       " 'd': 2,\n",
       " 'e': 9,\n",
       " 't': 6,\n",
       " 'h': 6,\n",
       " 'a': 6,\n",
       " 'r': 2,\n",
       " 'f': 2,\n",
       " 'c': 3,\n",
       " 'l': 6,\n",
       " 'p': 2,\n",
       " 'u': 4,\n",
       " 'b': 1}"
      ]
     },
     "execution_count": 57,
     "metadata": {},
     "output_type": "execute_result"
    }
   ],
   "source": [
    "letter_count = {}\n",
    "for letter in iliad.lower():\n",
    "    if letter in alphabet:\n",
    "        if letter in letter_count:\n",
    "            letter_count[letter] += 1\n",
    "        else:\n",
    "            letter_count[letter] = 1\n",
    "letter_count"
   ]
  },
  {
   "cell_type": "markdown",
   "metadata": {},
   "source": [
    "_To print the result in alphabetical order, we extract the keys; we sort them; and we print the key-value pairs. We do all this with this loop:_"
   ]
  },
  {
   "cell_type": "code",
   "execution_count": 58,
   "metadata": {},
   "outputs": [
    {
     "name": "stdout",
     "output_type": "stream",
     "text": [
      "a 6\n",
      "b 1\n",
      "c 3\n",
      "d 2\n",
      "e 9\n",
      "f 2\n",
      "g 4\n",
      "h 6\n",
      "i 3\n",
      "l 6\n",
      "n 6\n",
      "o 8\n",
      "p 2\n",
      "r 2\n",
      "s 10\n",
      "t 6\n",
      "u 4\n"
     ]
    }
   ],
   "source": [
    "for letter in sorted(letter_count.keys()):\n",
    "    print(letter, letter_count[letter])"
   ]
  },
  {
   "cell_type": "markdown",
   "metadata": {},
   "source": [
    "_By default, `sorted()` sorts the elements alphabetically. If we want to sort the letters by frequency, we can use the key argument of `sorted()`. key specifies a function whose result is used to compare the elements. In our case, we want to compare the frequencies, that is the values of the dictionary. We saw that we extract these values with the `get` method, here `letter_count.get`, and we hence assign it to key._\n",
    "\n",
    "_Using `get`, the letters will be sorted from the least frequent to the most frequent. If we want to reverse this order, we use the third argument, `reverse`, a Boolean value, that we set to `True`._"
   ]
  },
  {
   "cell_type": "code",
   "execution_count": 59,
   "metadata": {},
   "outputs": [
    {
     "name": "stdout",
     "output_type": "stream",
     "text": [
      "s 10\n",
      "e 9\n",
      "o 8\n",
      "n 6\n",
      "t 6\n",
      "h 6\n",
      "a 6\n",
      "l 6\n",
      "g 4\n",
      "u 4\n",
      "i 3\n",
      "c 3\n",
      "d 2\n",
      "r 2\n",
      "f 2\n",
      "p 2\n",
      "b 1\n"
     ]
    }
   ],
   "source": [
    "for letter in sorted(letter_count.keys(), \n",
    "                     key=letter_count.get, reverse=True):\n",
    "    print(letter, letter_count[letter])"
   ]
  },
  {
   "cell_type": "markdown",
   "metadata": {},
   "source": [
    "#### 1.7 Control Structures\n",
    "_In Python, the control flow statements include conditionals, loops, exceptions, and functions. These statements consist of two parts, the header and the suite. The header starts with a keyword like `if`, `for`, or `while` and ends with a colon. The suite consists of the statement sequence controlled by the header; we have seen that the statement in the suite must be indented with four characters._"
   ]
  },
  {
   "cell_type": "markdown",
   "metadata": {},
   "source": [
    "##### 1.7.1 Conditionals\n",
    "_Python expresses conditions with the `if`, `elif`, and `else` statements as in:_"
   ]
  },
  {
   "cell_type": "code",
   "execution_count": 60,
   "metadata": {},
   "outputs": [
    {
     "name": "stdout",
     "output_type": "stream",
     "text": [
      "Punctuation\n"
     ]
    }
   ],
   "source": [
    "digits = '0123456789'\n",
    "punctuation = '.,;:?!'\n",
    "char = '.'\n",
    "\n",
    "if char in alphabet:\n",
    "    print('Letter')\n",
    "elif char in digits:\n",
    "    print('Number')\n",
    "elif char in punctuation:\n",
    "    print('Punctuation')\n",
    "else:\n",
    "    print('Other')"
   ]
  },
  {
   "cell_type": "markdown",
   "metadata": {},
   "source": [
    "##### 1.7.2 The `for` Loop\n",
    "_A `for` in loop in Python iterates over the elements of a sequence such as a string or a list. This differs from languages like Perl, C or Java, where the typical `for` iteration is over numbers. If we need to create such loops, Python has the `range(start, stop, step)` function that returns a sequence of numbers. Only one argument is required: `stop`. The variables `start` and `step` will default to 0 and 1._\n",
    "\n",
    "_The next program generates the integers from 0 to 99 and computes their sum:_"
   ]
  },
  {
   "cell_type": "code",
   "execution_count": 61,
   "metadata": {},
   "outputs": [
    {
     "name": "stdout",
     "output_type": "stream",
     "text": [
      "4950\n"
     ]
    }
   ],
   "source": [
    "sum = 0\n",
    "for i in range(100):\n",
    "    sum += i\n",
    "print(sum)\n",
    "# Sum of integers from 0 to 99: 4950\n",
    "# Using the built-in sum() function,\n",
    "# sum(range(100)) would produce the same result."
   ]
  },
  {
   "cell_type": "markdown",
   "metadata": {},
   "source": [
    "_We have seen how to iterate over a list and over indices using `range()`. Should we want to iterate over both, we can use the `enumerate()` function. `enumerate()` takes a sequence as argument and returns a sequence of `(index, element)` pairs, where element is an element of the sequence and index, its index.\n",
    "We can use `enumerate()` to get the letters of the alphabet and their index with the program:_"
   ]
  },
  {
   "cell_type": "code",
   "execution_count": 62,
   "metadata": {},
   "outputs": [
    {
     "name": "stdout",
     "output_type": "stream",
     "text": [
      "0 a\n",
      "1 b\n",
      "2 c\n",
      "3 d\n",
      "4 e\n",
      "5 f\n",
      "6 g\n",
      "7 h\n",
      "8 i\n",
      "9 j\n",
      "10 k\n",
      "11 l\n",
      "12 m\n",
      "13 n\n",
      "14 o\n",
      "15 p\n",
      "16 q\n",
      "17 r\n",
      "18 s\n",
      "19 t\n",
      "20 u\n",
      "21 v\n",
      "22 w\n",
      "23 x\n",
      "24 y\n",
      "25 z\n"
     ]
    }
   ],
   "source": [
    "for idx, letter in enumerate(alphabet):\n",
    "    print(idx, letter)"
   ]
  },
  {
   "cell_type": "markdown",
   "metadata": {},
   "source": [
    "##### 1.7.3 The `while` Loop\n",
    "_The `while` loop is an alternative to `for`, although less frequent in Python programs. This loop executes a block of statements as long as a condition is true. We can reformulate the counting `for` loop in Sect 1.7.2 using `while`:_"
   ]
  },
  {
   "cell_type": "code",
   "execution_count": 63,
   "metadata": {},
   "outputs": [
    {
     "name": "stdout",
     "output_type": "stream",
     "text": [
      "4950\n"
     ]
    }
   ],
   "source": [
    "sum, i = 0, 0\n",
    "while i < 100:\n",
    "    sum += i\n",
    "    i += 1\n",
    "print(sum)"
   ]
  },
  {
   "cell_type": "markdown",
   "metadata": {},
   "source": [
    "_Another possible structure is to use an infinite loop and a `break` statement to exit the loop:_"
   ]
  },
  {
   "cell_type": "code",
   "execution_count": 64,
   "metadata": {},
   "outputs": [
    {
     "name": "stdout",
     "output_type": "stream",
     "text": [
      "5050\n"
     ]
    }
   ],
   "source": [
    "while True:\n",
    "    sum += i\n",
    "    i += 1\n",
    "    if i >= 100:\n",
    "        break\n",
    "print(sum)"
   ]
  },
  {
   "cell_type": "markdown",
   "metadata": {},
   "source": [
    "_Note that it is not possible to assign a variable in the condition of a `while` statement._"
   ]
  },
  {
   "cell_type": "markdown",
   "metadata": {},
   "source": [
    "##### 1.7.4 Exceptions\n",
    "_Python has a mechanism to handle errors so that they do not stop a program. It uses the `try` and `except` keywords. We saw in Sect. 1.5 that the conversion of the alphabet and `12.0` strings into integers prints an error and exits the program. We can handle it safely with the `try/except` construct:_"
   ]
  },
  {
   "cell_type": "code",
   "execution_count": 65,
   "metadata": {},
   "outputs": [
    {
     "name": "stdout",
     "output_type": "stream",
     "text": [
      "Cleared the exception\n"
     ]
    }
   ],
   "source": [
    "try:\n",
    "    int(alphabet)\n",
    "    int('12.0')\n",
    "except:\n",
    "    pass\n",
    "print('Cleared the exception')"
   ]
  },
  {
   "cell_type": "markdown",
   "metadata": {},
   "source": [
    "_where `pass` is an empty statement serving as a placeholder for the `except` block._"
   ]
  },
  {
   "cell_type": "markdown",
   "metadata": {},
   "source": [
    "_It is also possible, and better, to tell `except` to catch specific exceptions as in:_"
   ]
  },
  {
   "cell_type": "code",
   "execution_count": 66,
   "metadata": {},
   "outputs": [
    {
     "name": "stdout",
     "output_type": "stream",
     "text": [
      "Caught a value error\n"
     ]
    }
   ],
   "source": [
    "try:\n",
    "    int(alphabet)\n",
    "    int('12.0')\n",
    "except ValueError:\n",
    "    print('Caught a value error')\n",
    "except TypeError:\n",
    "    print('Caught a type error!')\n",
    "# Caught a value error!"
   ]
  },
  {
   "cell_type": "markdown",
   "metadata": {},
   "source": [
    "#### 1.8 Functions\n",
    "_We define a function in Python with the `def` keyword and we use return to return the results. In Sect. 1.6.6, we wrote a small program to count the letters of a text. Let us create a function from it that accepts any text instead of `iliad`. We also add a Boolean, `lc`, to set the text in lowercase:_"
   ]
  },
  {
   "cell_type": "code",
   "execution_count": 67,
   "metadata": {},
   "outputs": [],
   "source": [
    "def count_letters(text, lc=True):\n",
    "    letter_count = {}\n",
    "    if lc:\n",
    "        text = text.lower()\n",
    "    for letter in text:\n",
    "        if letter.lower() in alphabet:\n",
    "            if letter in letter_count:\n",
    "                letter_count[letter] += 1\n",
    "            else:\n",
    "                letter_count[letter] = 1\n",
    "    return letter_count"
   ]
  },
  {
   "cell_type": "markdown",
   "metadata": {},
   "source": [
    "_We call the function with the two parameters:_"
   ]
  },
  {
   "cell_type": "code",
   "execution_count": 68,
   "metadata": {},
   "outputs": [
    {
     "data": {
      "text/plain": [
       "{'s': 10,\n",
       " 'i': 3,\n",
       " 'n': 6,\n",
       " 'g': 4,\n",
       " 'o': 8,\n",
       " 'd': 2,\n",
       " 'e': 9,\n",
       " 't': 6,\n",
       " 'h': 6,\n",
       " 'a': 6,\n",
       " 'r': 2,\n",
       " 'f': 2,\n",
       " 'c': 3,\n",
       " 'l': 6,\n",
       " 'p': 2,\n",
       " 'u': 4,\n",
       " 'b': 1}"
      ]
     },
     "execution_count": 68,
     "metadata": {},
     "output_type": "execute_result"
    }
   ],
   "source": [
    "count_letters(iliad, True)"
   ]
  },
  {
   "cell_type": "markdown",
   "metadata": {},
   "source": [
    "#### 1.9 Comprehensions and Generators"
   ]
  },
  {
   "cell_type": "markdown",
   "metadata": {},
   "source": [
    "##### 1.9.1 Comprehensions\n",
    "_Instead of loops, the comprehensions are an alternative, concise syntactic notation to to create lists, sets, or dictionaries._"
   ]
  },
  {
   "cell_type": "markdown",
   "metadata": {},
   "source": [
    "_Given an input word, we can generate all the one-character deletions in two steps: First, we split the word into two parts; then we delete the first letter of the second part. We can write this operation in two comprehensions, whose syntax is close to the set comprehension in set theory. First, we generate the splits where we iterate over the sequence of character indices and we create pairs consisting of a prefix and a rest._\n",
    "\n",
    "_If the input word is acress, the resulting list in splits is:_"
   ]
  },
  {
   "cell_type": "code",
   "execution_count": 69,
   "metadata": {},
   "outputs": [
    {
     "data": {
      "text/plain": [
       "[('', 'acress'),\n",
       " ('a', 'cress'),\n",
       " ('ac', 'ress'),\n",
       " ('acr', 'ess'),\n",
       " ('acre', 'ss'),\n",
       " ('acres', 's'),\n",
       " ('acress', '')]"
      ]
     },
     "execution_count": 69,
     "metadata": {},
     "output_type": "execute_result"
    }
   ],
   "source": [
    "word = 'acress'\n",
    "splits = [(word[:i], word[i:]) for i in range(len(word) + 1)]\n",
    "splits"
   ]
  },
  {
   "cell_type": "markdown",
   "metadata": {},
   "source": [
    "_which is equivalent to_"
   ]
  },
  {
   "cell_type": "code",
   "execution_count": 70,
   "metadata": {},
   "outputs": [
    {
     "data": {
      "text/plain": [
       "[('', 'acress'),\n",
       " ('a', 'cress'),\n",
       " ('ac', 'ress'),\n",
       " ('acr', 'ess'),\n",
       " ('acre', 'ss'),\n",
       " ('acres', 's'),\n",
       " ('acress', '')]"
      ]
     },
     "execution_count": 70,
     "metadata": {},
     "output_type": "execute_result"
    }
   ],
   "source": [
    "splits = []\n",
    "for i in range(len(word) + 1):\n",
    "    splits.append((word[:i], word[i:]))\n",
    "splits"
   ]
  },
  {
   "cell_type": "markdown",
   "metadata": {},
   "source": [
    "_Then, we apply the deletions, where we concatenate the prefix and the rest deprived from its first character. We check that the rest is not an empty list:_"
   ]
  },
  {
   "cell_type": "code",
   "execution_count": 71,
   "metadata": {},
   "outputs": [
    {
     "data": {
      "text/plain": [
       "['cress', 'aress', 'acess', 'acrss', 'acres', 'acres']"
      ]
     },
     "execution_count": 71,
     "metadata": {},
     "output_type": "execute_result"
    }
   ],
   "source": [
    "deletes = [a + b[1:] for a, b in splits if b]\n",
    "deletes"
   ]
  },
  {
   "cell_type": "markdown",
   "metadata": {},
   "source": [
    "_which is equivalent to_"
   ]
  },
  {
   "cell_type": "code",
   "execution_count": 72,
   "metadata": {},
   "outputs": [
    {
     "data": {
      "text/plain": [
       "['cress', 'aress', 'acess', 'acrss', 'acres', 'acres']"
      ]
     },
     "execution_count": 72,
     "metadata": {},
     "output_type": "execute_result"
    }
   ],
   "source": [
    "deletes = []\n",
    "for a, b in splits:\n",
    "    if b:\n",
    "        deletes.append(a + b[1:])\n",
    "deletes"
   ]
  },
  {
   "cell_type": "markdown",
   "metadata": {},
   "source": [
    "##### 1.9.2 Generators\n",
    "_List comprehensions are stored in memory. If the list is large, it can exceed the computer capacity. Generators generate the elements on demand instead and can handle much longer sequences._\n",
    "\n",
    "_Generators have a syntax that is identical to the list comprehensions except that we replace the square brackets with parentheses:_"
   ]
  },
  {
   "cell_type": "code",
   "execution_count": 73,
   "metadata": {},
   "outputs": [
    {
     "name": "stdout",
     "output_type": "stream",
     "text": [
      "('', 'acress')\n",
      "('a', 'cress')\n",
      "('ac', 'ress')\n",
      "('acr', 'ess')\n",
      "('acre', 'ss')\n",
      "('acres', 's')\n",
      "('acress', '')\n"
     ]
    }
   ],
   "source": [
    "splits_generator = ((word[:i], word[i:]) for i in range(len(word) + 1))\n",
    "for i in splits_generator: print(i)"
   ]
  },
  {
   "cell_type": "markdown",
   "metadata": {},
   "source": [
    "_We can iterate over this generator exactly as with a list. The statement:_"
   ]
  },
  {
   "cell_type": "code",
   "execution_count": 74,
   "metadata": {},
   "outputs": [],
   "source": [
    "for i in splits_generator: print(i)"
   ]
  },
  {
   "cell_type": "markdown",
   "metadata": {},
   "source": [
    "_However, this iteration can only be done once. We need to create the generator again to retraverse the sequence._\n",
    "\n",
    "_Finally, we can also use functions to create generators. We replace the `return` keyword with `yield` to do this, as in the function:_"
   ]
  },
  {
   "cell_type": "code",
   "execution_count": 75,
   "metadata": {},
   "outputs": [],
   "source": [
    "def splits_generator_function():\n",
    "    for i in range(len(word) + 1):\n",
    "        yield (word[:i], word[i:])"
   ]
  },
  {
   "cell_type": "markdown",
   "metadata": {},
   "source": [
    "_that returns a generator identical to the previous one:_"
   ]
  },
  {
   "cell_type": "code",
   "execution_count": 76,
   "metadata": {},
   "outputs": [],
   "source": [
    "splits_generator = splits_generator_function()"
   ]
  },
  {
   "cell_type": "markdown",
   "metadata": {},
   "source": [
    "##### 1.9.3 Iterators\n",
    "_We just saw that we can iterate only once over a generator. Objects with this property in Python are called iterators. Iterators are very efficient devices and, at the same time, probably less intuitive than lists for beginners._"
   ]
  },
  {
   "cell_type": "markdown",
   "metadata": {},
   "source": [
    "_Let us give some examples with a useful iterator: `zip()`. Let us first create three strings with the Latin, Greek, and Russian Cyrillic alphabets:_"
   ]
  },
  {
   "cell_type": "code",
   "execution_count": 77,
   "metadata": {},
   "outputs": [
    {
     "data": {
      "text/plain": [
       "33"
      ]
     },
     "execution_count": 77,
     "metadata": {},
     "output_type": "execute_result"
    }
   ],
   "source": [
    "latin_alphabet = 'abcdefghijklmnopqrstuvwxyz'\n",
    "len(latin_alphabet)                                           # 26\n",
    "greek_alphabet = 'αβγδεζηθικλμνξοπρστυφχψω'\n",
    "len(greek_alphabet)                                           # 24\n",
    "cyrillic_alphabet = 'абвгдеёжзийклмнопрстуфхцчшщъыьэюя'\n",
    "len(cyrillic_alphabet)                                        # 33"
   ]
  },
  {
   "cell_type": "markdown",
   "metadata": {},
   "source": [
    "_`zip()` weaves strings, lists, or tuples and creates an iterator of tuples, where each tuple contains the elements with the same index: `latin_alphabet[0]` and `greek_alphabet[0]`, `latin_alphabet[1]` and `greek_alphabet[1]`, and so on. If the strings are of different sizes, `zip()` will stop at the shortest._\n",
    "\n",
    "_The following code applies `zip()` to the three first letters of our alphabets:_"
   ]
  },
  {
   "cell_type": "code",
   "execution_count": 78,
   "metadata": {},
   "outputs": [],
   "source": [
    "la_gr = zip(latin_alphabet[:3], greek_alphabet[:3])"
   ]
  },
  {
   "cell_type": "code",
   "execution_count": 79,
   "metadata": {},
   "outputs": [],
   "source": [
    "la_gr_cy = zip(latin_alphabet[:3], greek_alphabet[:3],\n",
    "                  cyrillic_alphabet[0:3])"
   ]
  },
  {
   "cell_type": "markdown",
   "metadata": {},
   "source": [
    "_and creates two iterators with the tuples:_"
   ]
  },
  {
   "cell_type": "code",
   "execution_count": 80,
   "metadata": {},
   "outputs": [
    {
     "data": {
      "text/plain": [
       "<zip at 0x7fd63239fec0>"
      ]
     },
     "execution_count": 80,
     "metadata": {},
     "output_type": "execute_result"
    }
   ],
   "source": [
    "la_gr          # (’a’, ’α’), (’b’, ’β’), (’c’, ’γ’)"
   ]
  },
  {
   "cell_type": "code",
   "execution_count": 81,
   "metadata": {},
   "outputs": [
    {
     "data": {
      "text/plain": [
       "<zip at 0x7fd6323a21c0>"
      ]
     },
     "execution_count": 81,
     "metadata": {},
     "output_type": "execute_result"
    }
   ],
   "source": [
    "la_gr_cy       # (’a’, ’α’, ’а’), (’b’, ’β’, ’б’), (’c’, ’γ’, ’в’)"
   ]
  },
  {
   "cell_type": "markdown",
   "metadata": {},
   "source": [
    "_Once created, we access the elements of an iterator with `__next()__` as in:_"
   ]
  },
  {
   "cell_type": "code",
   "execution_count": 82,
   "metadata": {},
   "outputs": [
    {
     "data": {
      "text/plain": [
       "('c', 'γ')"
      ]
     },
     "execution_count": 82,
     "metadata": {},
     "output_type": "execute_result"
    }
   ],
   "source": [
    "la_gr.__next__()   # (’a’, ’α’)\n",
    "la_gr.__next__()   # (’b’, ’β’)\n",
    "la_gr.__next__()   # (’c’, ’γ’)"
   ]
  },
  {
   "cell_type": "markdown",
   "metadata": {},
   "source": [
    "_When we reach the end and there are no more elements, Python raises an exception_"
   ]
  },
  {
   "cell_type": "code",
   "execution_count": 83,
   "metadata": {},
   "outputs": [
    {
     "ename": "StopIteration",
     "evalue": "",
     "output_type": "error",
     "traceback": [
      "\u001b[0;31m---------------------------------------------------------------------------\u001b[0m",
      "\u001b[0;31mStopIteration\u001b[0m                             Traceback (most recent call last)",
      "\u001b[0;32m<ipython-input-83-dbcc31778409>\u001b[0m in \u001b[0;36m<module>\u001b[0;34m\u001b[0m\n\u001b[0;32m----> 1\u001b[0;31m \u001b[0mla_gr\u001b[0m\u001b[0;34m.\u001b[0m\u001b[0m__next__\u001b[0m\u001b[0;34m(\u001b[0m\u001b[0;34m)\u001b[0m\u001b[0;34m\u001b[0m\u001b[0;34m\u001b[0m\u001b[0m\n\u001b[0m",
      "\u001b[0;31mStopIteration\u001b[0m: "
     ]
    }
   ],
   "source": [
    "la_gr.__next__()"
   ]
  },
  {
   "cell_type": "markdown",
   "metadata": {},
   "source": [
    "_If we want to use this iterator again, we have to recreate it._\n",
    "\n",
    "_Another way to traverse this sequence multiple times is to convert the iterator to a list as in:_"
   ]
  },
  {
   "cell_type": "code",
   "execution_count": 84,
   "metadata": {},
   "outputs": [
    {
     "data": {
      "text/plain": [
       "[('a', 'α', 'а'), ('b', 'β', 'б'), ('c', 'γ', 'в')]"
      ]
     },
     "execution_count": 84,
     "metadata": {},
     "output_type": "execute_result"
    }
   ],
   "source": [
    "la_gr_cy_list = list(la_gr_cy)\n",
    "la_gr_cy_list"
   ]
  },
  {
   "cell_type": "code",
   "execution_count": 85,
   "metadata": {},
   "outputs": [
    {
     "data": {
      "text/plain": [
       "[]"
      ]
     },
     "execution_count": 85,
     "metadata": {},
     "output_type": "execute_result"
    }
   ],
   "source": [
    "la_gr_cy_list = list(la_gr_cy)\n",
    "la_gr_cy_list"
   ]
  },
  {
   "cell_type": "markdown",
   "metadata": {},
   "source": [
    "_To restore the original lists of alphabet, we can use the `zip(*)` inverse function:_"
   ]
  },
  {
   "cell_type": "code",
   "execution_count": 86,
   "metadata": {},
   "outputs": [
    {
     "data": {
      "text/plain": [
       "<zip at 0x7fd630767980>"
      ]
     },
     "execution_count": 86,
     "metadata": {},
     "output_type": "execute_result"
    }
   ],
   "source": [
    "zip(*la_gr_cy_list)\n",
    "# (’a’, ’b’, ’c’), (’α’, ’β’, ’γ’), (’а’, ’б’, ’в’)"
   ]
  },
  {
   "cell_type": "markdown",
   "metadata": {},
   "source": [
    "_Finally, we can convert lists to iterators using `iter()`._"
   ]
  },
  {
   "cell_type": "markdown",
   "metadata": {},
   "source": [
    "#### 1.10 Modules\n",
    "_Python comes with a very large set of libraries called modules like, for example, the `math` module that contains a set of mathematical functions. We load a module with the `import` keyword and we use its functions with the module name as a prefix followed by a dot:_"
   ]
  },
  {
   "cell_type": "code",
   "execution_count": 87,
   "metadata": {},
   "outputs": [
    {
     "data": {
      "text/plain": [
       "3.0"
      ]
     },
     "execution_count": 87,
     "metadata": {},
     "output_type": "execute_result"
    }
   ],
   "source": [
    "import math\n",
    "math.sqrt(2)                  # 1.4142135623730951\n",
    "math.sin(math.pi/2)           # 1.0\n",
    "math.log(8, 2)"
   ]
  },
  {
   "cell_type": "markdown",
   "metadata": {},
   "source": [
    "_We can create an alias name to the modules with the as keyword:_"
   ]
  },
  {
   "cell_type": "code",
   "execution_count": 88,
   "metadata": {},
   "outputs": [
    {
     "data": {
      "text/plain": [
       "1.5811388300841898"
      ]
     },
     "execution_count": 88,
     "metadata": {},
     "output_type": "execute_result"
    }
   ],
   "source": [
    "import statistics as stats\n",
    "stats.mean([1, 2, 3, 4, 5])   # 3.0\n",
    "stats.stdev([1, 2, 3, 4, 5])  # 1.5811388300841898"
   ]
  },
  {
   "cell_type": "markdown",
   "metadata": {},
   "source": [
    "_Modules are just files, whose names are the module names with the `.py` suffix. To import a file, Python searches first the standard library, the files in the current folder, and then the files in `PYTHONPATH`._\n",
    "\n",
    "_When Python imports a module, it executes its statements just as when we run:_\n",
    "\n",
    "```\n",
    "python module.py\n",
    "```\n",
    "\n",
    "_If we want to have a different execution when we run the program from the command line and when we import it, we need to include this condition:_\n",
    "```\n",
    "if __name__ == '__main__':\n",
    "       print(\"Running the program\")\n",
    "       # Other statements\n",
    "   else:\n",
    "       print(\"Importing the program\")\n",
    "       # Other statements\n",
    "```"
   ]
  },
  {
   "cell_type": "markdown",
   "metadata": {},
   "source": [
    "##### 1.11 Installing Modules\n",
    "_Python comes with a standard library of modules like `math`. Although comprehensive, we will use external libraries in the next chapters that are not part of the standard release, e.g. `regex`._\n",
    "\n",
    "_We can use `pip`, the Python package manager to install the modules we need. `pip` will retrieve them from the Python package index (PyPI) and fetch them for us._\n",
    "\n",
    "\n",
    "_To install `regex`, we just run the command:_\n",
    "```\n",
    "pip install regex\n",
    "```\n",
    "_or_\n",
    "```\n",
    "python -m pip install regex\n",
    "```\n",
    "\n",
    "_and if we want to upgrade an already installed module, we run:_\n",
    "```\n",
    "python -m pip install --upgrade regex\n",
    "```\n",
    "\n",
    "_Another option is to use a Python distribution with pre-installed packages like Anaconda (https://www.continuum.io/downloads). Nonetheless, even if Anaconda has many packages, it does not include `regex` and we will have to install it._"
   ]
  },
  {
   "cell_type": "markdown",
   "metadata": {},
   "source": [
    "##### 1.12 Basic File Input/Output\n",
    "_Python has a set of built-in input/output functions to read and write files: `open()`, `read()`, `write()`, and `close()`._"
   ]
  },
  {
   "cell_type": "markdown",
   "metadata": {},
   "source": [
    "_The next lines open and read the `iliad.txt` file, count the characters, and write the results in the `iliad_stats.txt` file:_\n",
    "```\n",
    "f_iliad = open('iliad.txt', 'r')         # open a file\n",
    "iliad_txt = f_iliad.read()               # read all the file\n",
    "f_iliad.close()                          # close the file\n",
    "iliad_stats = count_letters(iliad_txt)   # count the letters\n",
    "with open('iliad_stats.txt', 'w') as f:\n",
    "    f.write(str(iliad_stats))\n",
    "    # we automatically close the file\n",
    "```"
   ]
  },
  {
   "cell_type": "markdown",
   "metadata": {},
   "source": [
    "_where `open()` opens a file in the read-only mode, `r`, and returns a file object; `read()` reads the entire content of the file and returns a string; `close()` closes the file object; `count_letter()` counts the letters; and finally the `with` statement is a shorthand to handle exceptions and close the file automatically after the block: `open()` creates a new file using the write mode, `w`, and `write()` writes the results as a string._\n",
    "\n",
    "_In addition to these base functions, Python has modules to read and write a large variety of file formats._"
   ]
  },
  {
   "cell_type": "markdown",
   "metadata": {},
   "source": [
    "#### 1.13 Memo Functions and Decorators"
   ]
  },
  {
   "cell_type": "markdown",
   "metadata": {},
   "source": [
    "##### 1.13.1 Memo Functions\n",
    "_Memo functions are functions that remember a result instead of computing it. This process is also called `memoization`. The Fibonacci series is a case, where memo functions provide a dramatic execution speed up._\n",
    "\n",
    "_The Fibonacci sequence is defined by the relation:_\n",
    "\n",
    "$$ F(n) = F(n-1) + F(n-2) $$\n",
    "\n",
    "with $ F(1) = F(2) = 1 $.\n",
    "\n",
    "_A naïve implementation in Python is straightforward:_"
   ]
  },
  {
   "cell_type": "code",
   "execution_count": 89,
   "metadata": {},
   "outputs": [],
   "source": [
    "def fibonacci(n):\n",
    "    if n == 1: return 1\n",
    "    elif n == 2: return 1\n",
    "    else:\n",
    "        return fibonacci(n - 1) + fibonacci(n - 2)"
   ]
  },
  {
   "cell_type": "markdown",
   "metadata": {},
   "source": [
    "_however, this function has an expensive double recursion that we can drastically improve by storing the results in a dictionary. This store, `f_numbers`, will save an exponential number of recalculations:_"
   ]
  },
  {
   "cell_type": "code",
   "execution_count": 90,
   "metadata": {},
   "outputs": [],
   "source": [
    "f_numbers = {}\n",
    "\n",
    "def fibonacci2(n):\n",
    "    if n == 1: return 1\n",
    "    elif n == 2: return 1\n",
    "    elif n in f_numbers:\n",
    "        return f_numbers[n]\n",
    "    else:\n",
    "        f_numbers[n] = fibonacci2(n - 1) + fibonacci2(n - 2)\n",
    "        return f_numbers[n]"
   ]
  },
  {
   "cell_type": "markdown",
   "metadata": {},
   "source": [
    "##### 1.13.2 Decorators\n",
    "_Python decorators are syntactic notations to simplify the writing of memo functions (they can be used for other purposes too)._\n",
    "\n",
    "_Decorators need a generic memo function to cache the results already computed._\n",
    "\n",
    "_Let us define it:_"
   ]
  },
  {
   "cell_type": "code",
   "execution_count": 91,
   "metadata": {},
   "outputs": [],
   "source": [
    "def memo_function(f):\n",
    "    cache = {}    \n",
    "    def memo(x):\n",
    "        if x in cache:\n",
    "            return cache[x]\n",
    "        else:\n",
    "            cache[x] = f(x)\n",
    "            return cache[x]\n",
    "    return memo"
   ]
  },
  {
   "cell_type": "markdown",
   "metadata": {},
   "source": [
    "_Using this memo function, we can redefine `fibonacci()` with the statement:_"
   ]
  },
  {
   "cell_type": "code",
   "execution_count": 92,
   "metadata": {},
   "outputs": [],
   "source": [
    "fibonacci = memo_function(fibonacci)"
   ]
  },
  {
   "cell_type": "markdown",
   "metadata": {},
   "source": [
    "_that results in `memo()` being assigned to the `fibonacci()` function. When we call `fibonacci()`, we in fact call `memo()` that will either lookup the cache or call the original `fibonacci()` function._\n",
    "\n",
    "\n",
    "_One detail may be puzzling: How does the new function know of the `cache()` variable and its initialization as well as the value of the `f` argument, the original `fibonacci()` function? This is because Python implements a closure mechanism that gives the inner functions access to the local variables of their enclosing function._\n",
    "\n",
    "_Now the decorators: Python provides a short notation for memo functions; instead of writing:_\n",
    "```\n",
    "fibonacci = memo_function(fibonacci)\n",
    "```\n",
    "_we just decorate `fibonacci()` with the `@memo_function` line before it:_\n",
    "```\n",
    "@memo_function\n",
    "def fibonacci(n):\n",
    "...\n",
    "```"
   ]
  },
  {
   "cell_type": "markdown",
   "metadata": {},
   "source": [
    "#### 1.14 Object-Oriented Programming\n",
    "_Although not obvious at first sight, Python is an object-oriented language, where all the language entities are objects inheriting from a class: The `str` class for the strings, for instance. Each class has a set of methods that we call with the `object.method()` notation._"
   ]
  },
  {
   "cell_type": "markdown",
   "metadata": {},
   "source": [
    "##### 1.14.1 Classes and Objects\n",
    "_We encapsulate a function by inserting it as a block inside the class. Among the methods, one of them, the constructor, is called at the creation of an object. It has the `__init()__` name. This notation in Python is, unfortunately, not as intuitive as the rest of the language, and we need to add a `self` extra parameter to the methods as well as to the instance variables. This `self` keyword denotes the object itself. We use `__init()__` to assign an initial value to the content, length, and letter_count variables._\n",
    "\n",
    "_Finally, we have the class:_"
   ]
  },
  {
   "cell_type": "code",
   "execution_count": 93,
   "metadata": {},
   "outputs": [],
   "source": [
    "class Text:\n",
    "    \"\"\"Text class to hold and process text\"\"\"\n",
    "    \n",
    "    alphabet = 'abcdefghijklmnopqrstuvwxyz'\n",
    "    \n",
    "    def __init__(self, text=None):\n",
    "        \"\"\"The constructor called when an object is created\"\"\"\n",
    "        self.content = text\n",
    "        self.length = len(text)\n",
    "        self.letter_counts = {}\n",
    "    \n",
    "    def count_letters(self, lc=True):\n",
    "        \"\"\"Function to count the letters of a text\"\"\"\n",
    "        letter_counts = {}\n",
    "        if lc:\n",
    "            text = self.content.lower()\n",
    "        else:\n",
    "            text = self.content\n",
    "        for letter in text:\n",
    "            if letter.lower() in self.alphabet:\n",
    "                if letter in letter_counts:\n",
    "                    letter_counts[letter] += 1\n",
    "                else:\n",
    "                    letter_counts[letter] = 1\n",
    "        self.letter_counts = letter_counts\n",
    "        return letter_counts"
   ]
  },
  {
   "cell_type": "markdown",
   "metadata": {},
   "source": [
    "_We create new objects using the `Text(init_value)` syntax:_"
   ]
  },
  {
   "cell_type": "code",
   "execution_count": 94,
   "metadata": {},
   "outputs": [],
   "source": [
    "txt = Text(\"\"\"Tell me, O Muse, of that many-sided hero who\n",
    "traveled far and wide after he had sacked the famous town\n",
    "of Troy.\"\"\")"
   ]
  },
  {
   "cell_type": "markdown",
   "metadata": {},
   "source": [
    "_A class has its own type:_"
   ]
  },
  {
   "cell_type": "code",
   "execution_count": 95,
   "metadata": {},
   "outputs": [
    {
     "data": {
      "text/plain": [
       "__main__.Text"
      ]
     },
     "execution_count": 95,
     "metadata": {},
     "output_type": "execute_result"
    }
   ],
   "source": [
    "type(txt)          # <class ’__main__.Text’>"
   ]
  },
  {
   "cell_type": "markdown",
   "metadata": {},
   "source": [
    "_We access the instance variables using this notation:_"
   ]
  },
  {
   "cell_type": "code",
   "execution_count": 96,
   "metadata": {},
   "outputs": [
    {
     "data": {
      "text/plain": [
       "111"
      ]
     },
     "execution_count": 96,
     "metadata": {},
     "output_type": "execute_result"
    }
   ],
   "source": [
    "txt.length        # 111"
   ]
  },
  {
   "cell_type": "markdown",
   "metadata": {},
   "source": [
    "_We create and assign new instance variables the same way:_\n",
    "```\n",
    "txt.my_var = 'a'    # a new instance variable with value ’a’\n",
    "txt.content = open('iliad.txt', 'r').read()\n",
    "                    # txt.content is now the content of the file\n",
    "```"
   ]
  },
  {
   "cell_type": "markdown",
   "metadata": {},
   "source": [
    "_and we call methods with the same notation:_"
   ]
  },
  {
   "cell_type": "code",
   "execution_count": 97,
   "metadata": {},
   "outputs": [
    {
     "data": {
      "text/plain": [
       "{'t': 8,\n",
       " 'e': 12,\n",
       " 'l': 3,\n",
       " 'm': 4,\n",
       " 'o': 8,\n",
       " 'u': 2,\n",
       " 's': 4,\n",
       " 'f': 5,\n",
       " 'h': 6,\n",
       " 'a': 9,\n",
       " 'n': 3,\n",
       " 'y': 2,\n",
       " 'i': 2,\n",
       " 'd': 7,\n",
       " 'r': 5,\n",
       " 'w': 3,\n",
       " 'v': 1,\n",
       " 'c': 1,\n",
       " 'k': 1}"
      ]
     },
     "execution_count": 97,
     "metadata": {},
     "output_type": "execute_result"
    }
   ],
   "source": [
    "txt.count_letters() # return the letter counts of txt.text"
   ]
  },
  {
   "cell_type": "markdown",
   "metadata": {},
   "source": [
    "_Finally, we added short descriptions of the class and its methods in the form of docstrings: Strings being the first statement of the class, method, or function. Docstrings are very useful to document a program. We access them using the `.__doc__` variable as in:_"
   ]
  },
  {
   "cell_type": "code",
   "execution_count": 98,
   "metadata": {},
   "outputs": [
    {
     "data": {
      "text/plain": [
       "'Function to count the letters of a text'"
      ]
     },
     "execution_count": 98,
     "metadata": {},
     "output_type": "execute_result"
    }
   ],
   "source": [
    "Text.__doc__    # ’Text class to hold and process text’\n",
    "Text.count_letters.__doc__\n",
    "                # ’Function to count the letters of a text’"
   ]
  },
  {
   "cell_type": "markdown",
   "metadata": {},
   "source": [
    "_or with the `help()` function._"
   ]
  },
  {
   "cell_type": "markdown",
   "metadata": {},
   "source": [
    "##### 1.14.2 Subclassing\n",
    "_Using classes, we can build a hierarchy, where the subclasses will inherit methods from their superclass parents._\n",
    "\n",
    "_Let us create a Word class that we define as a subclass of Text._"
   ]
  },
  {
   "cell_type": "code",
   "execution_count": 99,
   "metadata": {},
   "outputs": [],
   "source": [
    "class Word(Text):\n",
    "    def __init__(self, word=None):\n",
    "        super().__init__(word)\n",
    "        self.part_of_speech = None\n",
    "    def annotate(self, part_of_speech):\n",
    "        self.part_of_speech = part_of_speech"
   ]
  },
  {
   "cell_type": "markdown",
   "metadata": {},
   "source": [
    "_where the `super().__init__(word)` function will call the constructor of `Text`._ \n",
    "\n",
    "_We can then create a new word:_"
   ]
  },
  {
   "cell_type": "code",
   "execution_count": 100,
   "metadata": {},
   "outputs": [],
   "source": [
    "word = Word('Muse')"
   ]
  },
  {
   "cell_type": "markdown",
   "metadata": {},
   "source": [
    "_that inherits the Text instance variables:_"
   ]
  },
  {
   "cell_type": "code",
   "execution_count": 101,
   "metadata": {},
   "outputs": [
    {
     "data": {
      "text/plain": [
       "4"
      ]
     },
     "execution_count": 101,
     "metadata": {},
     "output_type": "execute_result"
    }
   ],
   "source": [
    "word.length     # 4"
   ]
  },
  {
   "cell_type": "markdown",
   "metadata": {},
   "source": [
    "_and methods_"
   ]
  },
  {
   "cell_type": "code",
   "execution_count": 102,
   "metadata": {},
   "outputs": [
    {
     "data": {
      "text/plain": [
       "{'M': 1, 'u': 1, 's': 1, 'e': 1}"
      ]
     },
     "execution_count": 102,
     "metadata": {},
     "output_type": "execute_result"
    }
   ],
   "source": [
    "word.count_letters(lc=False)\n",
    "# {’M’: 1, ’u’: 1, ’s’: 1, ’e’: 1}"
   ]
  },
  {
   "cell_type": "markdown",
   "metadata": {},
   "source": [
    "_We can also call the Word specific method as_"
   ]
  },
  {
   "cell_type": "code",
   "execution_count": 103,
   "metadata": {},
   "outputs": [],
   "source": [
    "word.annotate('Noun')"
   ]
  },
  {
   "cell_type": "markdown",
   "metadata": {},
   "source": [
    "_and have:_"
   ]
  },
  {
   "cell_type": "code",
   "execution_count": 104,
   "metadata": {},
   "outputs": [
    {
     "data": {
      "text/plain": [
       "'Noun'"
      ]
     },
     "execution_count": 104,
     "metadata": {},
     "output_type": "execute_result"
    }
   ],
   "source": [
    "word.part_of_speech # Noun"
   ]
  },
  {
   "cell_type": "markdown",
   "metadata": {},
   "source": [
    "#### 1.15 Functional Programming\n",
    "_Python provides some functional programming mechanisms with map and reduce functions._"
   ]
  },
  {
   "cell_type": "markdown",
   "metadata": {},
   "source": [
    "##### 1.15.1 `map()`\n",
    "_`map()` enables us to apply a function to all the elements of an iterable, a list for instance. The first argument of `map()` is the function to apply and the second one, the iterable. `map()` returns an iterator._\n",
    "\n",
    "_Let us use `map()` to compute the length of a sequence of texts, in our case, the first sentences of the Iliad and the Odyssey. We apply `len()` to the list of strings and we convert the resulting iterator to a list to print it._"
   ]
  },
  {
   "cell_type": "code",
   "execution_count": 105,
   "metadata": {},
   "outputs": [
    {
     "data": {
      "text/plain": [
       "[100, 117]"
      ]
     },
     "execution_count": 105,
     "metadata": {},
     "output_type": "execute_result"
    }
   ],
   "source": [
    "odyssey = \"\"\"Tell me, O Muse, of that many-sided hero who\n",
    "   traveled far and wide after he had sacked the famous town\n",
    "   of Troy.\"\"\"\n",
    "text_lengths = map(len, [iliad, odyssey])\n",
    "list(text_lengths)     # [100, 111]"
   ]
  },
  {
   "cell_type": "markdown",
   "metadata": {},
   "source": [
    "##### 1.15.2 Lambda Expressions\n",
    "_Let us now suppose that we have a list of files instead of strings, here `iliad.txt` and `odyssey.txt`. To deal with this list, we can replace `len()` in `map()` with a function that reads a file and computes its length:_"
   ]
  },
  {
   "cell_type": "code",
   "execution_count": 106,
   "metadata": {},
   "outputs": [],
   "source": [
    "def file_length(file):\n",
    "    return len(open(file).read())"
   ]
  },
  {
   "cell_type": "markdown",
   "metadata": {},
   "source": [
    "_For such a short function, a lambda expression can do the job more compactly._ \n",
    "\n",
    "_A lambda is an anonymous function, denoted with the `lambda` keyword, followed by the function parameters, a colon, and the returned expression. To compute the length of a file, we write the lambda:_\n",
    "```\n",
    "lambda file: len(open(file).read())\n",
    "```\n",
    "_and we apply it to our list of files:_\n",
    "```\n",
    "files = ['iliad.txt', 'odyssey.txt']\n",
    "text_lengths = map(lambda x: len(open(x).read()), files)\n",
    "list(text_lengths)                  # [809768, 611742]\n",
    "```\n",
    "_We can return multiple values using tuples. If we want to both keep the text and its length in the form of a pair: `(text,length)`, we just write:_\n",
    "```\n",
    "text_lengths = (\n",
    "map(lambda x: (open(x).read(), len(open(x).read())),\n",
    "    files))\n",
    "text_lengths = list(text_lengths)\n",
    "[text_lengths[0][1], text_lengths[1][1]]  # [809768, 611742]\n",
    "```"
   ]
  },
  {
   "cell_type": "markdown",
   "metadata": {},
   "source": [
    "_In the previous piece of code, we had to read the text twice: In the first element of the pair and in the second one. We can use two `map()` calls instead: One to read the files and a second to compute the lengths. This results in:_\n",
    "```\n",
    "text_lengths = (\n",
    "    map(lambda x: (x, len(x)),\n",
    "        map(lambda x: open(x).read(), files)))\n",
    "    text_lengths = list(text_lengths)\n",
    "    [text_lengths[0][1], text_lengths[1][1]]  # [809768, 611742]\n",
    "```"
   ]
  },
  {
   "cell_type": "markdown",
   "metadata": {},
   "source": [
    "##### 1.15.3 `reduce()`\n",
    "_`reduce()` is a complement to `map()` that applies an operation to pairs of elements of a sequence. We can use `reduce()` and the addition to compute the total number of characters of our set of files. We formulate it as a lambda expression:_\n",
    "```\n",
    "lambda x, y: x[1] + y[1]\n",
    "```\n",
    "_to sum the consecutive elements, where the length of each file is the second element in the pair; the first one being the text._\n",
    "\n",
    "_`reduce()` is part of the functools module and we have to import it. The resulting code is:_\n",
    "```\n",
    "import functools\n",
    "char_count = functools.reduce(\n",
    "lambda x, y: x[1] + y[1],\n",
    "map(lambda x: (x, len(x)),\n",
    "    map(lambda x: open(x).read(), files)))\n",
    "char_count     # 1421510\n",
    "```"
   ]
  },
  {
   "cell_type": "markdown",
   "metadata": {},
   "source": [
    "##### 1.15.4 `filter()`\n",
    "_`filter()` is a third function that we can use to keep the elements of an iterable that satisfy a condition. `filter()` has two arguments: A function, possibly a lambda, and an iterable. It returns the elements of the iterable for which the function is true._\n",
    "\n",
    "_As an example of the `filter()` function, let us write a piece of code to extract and count the lowercase vowels of a text._\n",
    "\n",
    "_We need first a lambda that returns `true` if a character `x` is a vowel:_\n",
    "```\n",
    "lambda x : x in 'aeiou'\n",
    "```\n",
    "_that we apply to the iliad string to obtain all its vowels:_\n",
    "```\n",
    "''.join(filter(lambda x : x in 'aeiou', iliad))\n",
    "    # ioeeaeoieooeeuaououeiuoeaea\n",
    "```\n",
    "_We can apply the same code to a whole file:_\n",
    "```\n",
    "''.join(filter(lambda x: x in 'aeiou',\n",
    "              open('iliad.txt').read()))\n",
    "```\n",
    "_and easily extend the extraction to a list of files using `map()`:_\n",
    "```\n",
    "map(lambda y:\n",
    "    ''.join(filter(lambda x: x in 'aeiou',\n",
    "                    open(y).read())),\n",
    "   files)\n",
    "```"
   ]
  },
  {
   "cell_type": "markdown",
   "metadata": {},
   "source": [
    "_We finally count the vowels in the two files using `len()` that we apply with a second\n",
    "`map()`:_\n",
    "```\n",
    "list(map(len,\n",
    "         map(lambda y:\n",
    "             ''.join(filter(lambda x: x in 'aeiou',\n",
    "                            open(y).read())),\n",
    "             files)))  \n",
    "# [231874, 176190]\n",
    "```"
   ]
  },
  {
   "cell_type": "markdown",
   "metadata": {},
   "source": [
    "## Credits\n",
    "This assignment was prepared by P. Nugues et al., HT2019 (link [here](https://web.archive.org/web/20200111075034/http://cs.lth.se/edan95/lab-programming-assignments/lab-session-1/)).\n",
    "\n",
    "Exercises and code are from Ch 1. A Tour of Python in _Language Processing with Python_ (P. Nugues, 2019)."
   ]
  }
 ],
 "metadata": {
  "kernelspec": {
   "display_name": "Python 3",
   "language": "python",
   "name": "python3"
  },
  "language_info": {
   "codemirror_mode": {
    "name": "ipython",
    "version": 3
   },
   "file_extension": ".py",
   "mimetype": "text/x-python",
   "name": "python",
   "nbconvert_exporter": "python",
   "pygments_lexer": "ipython3",
   "version": "3.8.12"
  }
 },
 "nbformat": 4,
 "nbformat_minor": 4
}

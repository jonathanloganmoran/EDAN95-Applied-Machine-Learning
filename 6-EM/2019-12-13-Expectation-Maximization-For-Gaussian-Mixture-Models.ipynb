{
  "cells": [
    {
      "cell_type": "markdown",
      "metadata": {
        "id": "_UUbDSUi8Rk2"
      },
      "source": [
        "# Expectation-Maximisation For Gaussian Mixture Models\n",
        "#### By Jonathan L. Moran (jo6155mo-s@student.lu.se)\n",
        "From the EDAN95 - Applied Machine Learning course given at Lunds Tekniska Högskola (LTH) | Ht2 2019."
      ]
    },
    {
      "cell_type": "markdown",
      "metadata": {
        "id": "TU2dSFtk8Rk7"
      },
      "source": [
        "## Objectives\n",
        "In this post you will\n",
        "*    train a Gaussian NBC with the EM algorithm\n",
        "*    compare the results you get to those of the k-Means clustering provided in SciKitLearn"
      ]
    },
    {
      "cell_type": "markdown",
      "metadata": {
        "id": "aGDYF0PP8Rk8"
      },
      "source": [
        "## Background and Tools\n",
        "The EM (Expectation-Maximisation) algorithm solves the problem of not being able to compute the Maximum Likelihood Estimates for unknown classes directly by iterating over the two steps until there is no significant change in Step 2 observable:\n",
        "```\n",
        "1.    Compute the expected outcome for each sample / sample given estimates for priors and distribution (essentially, the likelihoods for observing the sample assuming an estimated distribution)\n",
        "```\n",
        "```\n",
        "2.    Compute the new estimates for your priors and distributions (in the case of a Gaussian NBC, new means and variances are needed) based on the estimated expected values for how much each sample belongs to the respective distribution.\n",
        "```\n",
        "You can find the algorithm stated explicitly as given in Murphy, \"Machine Learning - A probabilistic perspective\", pp. 352-353 [HERE](http://fileadmin.cs.lth.se/cs/Education/EDAN95/Handouts/EM-algo.pdf).\n",
        "\n",
        "One special case of the EM algorithm is k-Means clustering, for which an implementation can be found in SciKitLearn."
      ]
    },
    {
      "cell_type": "markdown",
      "metadata": {
        "id": "TvuVA70j8Rk9"
      },
      "source": [
        "## Implementation task\n",
        "*1. Implement the EM-algorithm to find a Gaussian NBC for the `digits` dataset from SciKitLearn (you can of course also use the `MNIST_Light` set from Lab 5, but for initial tests the `digits` data set is more convienent, since it is smaller in various aspects). You may assume (conditional) indepdendence between the attributes, i.e., the covariances can be assumed to be simply the variances over each attribute. Split the data set in `70% training`, `30% test` data. If you experience problems due to the repreated multiplication of tiny values in likelihoods, it might help to normalise the data to values between `0.0` and `1.0` (i.e., simply divdie every pixel value with `16.0` in the `digits` data).*"
      ]
    },
    {
      "cell_type": "markdown",
      "metadata": {
        "id": "ySFHeSGW8Rk9"
      },
      "source": [
        "### Collecting the dataset"
      ]
    },
    {
      "cell_type": "markdown",
      "metadata": {
        "id": "c4WYzC1L8Rk-"
      },
      "source": [
        "Recall that the `digits` dataset consists of 1,797 samples. Each sample is an 8x8 image of a single handwritten digit from 0 to 9. Each sample therefore has 64 features, where each of the 64 features is a brightness value of a pixel in the image."
      ]
    },
    {
      "cell_type": "code",
      "execution_count": null,
      "metadata": {
        "id": "UvzqFvAc8Rk_"
      },
      "outputs": [],
      "source": [
        "from sklearn.datasets import load_digits"
      ]
    },
    {
      "cell_type": "code",
      "execution_count": null,
      "metadata": {
        "id": "WrT8UnJ68RlA"
      },
      "outputs": [],
      "source": [
        "digits = load_digits()"
      ]
    },
    {
      "cell_type": "code",
      "execution_count": null,
      "metadata": {
        "colab": {
          "base_uri": "https://localhost:8080/"
        },
        "id": "MfPXn9dD8RlB",
        "outputId": "34085db7-c078-49a7-ecd5-d69e500e4c39"
      },
      "outputs": [
        {
          "output_type": "stream",
          "name": "stdout",
          "text": [
            "Shape of digits.images input array: (1797, 8, 8)\n"
          ]
        }
      ],
      "source": [
        "print('Shape of digits.images input array:', digits.images.shape)"
      ]
    },
    {
      "cell_type": "code",
      "execution_count": null,
      "metadata": {
        "colab": {
          "base_uri": "https://localhost:8080/"
        },
        "id": "3pqxgGDA8RlC",
        "outputId": "a3da0099-9aa0-4cb1-91e9-e118a9de8c85"
      },
      "outputs": [
        {
          "output_type": "execute_result",
          "data": {
            "text/plain": [
              "array([[ 0.,  0.,  5., ...,  0.,  0.,  0.],\n",
              "       [ 0.,  0.,  0., ..., 10.,  0.,  0.],\n",
              "       [ 0.,  0.,  0., ..., 16.,  9.,  0.],\n",
              "       ...,\n",
              "       [ 0.,  0.,  1., ...,  6.,  0.,  0.],\n",
              "       [ 0.,  0.,  2., ..., 12.,  0.,  0.],\n",
              "       [ 0.,  0., 10., ..., 12.,  1.,  0.]])"
            ]
          },
          "metadata": {},
          "execution_count": 4
        }
      ],
      "source": [
        "digits.data"
      ]
    },
    {
      "cell_type": "markdown",
      "metadata": {
        "id": "igBAI1x08RlD"
      },
      "source": [
        "#### Visualising the data"
      ]
    },
    {
      "cell_type": "code",
      "execution_count": null,
      "metadata": {
        "id": "v68tHQmV8RlE"
      },
      "outputs": [],
      "source": [
        "import matplotlib.pyplot as plt\n",
        "import numpy as np"
      ]
    },
    {
      "cell_type": "code",
      "execution_count": null,
      "metadata": {
        "colab": {
          "base_uri": "https://localhost:8080/",
          "height": 264
        },
        "id": "B-PXHal38RlE",
        "outputId": "80f641e6-083c-4d42-cd27-0a1f8089e4ff"
      },
      "outputs": [
        {
          "output_type": "display_data",
          "data": {
            "image/png": "[encoded data removed]",
            "text/plain": [
              "<Figure size 432x288 with 80 Axes>"
            ]
          },
          "metadata": {
            "needs_background": "light"
          }
        }
      ],
      "source": [
        "# Display random sample of images per class\n",
        "n_samples = 8\n",
        "n_classes = 10\n",
        "for cls in range(n_classes):\n",
        "    idxs = np.where(digits.target == cls)[0]\n",
        "    idxs = np.random.choice(idxs, n_samples, replace=False)\n",
        "    for i, idx in enumerate(idxs):\n",
        "        plt.subplot(n_samples, n_classes, i * n_classes + cls + 1)\n",
        "        plt.axis('off')\n",
        "        plt.imshow(digits.images[idx], cmap=plt.cm.gray_r, interpolation='nearest')\n",
        "        if i == 0:\n",
        "            plt.title(str(cls))\n",
        "plt.show()"
      ]
    },
    {
      "cell_type": "code",
      "execution_count": null,
      "metadata": {
        "colab": {
          "base_uri": "https://localhost:8080/",
          "height": 76
        },
        "id": "XNXKldL18RlG",
        "outputId": "a5815e1c-695a-47cd-da73-04e21ad72d27"
      },
      "outputs": [
        {
          "output_type": "display_data",
          "data": {
            "image/png": "[encoded data removed]",
            "text/plain": [
              "<Figure size 432x288 with 10 Axes>"
            ]
          },
          "metadata": {
            "needs_background": "light"
          }
        }
      ],
      "source": [
        "# Display mean image of each class\n",
        "cls_means = np.zeros(shape=(10,8,8))\n",
        "for cls in range(n_classes):\n",
        "    idxs = np.where(digits.target == cls)[0]\n",
        "    cls_means[cls] = np.mean(digits.images[idxs], axis=0)\n",
        "    plt.subplot(1, n_classes, cls + 1)\n",
        "    plt.axis('off')\n",
        "    plt.imshow(cls_means[cls], cmap=plt.cm.gray_r, interpolation='nearest')\n",
        "    plt.title(str(cls))\n",
        "plt.show()"
      ]
    },
    {
      "cell_type": "markdown",
      "metadata": {
        "id": "kVkPIjdm8RlH"
      },
      "source": [
        "#### Splitting into training and test sets"
      ]
    },
    {
      "cell_type": "code",
      "execution_count": null,
      "metadata": {
        "colab": {
          "base_uri": "https://localhost:8080/"
        },
        "id": "k1IpBObS8RlH",
        "outputId": "7a7bafc6-097f-4db3-b77a-2990da1ff6ce"
      },
      "outputs": [
        {
          "output_type": "stream",
          "name": "stdout",
          "text": [
            "Total examples: 1797\n"
          ]
        }
      ],
      "source": [
        "num_examples = len(digits.data)\n",
        "print('Total examples:', num_examples)"
      ]
    },
    {
      "cell_type": "code",
      "execution_count": null,
      "metadata": {
        "colab": {
          "base_uri": "https://localhost:8080/"
        },
        "id": "Lu7zDvig8RlI",
        "outputId": "cb26f550-0874-4d89-d112-cb942db8fb9a"
      },
      "outputs": [
        {
          "output_type": "stream",
          "name": "stdout",
          "text": [
            "Training set examples: 1257\n"
          ]
        }
      ],
      "source": [
        "split = int(0.7*num_examples)\n",
        "print('Training set examples:', split)"
      ]
    },
    {
      "cell_type": "code",
      "execution_count": null,
      "metadata": {
        "id": "11aGMbsb8RlJ"
      },
      "outputs": [],
      "source": [
        "train_features = digits.data[:split]\n",
        "train_labels = digits.target[:split]\n",
        "test_features = digits.data[split:]\n",
        "test_labels = digits.target[split:]"
      ]
    },
    {
      "cell_type": "code",
      "execution_count": null,
      "metadata": {
        "colab": {
          "base_uri": "https://localhost:8080/"
        },
        "id": "-82xAnmB8RlK",
        "outputId": "1f88739e-c70d-4c67-848a-b256eaf8ea97"
      },
      "outputs": [
        {
          "output_type": "stream",
          "name": "stdout",
          "text": [
            "Shape of train_features: (1257, 64)\n",
            "Shape of train_labels: (540,)\n"
          ]
        }
      ],
      "source": [
        "print(\"Shape of train_features:\", train_features.shape)\n",
        "print(\"Shape of train_labels:\", test_labels.shape)"
      ]
    },
    {
      "cell_type": "code",
      "execution_count": null,
      "metadata": {
        "colab": {
          "base_uri": "https://localhost:8080/"
        },
        "id": "DFkSciHD8RlK",
        "outputId": "9d88bc6e-46e5-4e94-9a09-d5b50ce82601"
      },
      "outputs": [
        {
          "output_type": "stream",
          "name": "stdout",
          "text": [
            "Number of training examples: 1257\n",
            "Number of test examples:     540\n",
            "Number of total examples:    1797\n"
          ]
        }
      ],
      "source": [
        "print(\"Number of training examples:\", len(train_features))\n",
        "print(\"Number of test examples:    \", len(test_features))\n",
        "print(\"Number of total examples:   \", len(train_features)+len(test_features))"
      ]
    },
    {
      "cell_type": "markdown",
      "metadata": {
        "id": "LzIa-m9I8RlM"
      },
      "source": [
        "#### Normalising the data"
      ]
    },
    {
      "cell_type": "code",
      "execution_count": null,
      "metadata": {
        "id": "gVJAhNyE8RlM"
      },
      "outputs": [],
      "source": [
        "train_features = train_features / 16.0\n",
        "test_features = test_features / 16.0"
      ]
    },
    {
      "cell_type": "markdown",
      "metadata": {
        "id": "-zGWulvj8RlN"
      },
      "source": [
        "### Implementing the EM-algorithm\n",
        "The pseudocode for this algorithm has been provided by the EDAN95, Ht2 2019 teaching staff. The full algorithm can be found in \"Machine Learning - A Probabilistic Approach\", Murphy (pp. 353-354).\n",
        "\n",
        "  ```\n",
        "  EM-for-GMM(X, K)\n",
        "    1. Initialise theta_(0,k) = (pi_(0,k), mu_(0,k), sigma_(0,k))\n",
        "      pi_k is the class prior for class k (e.g. assume uniform distribution here initially)\n",
        "      mu_k are the means for the attribute values j in class k (e.g., the means over a random subset of the data)\n",
        "      sigma_k is the covariance for the attribute values in class k (can be simplified to a variance lower_sigma_(jk, 2) for each attribute j if a G-NBC is assumed as the model)\n",
        "    2. Iterate over E and M steps as follows:\n",
        "  ```\n",
        "\n",
        "\n",
        "   ![](https://drive.google.com/uc?export=view&id=1WrViruPJywX3hpLVdvHngY5n-Aj2TUzL)"
      ]
    },
    {
      "cell_type": "markdown",
      "metadata": {
        "id": "ZEVHpQ9a8RlN"
      },
      "source": [
        "  ```\n",
        "  3. Stop, when the mu_k and sigma_k are not changing signficantly anymore.\n",
        "  ```"
      ]
    },
    {
      "cell_type": "markdown",
      "metadata": {
        "id": "uA4YWmpw8RlO"
      },
      "source": [
        "#### EM-algorithm with a Gaussian NBC assumption"
      ]
    },
    {
      "cell_type": "code",
      "execution_count": null,
      "metadata": {
        "id": "UliclK2l8RlO"
      },
      "outputs": [],
      "source": [
        "import pandas as pd\n",
        "from scipy.stats import multivariate_normal, mode, norm"
      ]
    },
    {
      "cell_type": "code",
      "execution_count": null,
      "metadata": {
        "id": "aPP2XcGD8RlP"
      },
      "outputs": [],
      "source": [
        "class EMforGMM:\n",
        "    def __init__(self, K, tol, epsilon, max_iter):\n",
        "        self.K = K\n",
        "        self.tol = tol\n",
        "        self.epsilon = epsilon\n",
        "        self.max_iter = max_iter\n",
        "        \n",
        "    def plot_updates(self, means, covs, weights):\n",
        "        fig = plt.figure()\n",
        "        for k in range(self.K):\n",
        "            plt.subplot(2, 5, k + 1)\n",
        "            plt.axis('off')\n",
        "            plt.imshow(np.reshape(means[k], (8,8)), cmap=plt.cm.gray_r)\n",
        "            plt.title(f'\\u03BC\\u2096 = {weights[k]:.3f}')\n",
        "        plt.show()\n",
        "    \n",
        "    def compute_prob(self, X, mu, sigma):\n",
        "        return 1/np.sqrt(2*np.pi*sigma) * np.exp(-1/(2*sigma) * (X - mu)**2)\n",
        "    \n",
        "    def fit(self, X):\n",
        "        n_samples, n_features = np.shape(X)\n",
        "        # Priors\n",
        "        pi = np.full(shape=self.K, fill_value=(1/self.K))        \n",
        "        # Means\n",
        "        mu = np.ones(shape=(self.K, n_features))\n",
        "        # Covariances\n",
        "        sigma = np.ones(shape=(self.K, n_features))\n",
        "        # Initialisation\n",
        "        idxs = np.resize(range(self.K), n_samples)\n",
        "        np.random.seed(42)\n",
        "        np.random.shuffle(idxs)\n",
        "        for k in range(self.K):\n",
        "            mu[k] = np.mean(X[idxs == k], axis=0)\n",
        "            sigma[k] = np.var(X[idxs == k], axis=0)\n",
        "        sigma += self.epsilon     \n",
        "        delta_mu = np.inf\n",
        "        delta_sigma = np.inf\n",
        "        P = np.zeros(shape=(n_samples, self.K))\n",
        "        r = np.zeros(shape=(n_samples, self.K))\n",
        "        pi_k = np.zeros(self.K)\n",
        "        for i in range(self.max_iter):\n",
        "            # Plot learned representation every 10 iterations\n",
        "            if i % 10 == 0:\n",
        "                print('-'*8 + ' iteration %i ' % i + '-'*8)\n",
        "                print(u'\\u0394\\u03BC\\u2096:', delta_mu)\n",
        "                print(u'\\u0394\\u03C3\\u2096:', delta_sigma)\n",
        "                self.plot_updates(mu, sigma, pi) \n",
        "            # 1. E-step: compute likelihood\n",
        "            for k in range(self.K):\n",
        "                P[:, k] = np.prod(self.compute_prob(X, mu[k], sigma[k]), axis=1)        \n",
        "            r = pi * P / (np.sum(pi * P, axis=1)).reshape(-1,1)\n",
        "            # 2. M-step: update means and variances\n",
        "            r_k = np.sum(r, axis=0)\n",
        "            pi_k = pi\n",
        "            pi = r_k / np.sum(r_k)   \n",
        "            for k in range(self.K):\n",
        "                mu_k = np.sum(r[:, k].reshape(-1,1) * X, axis=0) / r_k[k]\n",
        "                delta_mu = np.abs(mu[k] - mu_k).max()\n",
        "                mu[k] = mu_k            \n",
        "                sigma_k = np.diag((r[:, k].reshape(-1,1) * (X - mu[k])).T @ (X - mu[k]) / r_k[k]) + self.epsilon\n",
        "                delta_sigma = np.abs(sigma[k] - sigma_k).max()\n",
        "                sigma[k] = sigma_k          \n",
        "            # Convergence condition\n",
        "            if np.linalg.norm(pi_k - pi) < self.tol:\n",
        "                print('-'*8 + ' converged' + '-'*8)\n",
        "                self.plot_updates(mu, sigma, pi)\n",
        "                break       \n",
        "        self.weights_ = pi\n",
        "        self.means_ = mu\n",
        "        self.covariances_ = sigma"
      ]
    },
    {
      "cell_type": "markdown",
      "metadata": {
        "id": "1B07lS4m8RlQ"
      },
      "source": [
        "#### Training the model\n",
        "##### Parameters\n",
        "*  `K`: Number of clusters (Gaussians) to form.\n",
        "*  `tol`: Absolute error criterion (convergence threshold) between successive iterations. EM iterations will stop once this lower bound condition has been satisfied.\n",
        "*  `epsilon`: Scalar smoothing value added to the covariances (sigma).\n",
        "*  `max_iter`: Mximum number of training iterations to perform (terminates early if convergence threshold is reached)."
      ]
    },
    {
      "cell_type": "code",
      "execution_count": null,
      "metadata": {
        "id": "ycEMnGAw8RlR"
      },
      "outputs": [],
      "source": [
        "K = 10\n",
        "tol = 0.001\n",
        "epsilon = 0.01\n",
        "max_iter = 160"
      ]
    },
    {
      "cell_type": "code",
      "execution_count": null,
      "metadata": {
        "id": "DosN6UQQ8RlR"
      },
      "outputs": [],
      "source": [
        "model = EMforGMM(K, tol, epsilon, max_iter)"
      ]
    },
    {
      "cell_type": "code",
      "execution_count": null,
      "metadata": {
        "colab": {
          "base_uri": "https://localhost:8080/",
          "height": 1000
        },
        "id": "CCkALUOG8RlS",
        "outputId": "48126fcf-0844-41f0-9c3f-4be838bc8206"
      },
      "outputs": [
        {
          "output_type": "stream",
          "name": "stdout",
          "text": [
            "-------- iteration 0 --------\n",
            "Δμₖ: inf\n",
            "Δσₖ: inf\n"
          ]
        },
        {
          "output_type": "display_data",
          "data": {
            "image/png": "[encoded data removed]",
            "text/plain": [
              "<Figure size 432x288 with 10 Axes>"
            ]
          },
          "metadata": {
            "needs_background": "light"
          }
        },
        {
          "output_type": "stream",
          "name": "stdout",
          "text": [
            "-------- iteration 10 --------\n",
            "Δμₖ: 0.0005060383827942827\n",
            "Δσₖ: 0.00040090351471860214\n"
          ]
        },
        {
          "output_type": "display_data",
          "data": {
            "image/png": "[encoded data removed]",
            "text/plain": [
              "<Figure size 432x288 with 10 Axes>"
            ]
          },
          "metadata": {
            "needs_background": "light"
          }
        },
        {
          "output_type": "stream",
          "name": "stdout",
          "text": [
            "-------- iteration 20 --------\n",
            "Δμₖ: 0.00010711849331196399\n",
            "Δσₖ: 7.663011409525522e-05\n"
          ]
        },
        {
          "output_type": "display_data",
          "data": {
            "image/png": "[encoded data removed]",
            "text/plain": [
              "<Figure size 432x288 with 10 Axes>"
            ]
          },
          "metadata": {
            "needs_background": "light"
          }
        },
        {
          "output_type": "stream",
          "name": "stdout",
          "text": [
            "-------- iteration 30 --------\n",
            "Δμₖ: 3.275392653867559e-05\n",
            "Δσₖ: 2.008519777491058e-05\n"
          ]
        },
        {
          "output_type": "display_data",
          "data": {
            "image/png": "[encoded data removed]",
            "text/plain": [
              "<Figure size 432x288 with 10 Axes>"
            ]
          },
          "metadata": {
            "needs_background": "light"
          }
        },
        {
          "output_type": "stream",
          "name": "stdout",
          "text": [
            "-------- iteration 40 --------\n",
            "Δμₖ: 0.00025846243592364537\n",
            "Δσₖ: 0.0001643142181535634\n"
          ]
        },
        {
          "output_type": "display_data",
          "data": {
            "image/png": "[encoded data removed]",
            "text/plain": [
              "<Figure size 432x288 with 10 Axes>"
            ]
          },
          "metadata": {
            "needs_background": "light"
          }
        },
        {
          "output_type": "stream",
          "name": "stdout",
          "text": [
            "-------- iteration 50 --------\n",
            "Δμₖ: 0.00010536041983000288\n",
            "Δσₖ: 6.277350383704361e-05\n"
          ]
        },
        {
          "output_type": "display_data",
          "data": {
            "image/png": "[encoded data removed]",
            "text/plain": [
              "<Figure size 432x288 with 10 Axes>"
            ]
          },
          "metadata": {
            "needs_background": "light"
          }
        },
        {
          "output_type": "stream",
          "name": "stdout",
          "text": [
            "-------- converged--------\n"
          ]
        },
        {
          "output_type": "display_data",
          "data": {
            "image/png": "[encoded data removed]",
            "text/plain": [
              "<Figure size 432x288 with 10 Axes>"
            ]
          },
          "metadata": {
            "needs_background": "light"
          }
        }
      ],
      "source": [
        "model.fit(train_features)"
      ]
    },
    {
      "cell_type": "markdown",
      "metadata": {
        "id": "eJiaLd128RlT"
      },
      "source": [
        "#### Visualising the model results"
      ]
    },
    {
      "cell_type": "code",
      "execution_count": null,
      "metadata": {
        "colab": {
          "base_uri": "https://localhost:8080/",
          "height": 1000
        },
        "id": "DVyx6pDS8RlV",
        "outputId": "5a167a71-a57e-4a47-d9eb-259a1590a6d1"
      },
      "outputs": [
        {
          "output_type": "display_data",
          "data": {
            "image/png": "[encoded data removed]",
            "text/plain": [
              "<Figure size 432x288 with 10 Axes>"
            ]
          },
          "metadata": {
            "needs_background": "light"
          }
        },
        {
          "output_type": "display_data",
          "data": {
            "image/png": "[encoded data removed]",
            "text/plain": [
              "<Figure size 432x288 with 10 Axes>"
            ]
          },
          "metadata": {
            "needs_background": "light"
          }
        },
        {
          "output_type": "display_data",
          "data": {
            "image/png": "[encoded data removed]",
            "text/plain": [
              "<Figure size 432x288 with 10 Axes>"
            ]
          },
          "metadata": {
            "needs_background": "light"
          }
        },
        {
          "output_type": "display_data",
          "data": {
            "image/png": "[encoded data removed]",
            "text/plain": [
              "<Figure size 432x288 with 10 Axes>"
            ]
          },
          "metadata": {
            "needs_background": "light"
          }
        },
        {
          "output_type": "display_data",
          "data": {
            "image/png": "[encoded data removed]",
            "text/plain": [
              "<Figure size 432x288 with 10 Axes>"
            ]
          },
          "metadata": {
            "needs_background": "light"
          }
        },
        {
          "output_type": "display_data",
          "data": {
            "image/png": "[encoded data removed]",
            "text/plain": [
              "<Figure size 432x288 with 10 Axes>"
            ]
          },
          "metadata": {
            "needs_background": "light"
          }
        },
        {
          "output_type": "display_data",
          "data": {
            "image/png": "[encoded data removed]",
            "text/plain": [
              "<Figure size 432x288 with 10 Axes>"
            ]
          },
          "metadata": {
            "needs_background": "light"
          }
        },
        {
          "output_type": "display_data",
          "data": {
            "image/png": "[encoded data removed]",
            "text/plain": [
              "<Figure size 432x288 with 10 Axes>"
            ]
          },
          "metadata": {
            "needs_background": "light"
          }
        },
        {
          "output_type": "display_data",
          "data": {
            "image/png": "[encoded data removed]",
            "text/plain": [
              "<Figure size 432x288 with 10 Axes>"
            ]
          },
          "metadata": {
            "needs_background": "light"
          }
        },
        {
          "output_type": "display_data",
          "data": {
            "image/png": "[encoded data removed]",
            "text/plain": [
              "<Figure size 432x288 with 10 Axes>"
            ]
          },
          "metadata": {
            "needs_background": "light"
          }
        }
      ],
      "source": [
        "# Generating digits using learnt distributions\n",
        "for i in range(10):\n",
        "    for j in range(10):\n",
        "        pixels = np.array([np.random.normal(model.means_[i][pixel], model.covariances_[i][pixel]) for pixel in range(64)])\n",
        "        plt.subplot(2, 5, j + 1)\n",
        "        plt.axis('off')\n",
        "        plt.imshow(pixels.reshape((8,8)), cmap=plt.cm.gray_r, interpolation='nearest')\n",
        "    plt.show()"
      ]
    },
    {
      "cell_type": "markdown",
      "metadata": {
        "id": "GUjMtHBp8RlY"
      },
      "source": [
        "#### Clustering training data"
      ]
    },
    {
      "cell_type": "markdown",
      "metadata": {
        "id": "s3oykSG88RlZ"
      },
      "source": [
        "*2. Use the results of the EM-algorithm (the found distribution parameters) to cluster the training data (esentially, using the resulting classifier to do a prediction over the training data). Produce a confusion matrix over the known labels for the training data and your EM-generated clusters. What do you see?*"
      ]
    },
    {
      "cell_type": "code",
      "execution_count": null,
      "metadata": {
        "id": "p_iqfi8j8Rla"
      },
      "outputs": [],
      "source": [
        "class GNB:\n",
        "    def __init__(self, gmm):\n",
        "        self.gmm = gmm\n",
        "        \n",
        "    def fit(self, K):\n",
        "        self.K = K     \n",
        "        self.means = self.gmm.means_\n",
        "        self.covs = self.gmm.covariances_\n",
        "        self.weights = np.log(self.gmm.weights_)\n",
        "\n",
        "    def predict_single(self, x):\n",
        "        f = lambda i: self.weights[i] + multivariate_normal.logpdf(x, mean=self.means[i], cov=self.covs[i])        \n",
        "        return np.argmax(\n",
        "            np.fromfunction(np.vectorize(f), shape=(self.K,), dtype=int)\n",
        "        )\n",
        "    \n",
        "    def predict(self, X, translate_targets=True):\n",
        "        y_pred = np.apply_along_axis(self.predict_single, axis=1, arr=X)\n",
        "        return y_pred"
      ]
    },
    {
      "cell_type": "code",
      "execution_count": null,
      "metadata": {
        "id": "4Pg622_T8Rlb"
      },
      "outputs": [],
      "source": [
        "gnb = GNB(model)"
      ]
    },
    {
      "cell_type": "code",
      "execution_count": null,
      "metadata": {
        "id": "HyTr8t1h8Rlc"
      },
      "outputs": [],
      "source": [
        "gnb.fit(K)"
      ]
    },
    {
      "cell_type": "code",
      "execution_count": null,
      "metadata": {
        "id": "B6F-14up8Rlc"
      },
      "outputs": [],
      "source": [
        "y_pred = gnb.predict(train_features)"
      ]
    },
    {
      "cell_type": "code",
      "execution_count": null,
      "metadata": {
        "id": "uvBB1kbb8Rlc"
      },
      "outputs": [],
      "source": [
        "from sklearn import metrics\n",
        "from mlxtend.plotting import plot_confusion_matrix"
      ]
    },
    {
      "cell_type": "code",
      "execution_count": null,
      "metadata": {
        "colab": {
          "base_uri": "https://localhost:8080/",
          "height": 742
        },
        "id": "X1Gprt9s8Rld",
        "outputId": "83a6921a-42c0-4408-c77b-8ed6593c5f89"
      },
      "outputs": [
        {
          "output_type": "stream",
          "name": "stdout",
          "text": [
            "----------Classification Report-----\n",
            "              precision    recall  f1-score   support\n",
            "\n",
            "           0       0.00      0.00      0.00       125\n",
            "           1       0.37      0.49      0.42       129\n",
            "           2       0.00      0.00      0.00       124\n",
            "           3       0.03      0.02      0.02       130\n",
            "           4       0.01      0.01      0.01       124\n",
            "           5       0.10      0.23      0.14       126\n",
            "           6       0.00      0.00      0.00       127\n",
            "           7       0.00      0.00      0.00       125\n",
            "           8       0.00      0.00      0.00       122\n",
            "           9       0.00      0.00      0.00       125\n",
            "\n",
            "    accuracy                           0.08      1257\n",
            "   macro avg       0.05      0.07      0.06      1257\n",
            "weighted avg       0.05      0.08      0.06      1257\n",
            "\n",
            "----------Confusion Matrix----------\n"
          ]
        },
        {
          "output_type": "execute_result",
          "data": {
            "text/plain": [
              "(<Figure size 432x288 with 1 Axes>,\n",
              " <matplotlib.axes._subplots.AxesSubplot at 0x7f472a2648d0>)"
            ]
          },
          "metadata": {},
          "execution_count": 25
        },
        {
          "output_type": "display_data",
          "data": {
            "image/png": "[encoded data removed]",
            "text/plain": [
              "<Figure size 432x288 with 1 Axes>"
            ]
          },
          "metadata": {
            "needs_background": "light"
          }
        }
      ],
      "source": [
        "print('-'*10 + 'Classification Report' + '-'*5)\n",
        "print(metrics.classification_report(train_labels, y_pred))\n",
        "print('-'*10 + 'Confusion Matrix' + '-'*10)\n",
        "plot_confusion_matrix(metrics.confusion_matrix(train_labels, y_pred))"
      ]
    },
    {
      "cell_type": "code",
      "execution_count": null,
      "metadata": {
        "colab": {
          "base_uri": "https://localhost:8080/"
        },
        "id": "WtnhMIU48Rle",
        "outputId": "a4fa874d-26de-4012-bc06-6582dac17245"
      },
      "outputs": [
        {
          "output_type": "stream",
          "name": "stdout",
          "text": [
            "Accuracy: 0.07557677008750995\n",
            "Completeness score: 0.7642499093855386\n",
            "Homogeneity score: 0.7314664403825363\n",
            "AMI score: 0.7437553726604315\n"
          ]
        }
      ],
      "source": [
        "print(\"Accuracy: %s\" %(metrics.accuracy_score(train_labels, y_pred)))\n",
        "print(\"Completeness score: %s\" %(metrics.completeness_score(train_labels, y_pred)))\n",
        "print(\"Homogeneity score: %s\" %(metrics.homogeneity_score(train_labels, y_pred)))\n",
        "print(\"AMI score: %s\" %(metrics.adjusted_mutual_info_score(train_labels, y_pred)))"
      ]
    },
    {
      "cell_type": "markdown",
      "metadata": {
        "id": "mfSUVK9x8Rlf"
      },
      "source": [
        "#### Repairing cluster assignments"
      ]
    },
    {
      "cell_type": "markdown",
      "metadata": {
        "id": "WdBZda_o8Rlg"
      },
      "source": [
        "*3.   If necessary, find a way to \"repair\" the cluster assignments so that you can do a prediction run over the test data, from which you can compare the results with your earlier implementation of the Gaussian NBC.*"
      ]
    },
    {
      "cell_type": "markdown",
      "metadata": {
        "id": "Rv_rabbF8Rlg"
      },
      "source": [
        "##### Method 1. Reassign class labels manually"
      ]
    },
    {
      "cell_type": "code",
      "execution_count": null,
      "metadata": {
        "colab": {
          "base_uri": "https://localhost:8080/",
          "height": 224
        },
        "id": "vAyzkyhh8Rlg",
        "outputId": "5d1346ee-4486-4e2b-f495-c95ae42bf551"
      },
      "outputs": [
        {
          "output_type": "display_data",
          "data": {
            "image/png": "[encoded data removed]",
            "text/plain": [
              "<Figure size 432x288 with 10 Axes>"
            ]
          },
          "metadata": {
            "needs_background": "light"
          }
        }
      ],
      "source": [
        "# Visualise cluster assignments\n",
        "fig = plt.figure()\n",
        "for k in range(K):\n",
        "    img = np.reshape(gnb.means[k], (8,8))\n",
        "    plt.subplot(2, 5, k + 1)\n",
        "    plt.axis('off')\n",
        "    plt.imshow(img, cmap=plt.cm.gray_r, interpolation='nearest')\n",
        "    plt.title(str(k))\n",
        "plt.show()"
      ]
    },
    {
      "cell_type": "code",
      "source": [
        "# \"Repair\" training set predictions\n",
        "y_train = np.zeros(len(y_pred))\n",
        "y_train[y_pred == 0] = 9\n",
        "y_train[y_pred == 1] = 8\n",
        "y_train[y_pred == 2] = 4\n",
        "y_train[y_pred == 3] = 1\n",
        "y_train[y_pred == 4] = 5\n",
        "y_train[y_pred == 5] = 3\n",
        "y_train[y_pred == 6] = 7\n",
        "y_train[y_pred == 7] = 2\n",
        "y_train[y_pred == 8] = 0\n",
        "y_train[y_pred == 9] = 6"
      ],
      "metadata": {
        "id": "CFjKjPcLpgnu"
      },
      "execution_count": null,
      "outputs": []
    },
    {
      "cell_type": "code",
      "execution_count": null,
      "metadata": {
        "colab": {
          "base_uri": "https://localhost:8080/",
          "height": 764
        },
        "id": "xX_LvOKy8Rlh",
        "outputId": "fabdd755-49b2-4976-f2e7-e762e23fb0aa"
      },
      "outputs": [
        {
          "output_type": "stream",
          "name": "stdout",
          "text": [
            "Repaired training set cluster assignments...\n",
            "----------Classification Report-----\n",
            "              precision    recall  f1-score   support\n",
            "\n",
            "           0       1.00      0.99      1.00       125\n",
            "           1       0.40      0.21      0.28       129\n",
            "           2       1.00      0.60      0.75       124\n",
            "           3       0.44      0.94      0.60       130\n",
            "           4       0.99      0.85      0.92       124\n",
            "           5       0.95      0.75      0.84       126\n",
            "           6       1.00      0.98      0.99       127\n",
            "           7       0.83      0.96      0.89       125\n",
            "           8       0.53      0.74      0.62       122\n",
            "           9       0.22      0.12      0.15       125\n",
            "\n",
            "    accuracy                           0.71      1257\n",
            "   macro avg       0.74      0.71      0.70      1257\n",
            "weighted avg       0.73      0.71      0.70      1257\n",
            "\n",
            "----------Confusion Matrix----------\n"
          ]
        },
        {
          "output_type": "execute_result",
          "data": {
            "text/plain": [
              "(<Figure size 432x288 with 1 Axes>,\n",
              " <matplotlib.axes._subplots.AxesSubplot at 0x7f47297bca10>)"
            ]
          },
          "metadata": {},
          "execution_count": 31
        },
        {
          "output_type": "display_data",
          "data": {
            "image/png": "[encoded data removed]",
            "text/plain": [
              "<Figure size 432x288 with 1 Axes>"
            ]
          },
          "metadata": {
            "needs_background": "light"
          }
        }
      ],
      "source": [
        "print('Repaired training set cluster assignments...')\n",
        "print('-'*10 + 'Classification Report' + '-'*5)\n",
        "print(metrics.classification_report(train_labels, y_train))\n",
        "print('-'*10 + 'Confusion Matrix' + '-'*10)\n",
        "plot_confusion_matrix(metrics.confusion_matrix(train_labels, y_train))"
      ]
    },
    {
      "cell_type": "markdown",
      "metadata": {
        "id": "ZLcam1XY8Rli"
      },
      "source": [
        "The downside to this approach is that we have to manually alter the assigned class labels for both the train and test set predictions."
      ]
    },
    {
      "cell_type": "markdown",
      "metadata": {
        "id": "uNzVdG1Q8Rlj"
      },
      "source": [
        "##### Method 2. Create target mapping function"
      ]
    },
    {
      "cell_type": "code",
      "execution_count": null,
      "metadata": {
        "id": "XJXHICcY8Rlj"
      },
      "outputs": [],
      "source": [
        "class GNB:\n",
        "    def __init__(self, gmm):\n",
        "        self.gmm = gmm\n",
        "        \n",
        "    def fit(self, K, X_train, y_train):\n",
        "        self.K = K\n",
        "        self.means = self.gmm.means_\n",
        "        self.covs = self.gmm.covariances_\n",
        "        self.weights = np.log(self.gmm.weights_)          \n",
        "        self.create_target_mapping(X_train, y_train)\n",
        "        \n",
        "    def create_target_mapping(self, X_train, y_train):\n",
        "        self.target_mapping = np.zeros(self.K)\n",
        "        y_pred = self.predict(X_train, translate_targets=False)\n",
        "        for i in range(self.K):\n",
        "            indexes = y_pred == i\n",
        "            self.target_mapping[i] = mode(y_train[indexes])[0][0]\n",
        "    \n",
        "    def predict_single(self, x):\n",
        "        f = lambda i: self.weights[i] + multivariate_normal.logpdf(x, mean=self.means[i], cov=self.covs[i]) \n",
        "        return np.argmax(\n",
        "            np.fromfunction(np.vectorize(f), shape=(self.K,), dtype=int)\n",
        "        )\n",
        "    \n",
        "    def predict(self, X_test, translate_targets=True):\n",
        "        y = np.apply_along_axis(self.predict_single, axis=1, arr=X_test)\n",
        "        return self.target_mapping[y] if translate_targets else y"
      ]
    },
    {
      "cell_type": "code",
      "execution_count": null,
      "metadata": {
        "id": "LVgTWmg98Rlk"
      },
      "outputs": [],
      "source": [
        "# Prediction run over training data"
      ]
    },
    {
      "cell_type": "code",
      "execution_count": null,
      "metadata": {
        "id": "2zFJeBSM8Rlk"
      },
      "outputs": [],
      "source": [
        "gnb = GNB(model)"
      ]
    },
    {
      "cell_type": "code",
      "execution_count": null,
      "metadata": {
        "id": "waXeS7aq8Rll"
      },
      "outputs": [],
      "source": [
        "gnb.fit(K, train_features, train_labels)"
      ]
    },
    {
      "cell_type": "code",
      "execution_count": null,
      "metadata": {
        "id": "nUmzYivo8Rll"
      },
      "outputs": [],
      "source": [
        "y_pred = gnb.predict(train_features, translate_targets=True)"
      ]
    },
    {
      "cell_type": "code",
      "execution_count": null,
      "metadata": {
        "colab": {
          "base_uri": "https://localhost:8080/",
          "height": 916
        },
        "id": "TIaDTTDx8Rll",
        "outputId": "c426a80e-5746-465b-f68f-ae3b58af73cf"
      },
      "outputs": [
        {
          "output_type": "stream",
          "name": "stdout",
          "text": [
            "Prediction over training data...\n",
            "----------Classification Report-----\n",
            "              precision    recall  f1-score   support\n",
            "\n",
            "           0       1.00      0.99      1.00       125\n",
            "           1       0.57      0.30      0.39       129\n",
            "           2       0.77      0.87      0.82       124\n",
            "           3       0.44      0.94      0.60       130\n",
            "           4       0.99      0.85      0.92       124\n",
            "           5       0.95      0.75      0.84       126\n",
            "           6       1.00      0.98      0.99       127\n",
            "           7       0.83      0.96      0.89       125\n",
            "           8       0.53      0.74      0.62       122\n",
            "           9       0.00      0.00      0.00       125\n",
            "\n",
            "    accuracy                           0.74      1257\n",
            "   macro avg       0.71      0.74      0.71      1257\n",
            "weighted avg       0.71      0.74      0.71      1257\n",
            "\n",
            "----------Confusion Matrix----------\n"
          ]
        },
        {
          "output_type": "stream",
          "name": "stderr",
          "text": [
            "/usr/local/lib/python3.7/dist-packages/sklearn/metrics/_classification.py:1308: UndefinedMetricWarning: Precision and F-score are ill-defined and being set to 0.0 in labels with no predicted samples. Use `zero_division` parameter to control this behavior.\n",
            "  _warn_prf(average, modifier, msg_start, len(result))\n",
            "/usr/local/lib/python3.7/dist-packages/sklearn/metrics/_classification.py:1308: UndefinedMetricWarning: Precision and F-score are ill-defined and being set to 0.0 in labels with no predicted samples. Use `zero_division` parameter to control this behavior.\n",
            "  _warn_prf(average, modifier, msg_start, len(result))\n",
            "/usr/local/lib/python3.7/dist-packages/sklearn/metrics/_classification.py:1308: UndefinedMetricWarning: Precision and F-score are ill-defined and being set to 0.0 in labels with no predicted samples. Use `zero_division` parameter to control this behavior.\n",
            "  _warn_prf(average, modifier, msg_start, len(result))\n"
          ]
        },
        {
          "output_type": "execute_result",
          "data": {
            "text/plain": [
              "(<Figure size 432x288 with 1 Axes>,\n",
              " <matplotlib.axes._subplots.AxesSubplot at 0x7f4729069dd0>)"
            ]
          },
          "metadata": {},
          "execution_count": 37
        },
        {
          "output_type": "display_data",
          "data": {
            "image/png": "[encoded data removed]",
            "text/plain": [
              "<Figure size 432x288 with 1 Axes>"
            ]
          },
          "metadata": {
            "needs_background": "light"
          }
        }
      ],
      "source": [
        "print('Prediction over training data...')\n",
        "print('-'*10 + 'Classification Report' + '-'*5)\n",
        "print(metrics.classification_report(train_labels, y_pred))\n",
        "print('-'*10 + 'Confusion Matrix' + '-'*10)\n",
        "plot_confusion_matrix(metrics.confusion_matrix(train_labels, y_pred))"
      ]
    },
    {
      "cell_type": "code",
      "execution_count": null,
      "metadata": {
        "id": "dlMKwIyJ8Rlm"
      },
      "outputs": [],
      "source": [
        "# Prediction run over test data"
      ]
    },
    {
      "cell_type": "code",
      "execution_count": null,
      "metadata": {
        "id": "j-0Fg9r08Rlm"
      },
      "outputs": [],
      "source": [
        "y_pred = gnb.predict(test_features, translate_targets=True)"
      ]
    },
    {
      "cell_type": "code",
      "execution_count": null,
      "metadata": {
        "colab": {
          "base_uri": "https://localhost:8080/",
          "height": 916
        },
        "id": "l7WvB7oN8Rln",
        "outputId": "ada110cb-2fe9-4ba1-e239-817209297ff0"
      },
      "outputs": [
        {
          "output_type": "stream",
          "name": "stdout",
          "text": [
            "Prediction over test data...\n",
            "----------Classification Report-----\n",
            "              precision    recall  f1-score   support\n",
            "\n",
            "           0       1.00      0.94      0.97        53\n",
            "           1       0.71      0.32      0.44        53\n",
            "           2       0.96      0.91      0.93        53\n",
            "           3       0.34      0.77      0.47        53\n",
            "           4       0.96      0.89      0.93        57\n",
            "           5       0.88      0.62      0.73        56\n",
            "           6       0.98      0.96      0.97        54\n",
            "           7       0.82      0.98      0.89        54\n",
            "           8       0.46      0.75      0.57        52\n",
            "           9       0.00      0.00      0.00        55\n",
            "\n",
            "    accuracy                           0.71       540\n",
            "   macro avg       0.71      0.72      0.69       540\n",
            "weighted avg       0.71      0.71      0.69       540\n",
            "\n",
            "----------Confusion Matrix----------\n"
          ]
        },
        {
          "output_type": "stream",
          "name": "stderr",
          "text": [
            "/usr/local/lib/python3.7/dist-packages/sklearn/metrics/_classification.py:1308: UndefinedMetricWarning: Precision and F-score are ill-defined and being set to 0.0 in labels with no predicted samples. Use `zero_division` parameter to control this behavior.\n",
            "  _warn_prf(average, modifier, msg_start, len(result))\n",
            "/usr/local/lib/python3.7/dist-packages/sklearn/metrics/_classification.py:1308: UndefinedMetricWarning: Precision and F-score are ill-defined and being set to 0.0 in labels with no predicted samples. Use `zero_division` parameter to control this behavior.\n",
            "  _warn_prf(average, modifier, msg_start, len(result))\n",
            "/usr/local/lib/python3.7/dist-packages/sklearn/metrics/_classification.py:1308: UndefinedMetricWarning: Precision and F-score are ill-defined and being set to 0.0 in labels with no predicted samples. Use `zero_division` parameter to control this behavior.\n",
            "  _warn_prf(average, modifier, msg_start, len(result))\n"
          ]
        },
        {
          "output_type": "execute_result",
          "data": {
            "text/plain": [
              "(<Figure size 432x288 with 1 Axes>,\n",
              " <matplotlib.axes._subplots.AxesSubplot at 0x7f4728eae910>)"
            ]
          },
          "metadata": {},
          "execution_count": 40
        },
        {
          "output_type": "display_data",
          "data": {
            "image/png": "[encoded data removed]",
            "text/plain": [
              "<Figure size 432x288 with 1 Axes>"
            ]
          },
          "metadata": {
            "needs_background": "light"
          }
        }
      ],
      "source": [
        "print('Prediction over test data...')\n",
        "print('-'*10 + 'Classification Report' + '-'*5)\n",
        "print(metrics.classification_report(test_labels, y_pred))\n",
        "print('-'*10 + 'Confusion Matrix' + '-'*10)\n",
        "plot_confusion_matrix(metrics.confusion_matrix(test_labels, y_pred))"
      ]
    },
    {
      "cell_type": "markdown",
      "metadata": {
        "id": "jhUPBOw68Rln"
      },
      "source": [
        "### Compare to k-Means with SciKitLearn"
      ]
    },
    {
      "cell_type": "markdown",
      "metadata": {
        "id": "KuDi9gTF8Rlo"
      },
      "source": [
        "*4.   Use now also the k-Means implementation from SciKitLearn and compare the results to yours (they should be similar at least in the sense that there are classes that are more clearly separated from the rest than others for best approaches).*"
      ]
    },
    {
      "cell_type": "code",
      "execution_count": null,
      "metadata": {
        "id": "t6b66mF28Rlo"
      },
      "outputs": [],
      "source": [
        "from sklearn.cluster import KMeans"
      ]
    },
    {
      "cell_type": "code",
      "execution_count": null,
      "metadata": {
        "id": "aRFipHbf8Rlo"
      },
      "outputs": [],
      "source": [
        "clf = KMeans(n_clusters=len(np.unique(train_labels)), init='random')"
      ]
    },
    {
      "cell_type": "code",
      "execution_count": null,
      "metadata": {
        "id": "0EE-Eb5u8Rlo",
        "outputId": "c17467c1-ae4d-42eb-f09e-36b2d728a1c6"
      },
      "outputs": [
        {
          "data": {
            "text/plain": [
              "KMeans(init='random', n_clusters=10)"
            ]
          },
          "execution_count": 41,
          "metadata": {},
          "output_type": "execute_result"
        }
      ],
      "source": [
        "clf.fit(train_features, train_labels)"
      ]
    },
    {
      "cell_type": "code",
      "execution_count": null,
      "metadata": {
        "id": "6mz-cg7b8Rlp"
      },
      "outputs": [],
      "source": [
        "# Compute the clusters\n",
        "y_pred = clf.fit_predict(test_features)"
      ]
    },
    {
      "cell_type": "markdown",
      "metadata": {
        "id": "C4HfnYuN8Rlp"
      },
      "source": [
        "\"Because k-means knows nothing about the identity of the cluster, the 0-9 labels may be permuted. We can fix this by matching each learned cluster label with the true labels found in them\" – J. VanderPlas, 2016."
      ]
    },
    {
      "cell_type": "code",
      "execution_count": null,
      "metadata": {
        "id": "9wPSCfPx8Rlp"
      },
      "outputs": [],
      "source": [
        "# Permute the labels\n",
        "labels = np.zeros_like(y_pred)\n",
        "for i in range(10):\n",
        "    mask = (y_pred == i)\n",
        "    labels[mask] = mode(test_labels[mask])[0]"
      ]
    },
    {
      "cell_type": "code",
      "execution_count": null,
      "metadata": {
        "id": "1rkZWdKL8Rlq"
      },
      "outputs": [],
      "source": [
        "mat = metrics.confusion_matrix(test_labels, labels)"
      ]
    },
    {
      "cell_type": "code",
      "execution_count": null,
      "metadata": {
        "id": "SRfABkWl8Rlq",
        "outputId": "77ce16a8-03c8-48b7-b812-e621a00f7285"
      },
      "outputs": [
        {
          "name": "stdout",
          "output_type": "stream",
          "text": [
            "----------Classification Report-----\n",
            "              precision    recall  f1-score   support\n",
            "\n",
            "           0       0.98      0.96      0.97        53\n",
            "           1       0.55      1.00      0.71        53\n",
            "           2       1.00      0.74      0.85        53\n",
            "           3       0.00      0.00      0.00        53\n",
            "           4       0.98      0.93      0.95        57\n",
            "           5       0.91      0.95      0.93        56\n",
            "           6       0.95      1.00      0.97        54\n",
            "           7       0.69      1.00      0.82        54\n",
            "           8       0.00      0.00      0.00        52\n",
            "           9       0.43      0.82      0.56        55\n",
            "\n",
            "    accuracy                           0.74       540\n",
            "   macro avg       0.65      0.74      0.68       540\n",
            "weighted avg       0.65      0.74      0.68       540\n",
            "\n",
            "----------Confusion Matrix----------\n"
          ]
        },
        {
          "name": "stderr",
          "output_type": "stream",
          "text": [
            "/opt/anaconda3/lib/python3.8/site-packages/sklearn/metrics/_classification.py:1248: UndefinedMetricWarning: Precision and F-score are ill-defined and being set to 0.0 in labels with no predicted samples. Use `zero_division` parameter to control this behavior.\n",
            "  _warn_prf(average, modifier, msg_start, len(result))\n",
            "/opt/anaconda3/lib/python3.8/site-packages/sklearn/metrics/_classification.py:1248: UndefinedMetricWarning: Precision and F-score are ill-defined and being set to 0.0 in labels with no predicted samples. Use `zero_division` parameter to control this behavior.\n",
            "  _warn_prf(average, modifier, msg_start, len(result))\n",
            "/opt/anaconda3/lib/python3.8/site-packages/sklearn/metrics/_classification.py:1248: UndefinedMetricWarning: Precision and F-score are ill-defined and being set to 0.0 in labels with no predicted samples. Use `zero_division` parameter to control this behavior.\n",
            "  _warn_prf(average, modifier, msg_start, len(result))\n"
          ]
        },
        {
          "data": {
            "text/plain": [
              "(<Figure size 432x288 with 1 Axes>,\n",
              " <AxesSubplot:xlabel='predicted label', ylabel='true label'>)"
            ]
          },
          "execution_count": 45,
          "metadata": {},
          "output_type": "execute_result"
        },
        {
          "data": {
            "image/png": "[encoded data removed]",
            "text/plain": [
              "<Figure size 432x288 with 1 Axes>"
            ]
          },
          "metadata": {
            "needs_background": "light"
          },
          "output_type": "display_data"
        }
      ],
      "source": [
        "print('-'*10 + 'Classification Report' + '-'*5)\n",
        "print(metrics.classification_report(test_labels, labels))\n",
        "print('-'*10 + 'Confusion Matrix' + '-'*10)\n",
        "plot_confusion_matrix(metrics.confusion_matrix(test_labels, labels))"
      ]
    },
    {
      "cell_type": "code",
      "execution_count": null,
      "metadata": {
        "id": "0hMnWUOj8Rlr",
        "outputId": "8465f218-a778-40c9-ae28-9f12aaff54b6"
      },
      "outputs": [
        {
          "name": "stdout",
          "output_type": "stream",
          "text": [
            "Accuracy: 0.7444444444444445\n",
            "Completeness score: 0.8089661544736777\n",
            "Homogeneity score: 0.7128614631464921\n",
            "AMI score: 0.7508813410219344\n"
          ]
        }
      ],
      "source": [
        "print(\"Accuracy: %s\" %(metrics.accuracy_score(test_labels, labels)))\n",
        "print(\"Completeness score: %s\" %(metrics.completeness_score(test_labels, labels)))\n",
        "print(\"Homogeneity score: %s\" %(metrics.homogeneity_score(test_labels, labels)))\n",
        "print(\"AMI score: %s\" %(metrics.adjusted_mutual_info_score(test_labels, labels)))"
      ]
    },
    {
      "cell_type": "markdown",
      "metadata": {
        "id": "N9cEaJSI8Rlr"
      },
      "source": [
        "Some hints on the quality of your EM result: It is, in principle with a vanilla implementation as given above, possible to achieve a completeness score (`sklearn.metrics.completeness_score`) of approximately `0.72`, where the respective score for the k-Means clustering is `~0.77` on the `digits` data. Alternatively, you can use the homogenity score, (`sklearn.metrics.homogenity_score`), which I got to `~0.71` (k-Means: `0.74`), or the adjusted mutual information score (`~0.71`, k-Means: `0.74`). Take these numbers as some hint, not as the ultimate truth, please, but they should give you some idea of what is possible."
      ]
    },
    {
      "cell_type": "markdown",
      "metadata": {
        "id": "2VHGukFT8Rlr"
      },
      "source": [
        "## Credits\n",
        "This assignment was prepared by E.A Topp et al., HT2019 (link [here](https://web.archive.org/web/20200111075148/http://cs.lth.se/edan95/lab-programming-assignments/lab-session-6/)).\n",
        "\n",
        "Label permutation problem for k-Means clustering of digits dataset explained in detail [here](https://jakevdp.github.io/PythonDataScienceHandbook/05.11-k-means.html)."
      ]
    }
  ],
  "metadata": {
    "kernelspec": {
      "display_name": "Python 3",
      "language": "python",
      "name": "python3"
    },
    "language_info": {
      "codemirror_mode": {
        "name": "ipython",
        "version": 3
      },
      "file_extension": ".py",
      "mimetype": "text/x-python",
      "name": "python",
      "nbconvert_exporter": "python",
      "pygments_lexer": "ipython3",
      "version": "3.8.5"
    },
    "colab": {
      "name": "2019-12-13-Expectation-Maximization-For-Gaussian-Mixture-Models.ipynb",
      "provenance": []
    }
  },
  "nbformat": 4,
  "nbformat_minor": 0
}
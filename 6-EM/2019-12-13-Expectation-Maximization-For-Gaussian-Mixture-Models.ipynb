{
 "cells": [
  {
   "cell_type": "markdown",
   "metadata": {},
   "source": [
    "# Expectation-Maximisation For Gaussian Mixture Models\n",
    "#### By Jonathan L. Moran (jo6155mo-s@student.lu.se)\n",
    "From the EDAN95 - Applied Machine Learning course given at Lunds Tekniska Högskola (LTH) | Ht2 2019."
   ]
  },
  {
   "cell_type": "markdown",
   "metadata": {},
   "source": [
    "## Objectives\n",
    "In this post you will\n",
    "*    train a Gaussian NBC with the EM algorithm\n",
    "*    compare the results you get to those of the k-Means clustering provided in SciKitLearn"
   ]
  },
  {
   "cell_type": "markdown",
   "metadata": {},
   "source": [
    "## Background and Tools\n",
    "The EM (Expectation-Maximisation) algorithm solves the problem of not being able to compute the Maximum Likelihood Estimates for unknown classes directly by iterating over the two steps until there is no significant change in Step 2 observable:\n",
    "```\n",
    "1.    Compute the expected outcome for each sample / sample given estimates for priors and distribution (essentially, the likelihoods for observing the sample assuming an estimated distribution)\n",
    "```\n",
    "```\n",
    "2.    Compute the new estimates for your priors and distributions (in the case of a Gaussian NBC, new means and variances are needed) based on the estimated expected values for how much each sample belongs to the respective distribution.\n",
    "```\n",
    "You can find the algorithm stated explicitly as given in Murphy, \"Machine Learning - A probabilistic perspective\", pp. 352-353 [HERE](http://fileadmin.cs.lth.se/cs/Education/EDAN95/Handouts/EM-algo.pdf).\n",
    "\n",
    "One special case of the EM algorithm is k-Means clustering, for which an implementation can be found in SciKitLearn."
   ]
  },
  {
   "cell_type": "markdown",
   "metadata": {},
   "source": [
    "## Implementation task\n",
    "*1. Implement the EM-algorithm to find a Gaussian NBC for the `digits` dataset from SciKitLearn (you can of course also use the `MNIST_Light` set from Lab 5, but for initial tests the `digits` data set is more convienent, since it is smaller in various aspects). You may assume (conditional) indepdendence between the attributes, i.e., the covariances can be assumed to be simply the variances over each attribute. Split the data set in `70% training`, `30% test` data. If you experience problems due to the repreated multiplication of tiny values in likelihoods, it might help to normalise the data to values between `0.0` and `1.0` (i.e., simply divdie every pixel value with `16.0` in the `digits` data).*"
   ]
  },
  {
   "cell_type": "markdown",
   "metadata": {},
   "source": [
    "### Collecting the dataset"
   ]
  },
  {
   "cell_type": "markdown",
   "metadata": {},
   "source": [
    "Recall that the `digits` dataset consists of 1,797 samples. Each sample is an 8x8 image of a single handwritten digit from 0 to 9. Each sample therefore has 64 features, where each of the 64 features is a brightness value of a pixel in the image."
   ]
  },
  {
   "cell_type": "code",
   "execution_count": 1,
   "metadata": {},
   "outputs": [],
   "source": [
    "from sklearn.datasets import load_digits"
   ]
  },
  {
   "cell_type": "code",
   "execution_count": 2,
   "metadata": {},
   "outputs": [],
   "source": [
    "digits = load_digits()"
   ]
  },
  {
   "cell_type": "code",
   "execution_count": 3,
   "metadata": {},
   "outputs": [
    {
     "name": "stdout",
     "output_type": "stream",
     "text": [
      "Shape of digits.images input array: (1797, 8, 8)\n"
     ]
    }
   ],
   "source": [
    "print('Shape of digits.images input array:', digits.images.shape)"
   ]
  },
  {
   "cell_type": "code",
   "execution_count": 4,
   "metadata": {},
   "outputs": [
    {
     "data": {
      "text/plain": [
       "array([[ 0.,  0.,  5., ...,  0.,  0.,  0.],\n",
       "       [ 0.,  0.,  0., ..., 10.,  0.,  0.],\n",
       "       [ 0.,  0.,  0., ..., 16.,  9.,  0.],\n",
       "       ...,\n",
       "       [ 0.,  0.,  1., ...,  6.,  0.,  0.],\n",
       "       [ 0.,  0.,  2., ..., 12.,  0.,  0.],\n",
       "       [ 0.,  0., 10., ..., 12.,  1.,  0.]])"
      ]
     },
     "execution_count": 4,
     "metadata": {},
     "output_type": "execute_result"
    }
   ],
   "source": [
    "digits.data"
   ]
  },
  {
   "cell_type": "markdown",
   "metadata": {},
   "source": [
    "#### Visualising the data"
   ]
  },
  {
   "cell_type": "code",
   "execution_count": 5,
   "metadata": {},
   "outputs": [],
   "source": [
    "import matplotlib.pyplot as plt\n",
    "import numpy as np"
   ]
  },
  {
   "cell_type": "code",
   "execution_count": 6,
   "metadata": {},
   "outputs": [
    {
     "data": {
      "image/png": "[encoded data removed]",
      "text/plain": [
       "<Figure size 432x288 with 80 Axes>"
      ]
     },
     "metadata": {
      "needs_background": "light"
     },
     "output_type": "display_data"
    }
   ],
   "source": [
    "# Display random sample of images per class\n",
    "n_samples = 8\n",
    "n_classes = 10\n",
    "for cls in range(n_classes):\n",
    "    idxs = np.where(digits.target == cls)[0]\n",
    "    idxs = np.random.choice(idxs, n_samples, replace=False)\n",
    "    for i, idx in enumerate(idxs):\n",
    "        plt.subplot(n_samples, n_classes, i * n_classes + cls + 1)\n",
    "        plt.axis('off')\n",
    "        plt.imshow(digits.images[idx], cmap=plt.cm.gray_r, interpolation='nearest')\n",
    "        if i == 0:\n",
    "            plt.title(str(cls))\n",
    "plt.show()"
   ]
  },
  {
   "cell_type": "code",
   "execution_count": 7,
   "metadata": {},
   "outputs": [
    {
     "data": {
      "image/png": "[encoded data removed]",
      "text/plain": [
       "<Figure size 432x288 with 10 Axes>"
      ]
     },
     "metadata": {
      "needs_background": "light"
     },
     "output_type": "display_data"
    }
   ],
   "source": [
    "# Display mean image of each class\n",
    "cls_means = np.zeros(shape=(10,8,8))\n",
    "for cls in range(n_classes):\n",
    "    idxs = np.where(digits.target == cls)[0]\n",
    "    cls_means[cls] = np.mean(digits.images[idxs], axis=0)\n",
    "    plt.subplot(1, n_classes, cls + 1)\n",
    "    plt.axis('off')\n",
    "    plt.imshow(cls_means[cls], cmap=plt.cm.gray_r, interpolation='nearest')\n",
    "    plt.title(str(cls))\n",
    "plt.show()"
   ]
  },
  {
   "cell_type": "markdown",
   "metadata": {},
   "source": [
    "#### Splitting into training and test sets"
   ]
  },
  {
   "cell_type": "code",
   "execution_count": 8,
   "metadata": {},
   "outputs": [
    {
     "name": "stdout",
     "output_type": "stream",
     "text": [
      "Total examples: 1797\n"
     ]
    }
   ],
   "source": [
    "num_examples = len(digits.data)\n",
    "print('Total examples:', num_examples)"
   ]
  },
  {
   "cell_type": "code",
   "execution_count": 9,
   "metadata": {},
   "outputs": [
    {
     "name": "stdout",
     "output_type": "stream",
     "text": [
      "Training set examples: 1257\n"
     ]
    }
   ],
   "source": [
    "split = int(0.7*num_examples)\n",
    "print('Training set examples:', split)"
   ]
  },
  {
   "cell_type": "code",
   "execution_count": 10,
   "metadata": {},
   "outputs": [],
   "source": [
    "train_features = digits.data[:split]\n",
    "train_labels = digits.target[:split]\n",
    "test_features = digits.data[split:]\n",
    "test_labels = digits.target[split:]"
   ]
  },
  {
   "cell_type": "code",
   "execution_count": 11,
   "metadata": {},
   "outputs": [
    {
     "name": "stdout",
     "output_type": "stream",
     "text": [
      "Shape of train_features: (1257, 64)\n",
      "Shape of train_labels: (540,)\n"
     ]
    }
   ],
   "source": [
    "print(\"Shape of train_features:\", train_features.shape)\n",
    "print(\"Shape of train_labels:\", test_labels.shape)"
   ]
  },
  {
   "cell_type": "code",
   "execution_count": 12,
   "metadata": {},
   "outputs": [
    {
     "name": "stdout",
     "output_type": "stream",
     "text": [
      "Number of training examples: 1257\n",
      "Number of test examples:     540\n",
      "Number of total examples:    1797\n"
     ]
    }
   ],
   "source": [
    "print(\"Number of training examples:\", len(train_features))\n",
    "print(\"Number of test examples:    \", len(test_features))\n",
    "print(\"Number of total examples:   \", len(train_features)+len(test_features))"
   ]
  },
  {
   "cell_type": "markdown",
   "metadata": {},
   "source": [
    "#### Normalising the data"
   ]
  },
  {
   "cell_type": "code",
   "execution_count": 13,
   "metadata": {},
   "outputs": [],
   "source": [
    "train_features = train_features / 16.0\n",
    "test_features = test_features / 16.0"
   ]
  },
  {
   "cell_type": "markdown",
   "metadata": {},
   "source": [
    "### Implementing the EM-algorithm\n",
    "The pseudocode for this algorithm has been provided by the EDAN95, Ht2 2019 teaching staff. The full algorithm can be found in \"Machine Learning - A Probabilistic Approach\", Murphy (pp. 353-354).\n",
    "\n",
    "  ```\n",
    "  EM-for-GMM(X, K)\n",
    "    1. Initialise theta_(0,k) = (pi_(0,k), mu_(0,k), sigma_(0,k))\n",
    "      pi_k is the class prior for class k (e.g. assume uniform distribution here initially)\n",
    "      mu_k are the means for the attribute values j in class k (e.g., the means over a random subset of the data)\n",
    "      sigma_k is the covariance for the attribute values in class k (can be simplified to a variance lower_sigma_(jk, 2) for each attribute j if a G-NBC is assumed as the model)\n",
    "    2. Iterate over E and M steps as follows:\n",
    "  ```\n",
    "\n",
    "\n",
    "   ![](https://drive.google.com/uc?export=view&id=1WrViruPJywX3hpLVdvHngY5n-Aj2TUzL)"
   ]
  },
  {
   "cell_type": "markdown",
   "metadata": {},
   "source": [
    "  ```\n",
    "  3. Stop, when the mu_k and sigma_k are not changing signficantly anymore.\n",
    "  ```"
   ]
  },
  {
   "cell_type": "markdown",
   "metadata": {},
   "source": [
    "#### EM-algorithm with a Gaussian NBC assumption"
   ]
  },
  {
   "cell_type": "code",
   "execution_count": 14,
   "metadata": {},
   "outputs": [],
   "source": [
    "import pandas as pd\n",
    "from scipy.stats import multivariate_normal, mode, norm"
   ]
  },
  {
   "cell_type": "code",
   "execution_count": 15,
   "metadata": {},
   "outputs": [],
   "source": [
    "class EMforGMM:\n",
    "    def __init__(self, K, tol, epsilon, max_iter):\n",
    "        self.K = K\n",
    "        self.tol = tol\n",
    "        self.epsilon = epsilon\n",
    "        self.max_iter = max_iter\n",
    "        \n",
    "    def plot_updates(self, means, covs, weights):\n",
    "        fig = plt.figure()\n",
    "        for k in range(self.K):\n",
    "            plt.subplot(2, 5, k + 1)\n",
    "            plt.axis('off')\n",
    "            plt.imshow(np.reshape(means[k], (8,8)), cmap=plt.cm.gray_r)\n",
    "            plt.title(f'\\u03BC\\u2096 = {weights[k]:.3f}')\n",
    "        plt.show()\n",
    "    \n",
    "    def compute_prob(self, X, mu, sigma):\n",
    "        return 1/np.sqrt(2*np.pi*sigma) * np.exp(-1/(2*sigma) * (X - mu)**2)\n",
    "    \n",
    "    def fit(self, X):\n",
    "        n_samples, n_features = np.shape(X)\n",
    "        \n",
    "        # Priors\n",
    "        pi = np.full(shape=self.K, fill_value=(1/self.K))        \n",
    "        # Means\n",
    "        mu = np.ones(shape=(self.K, n_features))\n",
    "        # Covariances\n",
    "        sigma = np.ones(shape=(self.K, n_features))\n",
    "        \n",
    "        # Initialisation\n",
    "        idxs = np.resize(range(self.K), n_samples)\n",
    "        np.random.seed(42)\n",
    "        np.random.shuffle(idxs)\n",
    "        for k in range(self.K):\n",
    "            mu[k] = np.mean(X[idxs == k], axis=0)\n",
    "            sigma[k] = np.var(X[idxs == k], axis=0)\n",
    "        sigma += self.epsilon     \n",
    "        delta_mu = np.inf\n",
    "        delta_sigma = np.inf\n",
    "        \n",
    "        P = np.zeros(shape=(n_samples, self.K))\n",
    "        r = np.zeros(shape=(n_samples, self.K))\n",
    "        pi_k = np.zeros(self.K)\n",
    "\n",
    "        for i in range(self.max_iter):\n",
    "            \n",
    "            # Plot learned representation every 10 iterations\n",
    "            if i % 10 == 0:\n",
    "                print('-'*8 + ' iteration %i ' % i + '-'*8)\n",
    "                print(u'\\u0394\\u03BC\\u2096:', delta_mu)\n",
    "                print(u'\\u0394\\u03C3\\u2096:', delta_sigma)\n",
    "                self.plot_updates(mu, sigma, pi)\n",
    "            \n",
    "            # 1. E-step: compute likelihood\n",
    "            for k in range(self.K):\n",
    "                P[:, k] = np.prod(self.compute_prob(X, mu[k], sigma[k]), axis=1)\n",
    "            \n",
    "            r = pi * P / (np.sum(pi * P, axis=1)).reshape(-1,1)\n",
    "            \n",
    "            # 2. M-step: update means and variances\n",
    "            r_k = np.sum(r, axis=0)\n",
    "            pi_k = pi\n",
    "            pi = r_k / np.sum(r_k)\n",
    "            \n",
    "            for k in range(self.K):\n",
    "                mu_k = np.sum(r[:, k].reshape(-1,1) * X, axis=0) / r_k[k]\n",
    "                delta_mu = np.abs(mu[k] - mu_k).max()\n",
    "                mu[k] = mu_k\n",
    "                \n",
    "                sigma_k = np.diag((r[:, k].reshape(-1,1) * (X - mu[k])).T @ (X - mu[k]) / r_k[k]) + self.epsilon\n",
    "                delta_sigma = np.abs(sigma[k] - sigma_k).max()\n",
    "                sigma[k] = sigma_k\n",
    "            \n",
    "            # Convergence condition\n",
    "            if np.linalg.norm(pi_k - pi) < self.tol:\n",
    "                print('-'*8 + ' converged' + '-'*8)\n",
    "                self.plot_updates(mu, sigma, pi)\n",
    "                break\n",
    "            \n",
    "        self.weights_ = pi\n",
    "        self.means_ = mu\n",
    "        self.covariances_ = sigma"
   ]
  },
  {
   "cell_type": "markdown",
   "metadata": {},
   "source": [
    "#### Training the model\n",
    "##### Parameters\n",
    "*  `K`: Number of clusters (Gaussians) to form.\n",
    "*  `tol`: Absolute error criterion (convergence threshold) between successive iterations. EM iterations will stop once this lower bound condition has been satisfied.\n",
    "*  `epsilon`: Scalar smoothing value added to the covariances (sigma).\n",
    "*  `max_iter`: Mximum number of training iterations to perform (terminates early if convergence threshold is reached)."
   ]
  },
  {
   "cell_type": "code",
   "execution_count": 16,
   "metadata": {},
   "outputs": [],
   "source": [
    "K = 10\n",
    "tol = 1e-10\n",
    "epsilon = 1e-4\n",
    "max_iter = 160"
   ]
  },
  {
   "cell_type": "code",
   "execution_count": 17,
   "metadata": {},
   "outputs": [],
   "source": [
    "model = EMforGMM(K, tol, epsilon, max_iter)"
   ]
  },
  {
   "cell_type": "code",
   "execution_count": 18,
   "metadata": {},
   "outputs": [
    {
     "name": "stdout",
     "output_type": "stream",
     "text": [
      "-------- iteration 0 --------\n",
      "Δμₖ: inf\n",
      "Δσₖ: inf\n"
     ]
    },
    {
     "data": {
      "image/png": "[encoded data removed]",
      "text/plain": [
       "<Figure size 432x288 with 10 Axes>"
      ]
     },
     "metadata": {
      "needs_background": "light"
     },
     "output_type": "display_data"
    },
    {
     "name": "stdout",
     "output_type": "stream",
     "text": [
      "-------- iteration 10 --------\n",
      "Δμₖ: 0.02042206092031973\n",
      "Δσₖ: 0.006980384032168101\n"
     ]
    },
    {
     "data": {
      "image/png": "[encoded data removed]",
      "text/plain": [
       "<Figure size 432x288 with 10 Axes>"
      ]
     },
     "metadata": {
      "needs_background": "light"
     },
     "output_type": "display_data"
    },
    {
     "name": "stdout",
     "output_type": "stream",
     "text": [
      "-------- iteration 20 --------\n",
      "Δμₖ: 0.0043815616448701356\n",
      "Δσₖ: 0.0011309086525828627\n"
     ]
    },
    {
     "data": {
      "image/png": "[encoded data removed]",
      "text/plain": [
       "<Figure size 432x288 with 10 Axes>"
      ]
     },
     "metadata": {
      "needs_background": "light"
     },
     "output_type": "display_data"
    },
    {
     "name": "stdout",
     "output_type": "stream",
     "text": [
      "-------- iteration 30 --------\n",
      "Δμₖ: 0.0017659929216632952\n",
      "Δσₖ: 0.0007651120346653245\n"
     ]
    },
    {
     "data": {
      "image/png": "[encoded data removed]",
      "text/plain": [
       "<Figure size 432x288 with 10 Axes>"
      ]
     },
     "metadata": {
      "needs_background": "light"
     },
     "output_type": "display_data"
    },
    {
     "name": "stdout",
     "output_type": "stream",
     "text": [
      "-------- iteration 40 --------\n",
      "Δμₖ: 0.00015692821124366207\n",
      "Δσₖ: 0.00010460936069779658\n"
     ]
    },
    {
     "data": {
      "image/png": "[encoded data removed]",
      "text/plain": [
       "<Figure size 432x288 with 10 Axes>"
      ]
     },
     "metadata": {
      "needs_background": "light"
     },
     "output_type": "display_data"
    },
    {
     "name": "stdout",
     "output_type": "stream",
     "text": [
      "-------- iteration 50 --------\n",
      "Δμₖ: 4.857764125190678e-05\n",
      "Δσₖ: 3.239725424089568e-05\n"
     ]
    },
    {
     "data": {
      "image/png": "[encoded data removed]",
      "text/plain": [
       "<Figure size 432x288 with 10 Axes>"
      ]
     },
     "metadata": {
      "needs_background": "light"
     },
     "output_type": "display_data"
    },
    {
     "name": "stdout",
     "output_type": "stream",
     "text": [
      "-------- iteration 60 --------\n",
      "Δμₖ: 6.6351084939964e-06\n",
      "Δσₖ: 4.4816080131682146e-06\n"
     ]
    },
    {
     "data": {
      "image/png": "[encoded data removed]",
      "text/plain": [
       "<Figure size 432x288 with 10 Axes>"
      ]
     },
     "metadata": {
      "needs_background": "light"
     },
     "output_type": "display_data"
    },
    {
     "name": "stdout",
     "output_type": "stream",
     "text": [
      "-------- iteration 70 --------\n",
      "Δμₖ: 5.103103453807378e-06\n",
      "Δσₖ: 1.4159123793711093e-06\n"
     ]
    },
    {
     "data": {
      "image/png": "[encoded data removed]",
      "text/plain": [
       "<Figure size 432x288 with 10 Axes>"
      ]
     },
     "metadata": {
      "needs_background": "light"
     },
     "output_type": "display_data"
    },
    {
     "name": "stdout",
     "output_type": "stream",
     "text": [
      "-------- iteration 80 --------\n",
      "Δμₖ: 2.3776945110021153e-07\n",
      "Δσₖ: 1.6398608126966252e-07\n"
     ]
    },
    {
     "data": {
      "image/png": "[encoded data removed]",
      "text/plain": [
       "<Figure size 432x288 with 10 Axes>"
      ]
     },
     "metadata": {
      "needs_background": "light"
     },
     "output_type": "display_data"
    },
    {
     "name": "stdout",
     "output_type": "stream",
     "text": [
      "-------- iteration 90 --------\n",
      "Δμₖ: 3.2171004027414796e-08\n",
      "Δσₖ: 2.183106893871578e-08\n"
     ]
    },
    {
     "data": {
      "image/png": "[encoded data removed]",
      "text/plain": [
       "<Figure size 432x288 with 10 Axes>"
      ]
     },
     "metadata": {
      "needs_background": "light"
     },
     "output_type": "display_data"
    },
    {
     "name": "stdout",
     "output_type": "stream",
     "text": [
      "-------- iteration 100 --------\n",
      "Δμₖ: 5.7718268497986e-09\n",
      "Δσₖ: 3.933698297653443e-09\n"
     ]
    },
    {
     "data": {
      "image/png": "[encoded data removed]",
      "text/plain": [
       "<Figure size 432x288 with 10 Axes>"
      ]
     },
     "metadata": {
      "needs_background": "light"
     },
     "output_type": "display_data"
    },
    {
     "name": "stdout",
     "output_type": "stream",
     "text": [
      "-------- iteration 110 --------\n",
      "Δμₖ: 1.1219926099315103e-09\n",
      "Δσₖ: 7.656876105377464e-10\n"
     ]
    },
    {
     "data": {
      "image/png": "[encoded data removed]",
      "text/plain": [
       "<Figure size 432x288 with 10 Axes>"
      ]
     },
     "metadata": {
      "needs_background": "light"
     },
     "output_type": "display_data"
    },
    {
     "name": "stdout",
     "output_type": "stream",
     "text": [
      "-------- converged--------\n"
     ]
    },
    {
     "data": {
      "image/png": "[encoded data removed]",
      "text/plain": [
       "<Figure size 432x288 with 10 Axes>"
      ]
     },
     "metadata": {
      "needs_background": "light"
     },
     "output_type": "display_data"
    }
   ],
   "source": [
    "model.fit(train_features)"
   ]
  },
  {
   "cell_type": "markdown",
   "metadata": {},
   "source": [
    "#### Visualising the model results"
   ]
  },
  {
   "cell_type": "code",
   "execution_count": 19,
   "metadata": {},
   "outputs": [
    {
     "data": {
      "image/png": "[encoded data removed]",
      "text/plain": [
       "<Figure size 432x288 with 10 Axes>"
      ]
     },
     "metadata": {
      "needs_background": "light"
     },
     "output_type": "display_data"
    },
    {
     "data": {
      "image/png": "[encoded data removed]",
      "text/plain": [
       "<Figure size 432x288 with 10 Axes>"
      ]
     },
     "metadata": {
      "needs_background": "light"
     },
     "output_type": "display_data"
    },
    {
     "data": {
      "image/png": "[encoded data removed]",
      "text/plain": [
       "<Figure size 432x288 with 10 Axes>"
      ]
     },
     "metadata": {
      "needs_background": "light"
     },
     "output_type": "display_data"
    },
    {
     "data": {
      "image/png": "[encoded data removed]",
      "text/plain": [
       "<Figure size 432x288 with 10 Axes>"
      ]
     },
     "metadata": {
      "needs_background": "light"
     },
     "output_type": "display_data"
    },
    {
     "data": {
      "image/png": "[encoded data removed]",
      "text/plain": [
       "<Figure size 432x288 with 10 Axes>"
      ]
     },
     "metadata": {
      "needs_background": "light"
     },
     "output_type": "display_data"
    },
    {
     "data": {
      "image/png": "[encoded data removed]",
      "text/plain": [
       "<Figure size 432x288 with 10 Axes>"
      ]
     },
     "metadata": {
      "needs_background": "light"
     },
     "output_type": "display_data"
    },
    {
     "data": {
      "image/png": "[encoded data removed]",
      "text/plain": [
       "<Figure size 432x288 with 10 Axes>"
      ]
     },
     "metadata": {
      "needs_background": "light"
     },
     "output_type": "display_data"
    },
    {
     "data": {
      "image/png": "[encoded data removed]",
      "text/plain": [
       "<Figure size 432x288 with 10 Axes>"
      ]
     },
     "metadata": {
      "needs_background": "light"
     },
     "output_type": "display_data"
    },
    {
     "data": {
      "image/png": "[encoded data removed]",
      "text/plain": [
       "<Figure size 432x288 with 10 Axes>"
      ]
     },
     "metadata": {
      "needs_background": "light"
     },
     "output_type": "display_data"
    },
    {
     "data": {
      "image/png": "[encoded data removed]",
      "text/plain": [
       "<Figure size 432x288 with 10 Axes>"
      ]
     },
     "metadata": {
      "needs_background": "light"
     },
     "output_type": "display_data"
    }
   ],
   "source": [
    "# Generating digits using learnt distributions\n",
    "for i in range(10):\n",
    "    for j in range(10):\n",
    "        pixels = np.array([np.random.normal(model.means_[i][pixel], model.covariances_[i][pixel]) for pixel in range(64)])\n",
    "        plt.subplot(2, 5, j + 1)\n",
    "        plt.axis('off')\n",
    "        plt.imshow(pixels.reshape((8,8)), cmap=plt.cm.gray_r, interpolation='nearest')\n",
    "    plt.show()"
   ]
  },
  {
   "cell_type": "markdown",
   "metadata": {},
   "source": [
    "#### Clustering training data"
   ]
  },
  {
   "cell_type": "markdown",
   "metadata": {},
   "source": [
    "*2. Use the results of the EM-algorithm (the found distribution parameters) to cluster the training data (esentially, using the resulting classifier to do a prediction over the training data). Produce a confusion matrix over the known labels for the training data and your EM-generated clusters. What do you see?*"
   ]
  },
  {
   "cell_type": "code",
   "execution_count": 20,
   "metadata": {},
   "outputs": [],
   "source": [
    "class GNB:\n",
    "    def __init__(self, gmm):\n",
    "        self.gmm = gmm\n",
    "        \n",
    "    def fit(self, K):\n",
    "        self.K = K     \n",
    "        self.means = self.gmm.means_\n",
    "        self.covs = self.gmm.covariances_\n",
    "        self.weights = np.log(self.gmm.weights_)\n",
    "\n",
    "    def predict_single(self, x):\n",
    "        f = lambda i: self.weights[i] + multivariate_normal.logpdf(x, mean=self.means[i], cov=self.covs[i])        \n",
    "        return np.argmax(\n",
    "            np.fromfunction(np.vectorize(f), shape=(self.K,), dtype=int)\n",
    "        )\n",
    "    \n",
    "    def predict(self, X, translate_targets=True):\n",
    "        y_pred = np.apply_along_axis(self.predict_single, axis=1, arr=X)\n",
    "        return y_pred"
   ]
  },
  {
   "cell_type": "code",
   "execution_count": 21,
   "metadata": {},
   "outputs": [],
   "source": [
    "gnb = GNB(model)"
   ]
  },
  {
   "cell_type": "code",
   "execution_count": 22,
   "metadata": {},
   "outputs": [],
   "source": [
    "gnb.fit(K)"
   ]
  },
  {
   "cell_type": "code",
   "execution_count": 23,
   "metadata": {},
   "outputs": [],
   "source": [
    "y_pred = gnb.predict(train_features)"
   ]
  },
  {
   "cell_type": "code",
   "execution_count": 24,
   "metadata": {},
   "outputs": [],
   "source": [
    "from sklearn import metrics\n",
    "from mlxtend.plotting import plot_confusion_matrix"
   ]
  },
  {
   "cell_type": "code",
   "execution_count": 25,
   "metadata": {},
   "outputs": [
    {
     "name": "stdout",
     "output_type": "stream",
     "text": [
      "----------Classification Report-----\n",
      "              precision    recall  f1-score   support\n",
      "\n",
      "           0       0.00      0.00      0.00       125\n",
      "           1       0.00      0.00      0.00       129\n",
      "           2       0.20      0.07      0.11       124\n",
      "           3       0.01      0.01      0.01       130\n",
      "           4       0.01      0.01      0.01       124\n",
      "           5       0.06      0.09      0.07       126\n",
      "           6       0.00      0.00      0.00       127\n",
      "           7       0.00      0.00      0.00       125\n",
      "           8       0.00      0.00      0.00       122\n",
      "           9       0.19      0.30      0.23       125\n",
      "\n",
      "    accuracy                           0.05      1257\n",
      "   macro avg       0.05      0.05      0.04      1257\n",
      "weighted avg       0.05      0.05      0.04      1257\n",
      "\n",
      "----------Confusion Matrix----------\n"
     ]
    },
    {
     "data": {
      "text/plain": [
       "(<Figure size 432x288 with 1 Axes>,\n",
       " <AxesSubplot:xlabel='predicted label', ylabel='true label'>)"
      ]
     },
     "execution_count": 25,
     "metadata": {},
     "output_type": "execute_result"
    },
    {
     "data": {
      "image/png": "[encoded data removed]",
      "text/plain": [
       "<Figure size 432x288 with 1 Axes>"
      ]
     },
     "metadata": {
      "needs_background": "light"
     },
     "output_type": "display_data"
    }
   ],
   "source": [
    "print('-'*10 + 'Classification Report' + '-'*5)\n",
    "print(metrics.classification_report(train_labels, y_pred))\n",
    "print('-'*10 + 'Confusion Matrix' + '-'*10)\n",
    "plot_confusion_matrix(metrics.confusion_matrix(train_labels, y_pred))"
   ]
  },
  {
   "cell_type": "code",
   "execution_count": 26,
   "metadata": {},
   "outputs": [
    {
     "name": "stdout",
     "output_type": "stream",
     "text": [
      "Accuracy: 0.046937151949085126\n",
      "Completeness score: 0.5536596800547269\n",
      "Homogeneity score: 0.5320086662948669\n",
      "AMI score: 0.5358345474756068\n"
     ]
    }
   ],
   "source": [
    "print(\"Accuracy: %s\" %(metrics.accuracy_score(train_labels, y_pred)))\n",
    "print(\"Completeness score: %s\" %(metrics.completeness_score(train_labels, y_pred)))\n",
    "print(\"Homogeneity score: %s\" %(metrics.homogeneity_score(train_labels, y_pred)))\n",
    "print(\"AMI score: %s\" %(metrics.adjusted_mutual_info_score(train_labels, y_pred)))"
   ]
  },
  {
   "cell_type": "markdown",
   "metadata": {},
   "source": [
    "#### Repairing cluster assignments"
   ]
  },
  {
   "cell_type": "markdown",
   "metadata": {},
   "source": [
    "*3.   If necessary, find a way to \"repair\" the cluster assignments so that you can do a prediction run over the test data, from which you can compare the results with your earlier implementation of the Gaussian NBC.*"
   ]
  },
  {
   "cell_type": "markdown",
   "metadata": {},
   "source": [
    "##### Method 1. Reassign class labels manually"
   ]
  },
  {
   "cell_type": "code",
   "execution_count": 27,
   "metadata": {},
   "outputs": [
    {
     "data": {
      "image/png": "[encoded data removed]",
      "text/plain": [
       "<Figure size 432x288 with 10 Axes>"
      ]
     },
     "metadata": {
      "needs_background": "light"
     },
     "output_type": "display_data"
    }
   ],
   "source": [
    "# Visualise cluster assignments\n",
    "fig = plt.figure()\n",
    "for k in range(K):\n",
    "    img = np.reshape(gnb.means[k], (8,8))\n",
    "    plt.subplot(2, 5, k + 1)\n",
    "    plt.axis('off')\n",
    "    plt.imshow(img, cmap=plt.cm.gray_r, interpolation='nearest')\n",
    "    plt.title(str(k))\n",
    "plt.show()"
   ]
  },
  {
   "cell_type": "code",
   "execution_count": 28,
   "metadata": {},
   "outputs": [],
   "source": [
    "# \"Repair\" training set predictions\n",
    "y_train = np.zeros(len(y_pred))\n",
    "y_train[y_pred == 0] = 1\n",
    "y_train[y_pred == 1] = 6\n",
    "y_train[y_pred == 2] = 4\n",
    "y_train[y_pred == 3] = 5\n",
    "y_train[y_pred == 4] = 8\n",
    "y_train[y_pred == 5] = 0\n",
    "y_train[y_pred == 6] = 7\n",
    "y_train[y_pred == 7] = 2\n",
    "y_train[y_pred == 8] = 9\n",
    "y_train[y_pred == 9] = 3"
   ]
  },
  {
   "cell_type": "code",
   "execution_count": 29,
   "metadata": {},
   "outputs": [
    {
     "name": "stdout",
     "output_type": "stream",
     "text": [
      "Repaired training set cluster assignments...\n",
      "----------Classification Report-----\n",
      "              precision    recall  f1-score   support\n",
      "\n",
      "           0       0.67      0.99      0.80       125\n",
      "           1       0.41      0.29      0.34       129\n",
      "           2       0.33      0.52      0.40       124\n",
      "           3       0.45      0.67      0.54       130\n",
      "           4       0.61      0.23      0.33       124\n",
      "           5       0.69      0.58      0.63       126\n",
      "           6       1.00      0.94      0.97       127\n",
      "           7       0.76      0.84      0.80       125\n",
      "           8       0.47      0.48      0.48       122\n",
      "           9       0.28      0.12      0.17       125\n",
      "\n",
      "    accuracy                           0.57      1257\n",
      "   macro avg       0.57      0.57      0.55      1257\n",
      "weighted avg       0.57      0.57      0.55      1257\n",
      "\n",
      "----------Confusion Matrix----------\n"
     ]
    },
    {
     "data": {
      "text/plain": [
       "(<Figure size 432x288 with 1 Axes>,\n",
       " <AxesSubplot:xlabel='predicted label', ylabel='true label'>)"
      ]
     },
     "execution_count": 29,
     "metadata": {},
     "output_type": "execute_result"
    },
    {
     "data": {
      "image/png": "[encoded data removed]",
      "text/plain": [
       "<Figure size 432x288 with 1 Axes>"
      ]
     },
     "metadata": {
      "needs_background": "light"
     },
     "output_type": "display_data"
    }
   ],
   "source": [
    "print('Repaired training set cluster assignments...')\n",
    "print('-'*10 + 'Classification Report' + '-'*5)\n",
    "print(metrics.classification_report(train_labels, y_train))\n",
    "print('-'*10 + 'Confusion Matrix' + '-'*10)\n",
    "plot_confusion_matrix(metrics.confusion_matrix(train_labels, y_train))"
   ]
  },
  {
   "cell_type": "markdown",
   "metadata": {},
   "source": [
    "The downside to this approach is that we have to manually alter the assigned class labels for both the train and test set predictions."
   ]
  },
  {
   "cell_type": "markdown",
   "metadata": {},
   "source": [
    "##### Method 2. Create target mapping function"
   ]
  },
  {
   "cell_type": "code",
   "execution_count": 30,
   "metadata": {},
   "outputs": [],
   "source": [
    "class GNB:\n",
    "    def __init__(self, gmm):\n",
    "        self.gmm = gmm\n",
    "        \n",
    "    def fit(self, K, X_train, y_train):\n",
    "        self.K = K\n",
    "        self.means = self.gmm.means_\n",
    "        self.covs = self.gmm.covariances_\n",
    "        self.weights = np.log(self.gmm.weights_)\n",
    "            \n",
    "        self.create_target_mapping(X_train, y_train)\n",
    "        \n",
    "    def create_target_mapping(self, X_train, y_train):\n",
    "        self.target_mapping = np.zeros(self.K)\n",
    "        y_pred = self.predict(X_train, translate_targets=False)\n",
    "        for i in range(self.K):\n",
    "            indexes = y_pred == i\n",
    "            self.target_mapping[i] = mode(y_train[indexes])[0][0]\n",
    "    \n",
    "    def predict_single(self, x):\n",
    "        f = lambda i: self.weights[i] + multivariate_normal.logpdf(x, mean=self.means[i], cov=self.covs[i]) \n",
    "        return np.argmax(\n",
    "            np.fromfunction(np.vectorize(f), shape=(self.K,), dtype=int)\n",
    "        )\n",
    "    \n",
    "    def predict(self, X_test, translate_targets=True):\n",
    "        y = np.apply_along_axis(self.predict_single, axis=1, arr=X_test)\n",
    "        return self.target_mapping[y] if translate_targets else y"
   ]
  },
  {
   "cell_type": "code",
   "execution_count": 31,
   "metadata": {},
   "outputs": [],
   "source": [
    "# Prediction run over training data"
   ]
  },
  {
   "cell_type": "code",
   "execution_count": 32,
   "metadata": {},
   "outputs": [],
   "source": [
    "gnb = GNB(model)"
   ]
  },
  {
   "cell_type": "code",
   "execution_count": 33,
   "metadata": {},
   "outputs": [],
   "source": [
    "gnb.fit(K, train_features, train_labels)"
   ]
  },
  {
   "cell_type": "code",
   "execution_count": 34,
   "metadata": {},
   "outputs": [],
   "source": [
    "y_pred = gnb.predict(train_features, translate_targets=True)"
   ]
  },
  {
   "cell_type": "code",
   "execution_count": 35,
   "metadata": {},
   "outputs": [
    {
     "name": "stdout",
     "output_type": "stream",
     "text": [
      "Prediction over training data...\n",
      "----------Classification Report-----\n",
      "              precision    recall  f1-score   support\n",
      "\n",
      "           0       0.67      0.99      0.80       125\n",
      "           1       0.00      0.00      0.00       129\n",
      "           2       0.33      0.52      0.40       124\n",
      "           3       0.45      0.67      0.54       130\n",
      "           4       0.54      0.82      0.65       124\n",
      "           5       0.69      0.58      0.63       126\n",
      "           6       1.00      0.94      0.97       127\n",
      "           7       0.76      0.84      0.80       125\n",
      "           8       0.47      0.48      0.48       122\n",
      "           9       0.00      0.00      0.00       125\n",
      "\n",
      "    accuracy                           0.58      1257\n",
      "   macro avg       0.49      0.59      0.53      1257\n",
      "weighted avg       0.49      0.58      0.53      1257\n",
      "\n",
      "----------Confusion Matrix----------\n"
     ]
    },
    {
     "name": "stderr",
     "output_type": "stream",
     "text": [
      "/opt/anaconda3/lib/python3.8/site-packages/sklearn/metrics/_classification.py:1248: UndefinedMetricWarning: Precision and F-score are ill-defined and being set to 0.0 in labels with no predicted samples. Use `zero_division` parameter to control this behavior.\n",
      "  _warn_prf(average, modifier, msg_start, len(result))\n",
      "/opt/anaconda3/lib/python3.8/site-packages/sklearn/metrics/_classification.py:1248: UndefinedMetricWarning: Precision and F-score are ill-defined and being set to 0.0 in labels with no predicted samples. Use `zero_division` parameter to control this behavior.\n",
      "  _warn_prf(average, modifier, msg_start, len(result))\n",
      "/opt/anaconda3/lib/python3.8/site-packages/sklearn/metrics/_classification.py:1248: UndefinedMetricWarning: Precision and F-score are ill-defined and being set to 0.0 in labels with no predicted samples. Use `zero_division` parameter to control this behavior.\n",
      "  _warn_prf(average, modifier, msg_start, len(result))\n"
     ]
    },
    {
     "data": {
      "text/plain": [
       "(<Figure size 432x288 with 1 Axes>,\n",
       " <AxesSubplot:xlabel='predicted label', ylabel='true label'>)"
      ]
     },
     "execution_count": 35,
     "metadata": {},
     "output_type": "execute_result"
    },
    {
     "data": {
      "image/png": "[encoded data removed]",
      "text/plain": [
       "<Figure size 432x288 with 1 Axes>"
      ]
     },
     "metadata": {
      "needs_background": "light"
     },
     "output_type": "display_data"
    }
   ],
   "source": [
    "print('Prediction over training data...')\n",
    "print('-'*10 + 'Classification Report' + '-'*5)\n",
    "print(metrics.classification_report(train_labels, y_pred))\n",
    "print('-'*10 + 'Confusion Matrix' + '-'*10)\n",
    "plot_confusion_matrix(metrics.confusion_matrix(train_labels, y_pred))"
   ]
  },
  {
   "cell_type": "code",
   "execution_count": 36,
   "metadata": {},
   "outputs": [],
   "source": [
    "# Prediction run over test data"
   ]
  },
  {
   "cell_type": "code",
   "execution_count": 37,
   "metadata": {},
   "outputs": [],
   "source": [
    "y_pred = gnb.predict(test_features, translate_targets=True)"
   ]
  },
  {
   "cell_type": "code",
   "execution_count": 38,
   "metadata": {},
   "outputs": [
    {
     "name": "stdout",
     "output_type": "stream",
     "text": [
      "Prediction over test data...\n",
      "----------Classification Report-----\n",
      "              precision    recall  f1-score   support\n",
      "\n",
      "           0       0.59      0.96      0.73        53\n",
      "           1       0.00      0.00      0.00        53\n",
      "           2       0.30      0.43      0.35        53\n",
      "           3       0.32      0.55      0.40        53\n",
      "           4       0.70      0.82      0.76        57\n",
      "           5       0.57      0.43      0.49        56\n",
      "           6       0.98      0.91      0.94        54\n",
      "           7       0.75      0.83      0.79        54\n",
      "           8       0.33      0.42      0.37        52\n",
      "           9       0.00      0.00      0.00        55\n",
      "\n",
      "    accuracy                           0.54       540\n",
      "   macro avg       0.45      0.54      0.48       540\n",
      "weighted avg       0.46      0.54      0.49       540\n",
      "\n",
      "----------Confusion Matrix----------\n"
     ]
    },
    {
     "name": "stderr",
     "output_type": "stream",
     "text": [
      "/opt/anaconda3/lib/python3.8/site-packages/sklearn/metrics/_classification.py:1248: UndefinedMetricWarning: Precision and F-score are ill-defined and being set to 0.0 in labels with no predicted samples. Use `zero_division` parameter to control this behavior.\n",
      "  _warn_prf(average, modifier, msg_start, len(result))\n",
      "/opt/anaconda3/lib/python3.8/site-packages/sklearn/metrics/_classification.py:1248: UndefinedMetricWarning: Precision and F-score are ill-defined and being set to 0.0 in labels with no predicted samples. Use `zero_division` parameter to control this behavior.\n",
      "  _warn_prf(average, modifier, msg_start, len(result))\n",
      "/opt/anaconda3/lib/python3.8/site-packages/sklearn/metrics/_classification.py:1248: UndefinedMetricWarning: Precision and F-score are ill-defined and being set to 0.0 in labels with no predicted samples. Use `zero_division` parameter to control this behavior.\n",
      "  _warn_prf(average, modifier, msg_start, len(result))\n"
     ]
    },
    {
     "data": {
      "text/plain": [
       "(<Figure size 432x288 with 1 Axes>,\n",
       " <AxesSubplot:xlabel='predicted label', ylabel='true label'>)"
      ]
     },
     "execution_count": 38,
     "metadata": {},
     "output_type": "execute_result"
    },
    {
     "data": {
      "image/png": "[encoded data removed]",
      "text/plain": [
       "<Figure size 432x288 with 1 Axes>"
      ]
     },
     "metadata": {
      "needs_background": "light"
     },
     "output_type": "display_data"
    }
   ],
   "source": [
    "print('Prediction over test data...')\n",
    "print('-'*10 + 'Classification Report' + '-'*5)\n",
    "print(metrics.classification_report(test_labels, y_pred))\n",
    "print('-'*10 + 'Confusion Matrix' + '-'*10)\n",
    "plot_confusion_matrix(metrics.confusion_matrix(test_labels, y_pred))"
   ]
  },
  {
   "cell_type": "markdown",
   "metadata": {},
   "source": [
    "### Compare to k-Means with SciKitLearn"
   ]
  },
  {
   "cell_type": "markdown",
   "metadata": {},
   "source": [
    "*4.   Use now also the k-Means implementation from SciKitLearn and compare the results to yours (they should be similar at least in the sense that there are classes that are more clearly separated from the rest than others for best approaches).*"
   ]
  },
  {
   "cell_type": "code",
   "execution_count": 39,
   "metadata": {},
   "outputs": [],
   "source": [
    "from sklearn.cluster import KMeans"
   ]
  },
  {
   "cell_type": "code",
   "execution_count": 40,
   "metadata": {},
   "outputs": [],
   "source": [
    "clf = KMeans(n_clusters=len(np.unique(train_labels)), init='random')"
   ]
  },
  {
   "cell_type": "code",
   "execution_count": 41,
   "metadata": {},
   "outputs": [
    {
     "data": {
      "text/plain": [
       "KMeans(init='random', n_clusters=10)"
      ]
     },
     "execution_count": 41,
     "metadata": {},
     "output_type": "execute_result"
    }
   ],
   "source": [
    "clf.fit(train_features, train_labels)"
   ]
  },
  {
   "cell_type": "code",
   "execution_count": 42,
   "metadata": {},
   "outputs": [],
   "source": [
    "# Compute the clusters\n",
    "y_pred = clf.fit_predict(test_features)"
   ]
  },
  {
   "cell_type": "markdown",
   "metadata": {},
   "source": [
    "\"Because k-means knows nothing about the identity of the cluster, the 0-9 labels may be permuted. We can fix this by matching each learned cluster label with the true labels found in them\" – J. VanderPlas, 2016."
   ]
  },
  {
   "cell_type": "code",
   "execution_count": 43,
   "metadata": {},
   "outputs": [],
   "source": [
    "# Permute the labels\n",
    "labels = np.zeros_like(y_pred)\n",
    "for i in range(10):\n",
    "    mask = (y_pred == i)\n",
    "    labels[mask] = mode(test_labels[mask])[0]"
   ]
  },
  {
   "cell_type": "code",
   "execution_count": 44,
   "metadata": {},
   "outputs": [],
   "source": [
    "mat = metrics.confusion_matrix(test_labels, labels)"
   ]
  },
  {
   "cell_type": "code",
   "execution_count": 45,
   "metadata": {},
   "outputs": [
    {
     "name": "stdout",
     "output_type": "stream",
     "text": [
      "----------Classification Report-----\n",
      "              precision    recall  f1-score   support\n",
      "\n",
      "           0       0.98      0.96      0.97        53\n",
      "           1       0.55      1.00      0.71        53\n",
      "           2       1.00      0.74      0.85        53\n",
      "           3       0.00      0.00      0.00        53\n",
      "           4       0.98      0.93      0.95        57\n",
      "           5       0.91      0.95      0.93        56\n",
      "           6       0.95      1.00      0.97        54\n",
      "           7       0.69      1.00      0.82        54\n",
      "           8       0.00      0.00      0.00        52\n",
      "           9       0.43      0.82      0.56        55\n",
      "\n",
      "    accuracy                           0.74       540\n",
      "   macro avg       0.65      0.74      0.68       540\n",
      "weighted avg       0.65      0.74      0.68       540\n",
      "\n",
      "----------Confusion Matrix----------\n"
     ]
    },
    {
     "name": "stderr",
     "output_type": "stream",
     "text": [
      "/opt/anaconda3/lib/python3.8/site-packages/sklearn/metrics/_classification.py:1248: UndefinedMetricWarning: Precision and F-score are ill-defined and being set to 0.0 in labels with no predicted samples. Use `zero_division` parameter to control this behavior.\n",
      "  _warn_prf(average, modifier, msg_start, len(result))\n",
      "/opt/anaconda3/lib/python3.8/site-packages/sklearn/metrics/_classification.py:1248: UndefinedMetricWarning: Precision and F-score are ill-defined and being set to 0.0 in labels with no predicted samples. Use `zero_division` parameter to control this behavior.\n",
      "  _warn_prf(average, modifier, msg_start, len(result))\n",
      "/opt/anaconda3/lib/python3.8/site-packages/sklearn/metrics/_classification.py:1248: UndefinedMetricWarning: Precision and F-score are ill-defined and being set to 0.0 in labels with no predicted samples. Use `zero_division` parameter to control this behavior.\n",
      "  _warn_prf(average, modifier, msg_start, len(result))\n"
     ]
    },
    {
     "data": {
      "text/plain": [
       "(<Figure size 432x288 with 1 Axes>,\n",
       " <AxesSubplot:xlabel='predicted label', ylabel='true label'>)"
      ]
     },
     "execution_count": 45,
     "metadata": {},
     "output_type": "execute_result"
    },
    {
     "data": {
      "image/png": "[encoded data removed]",
      "text/plain": [
       "<Figure size 432x288 with 1 Axes>"
      ]
     },
     "metadata": {
      "needs_background": "light"
     },
     "output_type": "display_data"
    }
   ],
   "source": [
    "print('-'*10 + 'Classification Report' + '-'*5)\n",
    "print(metrics.classification_report(test_labels, labels))\n",
    "print('-'*10 + 'Confusion Matrix' + '-'*10)\n",
    "plot_confusion_matrix(metrics.confusion_matrix(test_labels, labels))"
   ]
  },
  {
   "cell_type": "code",
   "execution_count": 46,
   "metadata": {},
   "outputs": [
    {
     "name": "stdout",
     "output_type": "stream",
     "text": [
      "Accuracy: 0.7444444444444445\n",
      "Completeness score: 0.8089661544736777\n",
      "Homogeneity score: 0.7128614631464921\n",
      "AMI score: 0.7508813410219344\n"
     ]
    }
   ],
   "source": [
    "print(\"Accuracy: %s\" %(metrics.accuracy_score(test_labels, labels)))\n",
    "print(\"Completeness score: %s\" %(metrics.completeness_score(test_labels, labels)))\n",
    "print(\"Homogeneity score: %s\" %(metrics.homogeneity_score(test_labels, labels)))\n",
    "print(\"AMI score: %s\" %(metrics.adjusted_mutual_info_score(test_labels, labels)))"
   ]
  },
  {
   "cell_type": "markdown",
   "metadata": {},
   "source": [
    "Some hints on the quality of your EM result: It is, in principle with a vanilla implementation as given above, possible to achieve a completeness score (`sklearn.metrics.completeness_score`) of approximately `0.72`, where the respective score for the k-Means clustering is `~0.77` on the `digits` data. Alternatively, you can use the homogenity score, (`sklearn.metrics.homogenity_score`), which I got to `~0.71` (k-Means: `0.74`), or the adjusted mutual information score (`~0.71`, k-Means: `0.74`). Take these numbers as some hint, not as the ultimate truth, please, but they should give you some idea of what is possible."
   ]
  },
  {
   "cell_type": "markdown",
   "metadata": {},
   "source": [
    "## Credits\n",
    "This assignment was prepared by E.A Topp et al., HT2019 (link [here](http://cs.lth.se/edan95/lab-programming-assignments/lab-session-6)).\n",
    "\n",
    "Label permutation problem for k-Means clustering of digits dataset explained in detail [here](https://jakevdp.github.io/PythonDataScienceHandbook/05.11-k-means.html)."
   ]
  }
 ],
 "metadata": {
  "kernelspec": {
   "display_name": "Python 3",
   "language": "python",
   "name": "python3"
  },
  "language_info": {
   "codemirror_mode": {
    "name": "ipython",
    "version": 3
   },
   "file_extension": ".py",
   "mimetype": "text/x-python",
   "name": "python",
   "nbconvert_exporter": "python",
   "pygments_lexer": "ipython3",
   "version": "3.8.5"
  }
 },
 "nbformat": 4,
 "nbformat_minor": 4
}

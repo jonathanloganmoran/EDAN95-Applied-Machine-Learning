{
 "cells": [
  {
   "cell_type": "markdown",
   "metadata": {
    "id": "TSlAoiOwJKWs"
   },
   "source": [
    "# Comparing the Performance of Various Classifiers on Handwritten Digits Datasets\n",
    "#### By Jonathan L. Moran (jo6155mo-s@student.lu.se)\n",
    "From the EDAN95 - Applied Machine Learning course given at Lunds Tekniska Högskola (LTH) | Ht2 2019."
   ]
  },
  {
   "cell_type": "markdown",
   "metadata": {
    "id": "34cgO9U1JKXD"
   },
   "source": [
    "_In this post we will implement an NCC, a discrete (count-based) NBC, and a Gaussian NBC and run and compare them on different versions of the data set(s) in Section 2:_"
   ]
  },
  {
   "cell_type": "markdown",
   "metadata": {
    "id": "EtITOd1tJKXJ"
   },
   "source": [
    "## 1. Classifiers"
   ]
  },
  {
   "cell_type": "markdown",
   "metadata": {
    "id": "z9yg5ZkzJKXK"
   },
   "source": [
    "### 1.1. SciKitLearn Gaussian Naive Bayes Classifier\n",
    "Make use of the provided Gaussian NB Classifier (`sklearn.naive_bayes GaussianNB`) for all data sets as a comparison."
   ]
  },
  {
   "cell_type": "code",
   "execution_count": 1,
   "metadata": {
    "id": "3ffy1yqcJKXL"
   },
   "outputs": [],
   "source": [
    "from sklearn.naive_bayes import GaussianNB"
   ]
  },
  {
   "cell_type": "code",
   "execution_count": 2,
   "metadata": {
    "id": "Lb54sHzoJKXP"
   },
   "outputs": [],
   "source": [
    "class sklearnGNB:\n",
    "    def fit(self, X_train, y_train):\n",
    "        self.model = GaussianNB()\n",
    "        self.model.fit(X_train, y_train)\n",
    "        return self.model\n",
    "    def predict(self, X_test):\n",
    "        return self.model.predict(X_test)"
   ]
  },
  {
   "cell_type": "markdown",
   "metadata": {
    "id": "zcSa0O0NJKXR"
   },
   "source": [
    "### 1.2. Nearest Centroid Classifier\n",
    "Implement your own Nearest Centroid Classifier (NCC): The NCC `fit` method should simply compute the mean values over the attribute values of the examples for each class. Prediction is then done by finding the `argmin` over the distances from the class centroids for each sample. This classifier should be run on all three variants of data sets, see below."
   ]
  },
  {
   "cell_type": "code",
   "execution_count": 3,
   "metadata": {
    "id": "_Uiq9tUGJKXU"
   },
   "outputs": [],
   "source": [
    "import numpy as np"
   ]
  },
  {
   "cell_type": "code",
   "execution_count": 4,
   "metadata": {
    "id": "ZtrPfPI8JKXW"
   },
   "outputs": [],
   "source": [
    "class NCC:\n",
    "    def fit(self, X_train, y_train):\n",
    "        n_samples, n_features = X_train.shape\n",
    "        self._classes = np.unique(y_train)\n",
    "        n_classes = len(self._classes)\n",
    "        self._centroids = np.zeros(shape=(n_classes, n_features))\n",
    "        # Compute the per-class centroids (means)\n",
    "        for cls in self._classes:\n",
    "            idxs = np.where(y_train==cls)    # fetch all samples per label (class)\n",
    "            # compute the mean value of each 16-bit image \n",
    "            self._centroids[cls] = np.mean(X_train[idxs], axis=0)\n",
    "        return self    \n",
    "    def predict(self, X_test):\n",
    "        preds = np.zeros(shape=(len(X_test), n_classes))\n",
    "        for i, x in enumerate(X_test):\n",
    "            # compute dist to per-class centers\n",
    "            preds[i] = [np.linalg.norm(x - centroid) for centroid in self._centroids]\n",
    "        y_pred = np.argmin(preds, axis=1)\n",
    "        return y_pred"
   ]
  },
  {
   "cell_type": "markdown",
   "metadata": {
    "id": "FvSsI2FTJKXX"
   },
   "source": [
    "### 1.3. Naive Bayes Classifier\n",
    "Implement a Naive Bayesian Classifier (NBC) based on discrete (statistical) values (i.e., counts of examples falling into the different classes and attribute value groups) both for the priors and for the conditional probabilities. Run this on the two SciKitLearn `digits` data sets. It should also work with the (non-normalised) `MNIST_Light` set, but it will probably take a (very long) while and not give anything interesting really..."
   ]
  },
  {
   "cell_type": "code",
   "execution_count": 5,
   "metadata": {
    "id": "EMtQIxn3JKXc"
   },
   "outputs": [],
   "source": [
    "from itertools import product"
   ]
  },
  {
   "cell_type": "code",
   "execution_count": 6,
   "metadata": {
    "id": "fPOR8v8ZJKXf"
   },
   "outputs": [],
   "source": [
    "class NBC:\n",
    "    def fit(self, X_train, y_train, data=\"digits\"):\n",
    "        n_samples, n_rows, n_cols = np.shape(X_train)\n",
    "        self._classes, self.class_counts = np.unique(y_train, return_counts=True)\n",
    "        # 1. Compute class priors: digit frequency\n",
    "        class_priors = self.class_counts / np.sum(self.class_counts)\n",
    "        # 2. Compute attribute likelihoods\n",
    "        likelihoods = {}\n",
    "        pixel_values = np.unique(X_train.flatten())\n",
    "        for cls in self._classes:\n",
    "            # store class atrribute frequencies\n",
    "            cls_pixels = {}\n",
    "            # get all samples in current class\n",
    "            idxs = np.where(y_train == cls)\n",
    "            # iterate over each image and its coordinates\n",
    "            for k, (i,j) in enumerate(product(range(n_rows), range(n_cols))):\n",
    "                # store attribute value counts (number of occurences)\n",
    "                cls_pixel_counts = np.zeros(shape=len(pixel_values))\n",
    "                # get attribute value at pixel location and count num occurences in current class\n",
    "                loc, num_occurences = np.unique(X_train[idxs][:,i,j], return_counts=True)\n",
    "                # store attribute value class occurences for every pixel location in image\n",
    "                cls_pixel_counts[loc.astype(np.int8)] = num_occurences\n",
    "                # compute attribute value class frequencies\n",
    "                if data is \"digits\":\n",
    "                    # with Laplace smoothing\n",
    "                    freq = (cls_pixel_counts + 1) / np.sum(cls_pixel_counts + 1)\n",
    "                else:\n",
    "                    freq = cls_pixel_counts / np.sum(cls_pixel_counts)\n",
    "                cls_pixels.update({k:freq})\n",
    "            likelihoods[cls] = cls_pixels\n",
    "        self._likelihoods = likelihoods\n",
    "        self._class_priors = class_priors\n",
    "        self._data = data\n",
    "        return self\n",
    "    def predict(self, X_test):\n",
    "        n_samples, n_rows, n_cols = np.shape(X_test)\n",
    "        y_pred = np.zeros(shape=len(X_test))\n",
    "        for n, x in enumerate(X_test):\n",
    "            posterior = np.zeros(len(self._classes))\n",
    "            for cls in self._classes:\n",
    "                prob = self._class_priors[cls]\n",
    "                for k, (i,j) in enumerate(product(range(n_rows), range(n_cols))):\n",
    "                    # 3. Compute conditional probability of seeing pixel value at location (i,j) in image k \n",
    "                    prob *= self._likelihoods[cls][k][int(x[i,j])]\n",
    "                posterior[cls] = self._class_priors[cls] * prob\n",
    "            y_pred[n] = np.argmax(posterior)\n",
    "        return y_pred"
   ]
  },
  {
   "cell_type": "markdown",
   "metadata": {
    "id": "7Py3JHEqIczz"
   },
   "source": [
    "### 1.4. Gaussian Naive Bayes Classifier"
   ]
  },
  {
   "cell_type": "code",
   "execution_count": 7,
   "metadata": {
    "id": "32V-AdHl4wNn"
   },
   "outputs": [],
   "source": [
    "import math"
   ]
  },
  {
   "cell_type": "code",
   "execution_count": 8,
   "metadata": {
    "id": "m1xarUHPFWRl"
   },
   "outputs": [],
   "source": [
    "class GNBC:\n",
    "    def log_likelihood(self, x, mu, sigma):\n",
    "        epsilon = 1e-4\n",
    "        coeff = 1.0 / np.sqrt(2.0 * math.pi * sigma + epsilon)\n",
    "        exponent = math.exp(-1.0 * (x - mu)**2 / (2.0 * sigma + epsilon))\n",
    "        return np.log(coeff * exponent)\n",
    "    def fit(self, X_train, y_train):\n",
    "        self._classes, self.class_counts = np.unique(y_train, return_counts=True)\n",
    "        # 1. Compute class priors\n",
    "        self._class_priors = self.class_counts / np.sum(self.class_counts)\n",
    "        # 2. Compute Gaussian distribution parameters\n",
    "        means = {}\n",
    "        vars = {}\n",
    "        for cls in self._classes:\n",
    "            # get all samples in class\n",
    "            idxs = np.where(y_train == cls)\n",
    "            # compute class mean\n",
    "            cls_mean = np.mean(X_train[idxs], axis=0)\n",
    "            means.update({cls:cls_mean})\n",
    "            # compute class variance\n",
    "            cls_var = np.var(X_train[idxs], axis=0)\n",
    "            vars.update({cls:cls_var})\n",
    "        self._means = means\n",
    "        self._vars = vars\n",
    "    def predict(self, X_test):\n",
    "        y_pred = np.zeros(len(X_test))\n",
    "        log_likelihood = np.vectorize(self.log_likelihood)\n",
    "        for i, x in enumerate(X_test):\n",
    "            probs = np.zeros(len(self._classes))\n",
    "            for cls in self._classes:\n",
    "                # P(Y): class prior (frequency in training set)\n",
    "                prior = self._class_priors[cls]\n",
    "                # P(X|Y): probability of X given class distribution Y\n",
    "                prob = log_likelihood(x, self._means[cls], self._vars[cls])\n",
    "                # P(Y|X) = P(Y)*P(X|Y)\n",
    "                posterior = prior * np.sum(prob)\n",
    "                probs[cls] = posterior\n",
    "            y_pred[i] = np.argmax(probs)\n",
    "        return y_pred"
   ]
  },
  {
   "cell_type": "markdown",
   "metadata": {
    "id": "xTYH9jIHJKZv"
   },
   "source": [
    "## 2. Datasets"
   ]
  },
  {
   "cell_type": "markdown",
   "metadata": {
    "id": "g955eJvgJKZy"
   },
   "source": [
    "### 2.1. SciKitLearn Digits"
   ]
  },
  {
   "cell_type": "markdown",
   "metadata": {
    "id": "3uh5mHkrJKZy"
   },
   "source": [
    "Recall that the `digits` dataset consists of 1797 samples. Each sample is an 8x8 image of a single handwritten digit from 0 to 9. Each sample therefore has 64 features, where each of the 64 features is a brightness value of a pixel in the image."
   ]
  },
  {
   "cell_type": "code",
   "execution_count": 9,
   "metadata": {
    "id": "C-14UJrfJKZz"
   },
   "outputs": [],
   "source": [
    "from sklearn.datasets import load_digits"
   ]
  },
  {
   "cell_type": "code",
   "execution_count": 10,
   "metadata": {
    "id": "QtiBioGzJKZ0"
   },
   "outputs": [],
   "source": [
    "digits = load_digits()"
   ]
  },
  {
   "cell_type": "code",
   "execution_count": 11,
   "metadata": {
    "id": "keIOWe3HJKZ2"
   },
   "outputs": [],
   "source": [
    "# Classes in dataset\n",
    "classes = np.unique(digits.target)\n",
    "n_classes = len(classes)"
   ]
  },
  {
   "cell_type": "code",
   "execution_count": 12,
   "metadata": {
    "id": "x0qOnYw5JKZ3"
   },
   "outputs": [],
   "source": [
    "import matplotlib.pyplot as plt"
   ]
  },
  {
   "cell_type": "code",
   "execution_count": 13,
   "metadata": {
    "id": "3MSsFrtJJKbM"
   },
   "outputs": [],
   "source": [
    "def visualize_random(images, labels, examples_per_class):\n",
    "    \"\"\"\n",
    "    Display random sample of images per class\n",
    "    \"\"\"\n",
    "    number_of_classes = len(np.unique(labels))\n",
    "    \n",
    "    for cls in range(number_of_classes):\n",
    "        idxs = np.where(labels == cls)[0]\n",
    "        idxs = np.random.choice(idxs, examples_per_class, replace=False)\n",
    "        for i, idx in enumerate(idxs):\n",
    "            plt.subplot(examples_per_class, number_of_classes, i * number_of_classes + cls + 1)\n",
    "            plt.imshow(images[idx].astype('uint8'), cmap=plt.cm.gray_r, interpolation='nearest')\n",
    "            plt.axis('off')\n",
    "            if i == 0:\n",
    "                plt.title(str(cls))\n",
    "    plt.show()"
   ]
  },
  {
   "cell_type": "code",
   "execution_count": 14,
   "metadata": {
    "colab": {
     "base_uri": "https://localhost:8080/",
     "height": 262
    },
    "id": "x-NYHjnfJKbV",
    "outputId": "88e46a71-ff37-4c1b-df31-df402776ac10"
   },
   "outputs": [
    {
     "data": {
      "image/png": "[encoded data removed]",
      "text/plain": [
       "<Figure size 432x288 with 80 Axes>"
      ]
     },
     "metadata": {
      "needs_background": "light"
     },
     "output_type": "display_data"
    }
   ],
   "source": [
    "visualize_random(digits.images, digits.target, 8)"
   ]
  },
  {
   "cell_type": "code",
   "execution_count": 15,
   "metadata": {
    "id": "NKSN1lktJKbW"
   },
   "outputs": [],
   "source": [
    "def mean_image(images, labels, dim):\n",
    "    \"\"\"\n",
    "    Display mean image of each class\n",
    "    \"\"\"\n",
    "    # Assume 10 classes, dimxdim image data\n",
    "    cls_means = np.zeros(shape=(10,dim,dim))\n",
    "    for cls in range(n_classes):\n",
    "        idxs = np.where(labels == cls)[0]\n",
    "        cls_means[cls] = np.mean(images[idxs], axis=0)\n",
    "        plt.subplot(1, n_classes, cls + 1)\n",
    "        plt.axis('off')\n",
    "        plt.imshow(cls_means[cls].astype('uint8'), cmap=plt.cm.gray_r, interpolation='nearest')\n",
    "        plt.title(str(cls))\n",
    "    plt.show()"
   ]
  },
  {
   "cell_type": "code",
   "execution_count": 16,
   "metadata": {
    "colab": {
     "base_uri": "https://localhost:8080/",
     "height": 74
    },
    "id": "Vt9VeZEsJKbW",
    "outputId": "5e1f5329-dc33-4147-9c91-7e6a1f5b62ca"
   },
   "outputs": [
    {
     "data": {
      "image/png": "[encoded data removed]",
      "text/plain": [
       "<Figure size 432x288 with 10 Axes>"
      ]
     },
     "metadata": {
      "needs_background": "light"
     },
     "output_type": "display_data"
    }
   ],
   "source": [
    "mean_image(digits.images, digits.target, dim=8)"
   ]
  },
  {
   "cell_type": "code",
   "execution_count": 17,
   "metadata": {
    "id": "EKuaeF2kJKbX"
   },
   "outputs": [],
   "source": [
    "from sklearn.model_selection import train_test_split"
   ]
  },
  {
   "cell_type": "code",
   "execution_count": 18,
   "metadata": {
    "id": "DPE3FFr9JKbX"
   },
   "outputs": [],
   "source": [
    "X_train, X_test, y_train, y_test = train_test_split(digits.images, digits.target, test_size=0.3)"
   ]
  },
  {
   "cell_type": "code",
   "execution_count": 19,
   "metadata": {
    "id": "fqi-dUZAJKbX"
   },
   "outputs": [],
   "source": [
    "# Normalise image data\n",
    "X_train = X_train / 16.0\n",
    "X_test = X_test / 16.0"
   ]
  },
  {
   "cell_type": "markdown",
   "metadata": {
    "id": "ndIseKkBJKbY"
   },
   "source": [
    "#### 2.1.1. SciKitLearn Gaussian Naive Bayes Classifier"
   ]
  },
  {
   "cell_type": "code",
   "execution_count": 20,
   "metadata": {
    "id": "ax-MasmCM-Tm"
   },
   "outputs": [],
   "source": [
    "# Reshape data to 2D\n",
    "X_train = X_train.reshape((len(X_train), -1))\n",
    "X_test = X_test.reshape((len(X_test), -1))"
   ]
  },
  {
   "cell_type": "code",
   "execution_count": 21,
   "metadata": {
    "id": "48OgciBYppHF"
   },
   "outputs": [],
   "source": [
    "sklearnGNB = sklearnGNB()"
   ]
  },
  {
   "cell_type": "code",
   "execution_count": 22,
   "metadata": {
    "colab": {
     "base_uri": "https://localhost:8080/"
    },
    "id": "-SIJskOyJKbY",
    "outputId": "7abcca63-4d79-43c4-c0a6-810e918d5ce4"
   },
   "outputs": [
    {
     "data": {
      "text/plain": [
       "GaussianNB(priors=None, var_smoothing=1e-09)"
      ]
     },
     "execution_count": 22,
     "metadata": {},
     "output_type": "execute_result"
    }
   ],
   "source": [
    "sklearnGNB.fit(X_train, y_train)"
   ]
  },
  {
   "cell_type": "code",
   "execution_count": 23,
   "metadata": {
    "id": "nyAEOkV4JKbZ"
   },
   "outputs": [],
   "source": [
    "y_pred = sklearnGNB.predict(X_test)"
   ]
  },
  {
   "cell_type": "code",
   "execution_count": 24,
   "metadata": {
    "id": "HebO19yOJKba"
   },
   "outputs": [],
   "source": [
    "from sklearn import metrics\n",
    "from mlxtend.plotting import plot_confusion_matrix"
   ]
  },
  {
   "cell_type": "code",
   "execution_count": 25,
   "metadata": {
    "colab": {
     "base_uri": "https://localhost:8080/",
     "height": 656
    },
    "id": "kpi0JO96JKbc",
    "outputId": "8e16bfb5-27df-4e8a-f282-1c9915e0f0fb"
   },
   "outputs": [
    {
     "name": "stdout",
     "output_type": "stream",
     "text": [
      "SciKitLearn Guassian Naive Bayes Classifier on digits dataset... \n",
      "\n",
      "----------Classification Report-----\n",
      "              precision    recall  f1-score   support\n",
      "\n",
      "           0       0.98      0.98      0.98        61\n",
      "           1       0.71      0.90      0.80        52\n",
      "           2       0.96      0.50      0.66        54\n",
      "           3       0.89      0.70      0.79        47\n",
      "           4       0.91      0.86      0.89        50\n",
      "           5       0.95      0.90      0.93        62\n",
      "           6       0.96      0.94      0.95        54\n",
      "           7       0.76      0.96      0.85        52\n",
      "           8       0.48      0.80      0.60        50\n",
      "           9       1.00      0.67      0.80        58\n",
      "\n",
      "    accuracy                           0.83       540\n",
      "   macro avg       0.86      0.82      0.82       540\n",
      "weighted avg       0.87      0.83      0.83       540\n",
      "\n",
      "----------Confusion Matrix----------\n"
     ]
    },
    {
     "data": {
      "text/plain": [
       "(<Figure size 432x288 with 1 Axes>,\n",
       " <matplotlib.axes._subplots.AxesSubplot at 0x7f9f6f6b9ad0>)"
      ]
     },
     "execution_count": 25,
     "metadata": {},
     "output_type": "execute_result"
    },
    {
     "data": {
      "image/png": "[encoded data removed]",
      "text/plain": [
       "<Figure size 432x288 with 1 Axes>"
      ]
     },
     "metadata": {
      "needs_background": "light"
     },
     "output_type": "display_data"
    }
   ],
   "source": [
    "print('SciKitLearn Guassian Naive Bayes Classifier on digits dataset... \\n')\n",
    "print('-'*10 + 'Classification Report' + '-'*5)\n",
    "print(metrics.classification_report(y_test, y_pred))\n",
    "print('-'*10 + 'Confusion Matrix' + '-'*10)\n",
    "plot_confusion_matrix(metrics.confusion_matrix(y_test, y_pred))"
   ]
  },
  {
   "cell_type": "markdown",
   "metadata": {
    "id": "C96aKuRmJKbc"
   },
   "source": [
    "#### 2.1.2. Nearest Centroid Classifier"
   ]
  },
  {
   "cell_type": "code",
   "execution_count": 26,
   "metadata": {
    "id": "6-gqxMYeqG7i"
   },
   "outputs": [],
   "source": [
    "ncc = NCC()"
   ]
  },
  {
   "cell_type": "code",
   "execution_count": 27,
   "metadata": {
    "colab": {
     "base_uri": "https://localhost:8080/"
    },
    "id": "hnkMfn3YJKbd",
    "outputId": "c81255f8-b096-4d5a-9f4f-8318be51398e"
   },
   "outputs": [
    {
     "data": {
      "text/plain": [
       "<__main__.NCC at 0x7f9f6f6aed10>"
      ]
     },
     "execution_count": 27,
     "metadata": {},
     "output_type": "execute_result"
    }
   ],
   "source": [
    "ncc.fit(X_train, y_train)"
   ]
  },
  {
   "cell_type": "code",
   "execution_count": 28,
   "metadata": {
    "id": "d8Lh-KfoJKbd"
   },
   "outputs": [],
   "source": [
    "y_pred = ncc.predict(X_test)"
   ]
  },
  {
   "cell_type": "code",
   "execution_count": 29,
   "metadata": {
    "colab": {
     "base_uri": "https://localhost:8080/",
     "height": 656
    },
    "id": "_z-H9scMJKbe",
    "outputId": "1ec7be5f-3f00-4c0a-9e6c-1a94f2a25b76"
   },
   "outputs": [
    {
     "name": "stdout",
     "output_type": "stream",
     "text": [
      "Nearest Centroid Classifier on digits dataset... \n",
      "\n",
      "----------Classification Report-----\n",
      "              precision    recall  f1-score   support\n",
      "\n",
      "           0       0.98      1.00      0.99        61\n",
      "           1       0.78      0.73      0.75        52\n",
      "           2       0.91      0.94      0.93        54\n",
      "           3       0.93      0.89      0.91        47\n",
      "           4       0.96      0.92      0.94        50\n",
      "           5       0.93      0.89      0.91        62\n",
      "           6       0.96      0.96      0.96        54\n",
      "           7       0.86      0.98      0.92        52\n",
      "           8       0.84      0.72      0.77        50\n",
      "           9       0.77      0.86      0.81        58\n",
      "\n",
      "    accuracy                           0.89       540\n",
      "   macro avg       0.89      0.89      0.89       540\n",
      "weighted avg       0.89      0.89      0.89       540\n",
      "\n",
      "----------Confusion Matrix----------\n"
     ]
    },
    {
     "data": {
      "text/plain": [
       "(<Figure size 432x288 with 1 Axes>,\n",
       " <matplotlib.axes._subplots.AxesSubplot at 0x7f9f6ee9f610>)"
      ]
     },
     "execution_count": 29,
     "metadata": {},
     "output_type": "execute_result"
    },
    {
     "data": {
      "image/png": "[encoded data removed]",
      "text/plain": [
       "<Figure size 432x288 with 1 Axes>"
      ]
     },
     "metadata": {
      "needs_background": "light"
     },
     "output_type": "display_data"
    }
   ],
   "source": [
    "print('Nearest Centroid Classifier on digits dataset... \\n')\n",
    "print('-'*10 + 'Classification Report' + '-'*5)\n",
    "print(metrics.classification_report(y_test, y_pred))\n",
    "print('-'*10 + 'Confusion Matrix' + '-'*10)\n",
    "plot_confusion_matrix(metrics.confusion_matrix(y_test, y_pred))"
   ]
  },
  {
   "cell_type": "markdown",
   "metadata": {
    "id": "rbHTVqw_JKbe"
   },
   "source": [
    "#### 2.1.3. Naive Bayes Classifier"
   ]
  },
  {
   "cell_type": "code",
   "execution_count": 30,
   "metadata": {
    "id": "2DHujOlvJKbe"
   },
   "outputs": [],
   "source": [
    "n_samples, n_pixels = X_train.shape\n",
    "dim = int(np.sqrt(n_pixels))"
   ]
  },
  {
   "cell_type": "code",
   "execution_count": 31,
   "metadata": {
    "id": "fNGYYCZYJKbf"
   },
   "outputs": [],
   "source": [
    "# Reshape data to 3D\n",
    "X_train_nbc = X_train.reshape((len(X_train), dim, dim))\n",
    "X_test_nbc = X_test.reshape((len(X_test), dim, dim))"
   ]
  },
  {
   "cell_type": "code",
   "execution_count": 32,
   "metadata": {
    "colab": {
     "base_uri": "https://localhost:8080/"
    },
    "id": "kxhXOUw1JKbg",
    "outputId": "56ac75be-361e-43a4-e017-fd5709369a5c"
   },
   "outputs": [
    {
     "data": {
      "text/plain": [
       "(1257, 8, 8)"
      ]
     },
     "execution_count": 32,
     "metadata": {},
     "output_type": "execute_result"
    }
   ],
   "source": [
    "X_train_nbc.shape"
   ]
  },
  {
   "cell_type": "code",
   "execution_count": 33,
   "metadata": {
    "id": "uG1-elgMOXsW"
   },
   "outputs": [],
   "source": [
    "nbc = NBC()"
   ]
  },
  {
   "cell_type": "code",
   "execution_count": 34,
   "metadata": {
    "colab": {
     "base_uri": "https://localhost:8080/"
    },
    "id": "SZe-QhkKOPl3",
    "outputId": "c8c5c9e8-45d6-4f31-f58b-8257a3814a65"
   },
   "outputs": [
    {
     "data": {
      "text/plain": [
       "<__main__.NBC at 0x7f9f6ee06e90>"
      ]
     },
     "execution_count": 34,
     "metadata": {},
     "output_type": "execute_result"
    }
   ],
   "source": [
    "nbc.fit(X_train_nbc, y_train)"
   ]
  },
  {
   "cell_type": "code",
   "execution_count": 35,
   "metadata": {
    "id": "pIebsDrwJKbm"
   },
   "outputs": [],
   "source": [
    "y_pred = nbc.predict(X_test_nbc)"
   ]
  },
  {
   "cell_type": "code",
   "execution_count": 36,
   "metadata": {
    "colab": {
     "base_uri": "https://localhost:8080/",
     "height": 709
    },
    "id": "GQstDK4EJKbn",
    "outputId": "c257933b-c2bc-45e6-b298-4a93fef863db"
   },
   "outputs": [
    {
     "name": "stdout",
     "output_type": "stream",
     "text": [
      "Naive Bayes Classifier on digits dataset... \n",
      "\n",
      "----------Classification Report-----\n",
      "              precision    recall  f1-score   support\n",
      "\n",
      "           0       0.22      1.00      0.36        61\n",
      "           1       1.00      0.17      0.30        52\n",
      "           2       0.00      0.00      0.00        54\n",
      "           3       0.00      0.00      0.00        47\n",
      "           4       0.00      0.00      0.00        50\n",
      "           5       1.00      0.05      0.09        62\n",
      "           6       0.43      0.11      0.18        54\n",
      "           7       0.82      0.17      0.29        52\n",
      "           8       0.12      0.56      0.20        50\n",
      "           9       0.00      0.00      0.00        58\n",
      "\n",
      "    accuracy                           0.21       540\n",
      "   macro avg       0.36      0.21      0.14       540\n",
      "weighted avg       0.37      0.21      0.14       540\n",
      "\n",
      "----------Confusion Matrix----------\n"
     ]
    },
    {
     "name": "stderr",
     "output_type": "stream",
     "text": [
      "/usr/local/lib/python3.7/dist-packages/sklearn/metrics/_classification.py:1272: UndefinedMetricWarning: Precision and F-score are ill-defined and being set to 0.0 in labels with no predicted samples. Use `zero_division` parameter to control this behavior.\n",
      "  _warn_prf(average, modifier, msg_start, len(result))\n"
     ]
    },
    {
     "data": {
      "text/plain": [
       "(<Figure size 432x288 with 1 Axes>,\n",
       " <matplotlib.axes._subplots.AxesSubplot at 0x7f9f6ee34390>)"
      ]
     },
     "execution_count": 36,
     "metadata": {},
     "output_type": "execute_result"
    },
    {
     "data": {
      "image/png": "[encoded data removed]",
      "text/plain": [
       "<Figure size 432x288 with 1 Axes>"
      ]
     },
     "metadata": {
      "needs_background": "light"
     },
     "output_type": "display_data"
    }
   ],
   "source": [
    "print('Naive Bayes Classifier on digits dataset... \\n')\n",
    "print('-'*10 + 'Classification Report' + '-'*5)\n",
    "print(metrics.classification_report(y_test, y_pred))\n",
    "print('-'*10 + 'Confusion Matrix' + '-'*10)\n",
    "plot_confusion_matrix(metrics.confusion_matrix(y_test, y_pred))"
   ]
  },
  {
   "cell_type": "markdown",
   "metadata": {
    "id": "K82YD7SOJKbr"
   },
   "source": [
    "#### 2.1.4. Gaussian Naive Bayes Classifier"
   ]
  },
  {
   "cell_type": "code",
   "execution_count": 37,
   "metadata": {
    "id": "luK2dLWDJKbs"
   },
   "outputs": [],
   "source": [
    "gnbc = GNBC()"
   ]
  },
  {
   "cell_type": "code",
   "execution_count": 38,
   "metadata": {
    "id": "YAlDtQhbogCl"
   },
   "outputs": [],
   "source": [
    "gnbc.fit(X_train, y_train)"
   ]
  },
  {
   "cell_type": "code",
   "execution_count": 39,
   "metadata": {
    "colab": {
     "base_uri": "https://localhost:8080/"
    },
    "id": "sQVeL0QjohlL",
    "outputId": "0d02622f-8a5e-4d2b-f0f7-893076b5f8b2"
   },
   "outputs": [
    {
     "name": "stderr",
     "output_type": "stream",
     "text": [
      "/usr/local/lib/python3.7/dist-packages/ipykernel_launcher.py:6: RuntimeWarning: divide by zero encountered in log\n",
      "  \n",
      "/usr/local/lib/python3.7/dist-packages/numpy/lib/function_base.py:2192: RuntimeWarning: divide by zero encountered in ? (vectorized)\n",
      "  outputs = ufunc(*inputs)\n"
     ]
    }
   ],
   "source": [
    "y_pred = gnbc.predict(X_test)"
   ]
  },
  {
   "cell_type": "code",
   "execution_count": 40,
   "metadata": {
    "colab": {
     "base_uri": "https://localhost:8080/",
     "height": 656
    },
    "id": "tmsYEya6oixy",
    "outputId": "c88de05e-c1c0-4dad-d893-0ceb19d80a60"
   },
   "outputs": [
    {
     "name": "stdout",
     "output_type": "stream",
     "text": [
      "Gaussian Naive Bayes Classifier on digits dataset... \n",
      "\n",
      "----------Classification Report-----\n",
      "              precision    recall  f1-score   support\n",
      "\n",
      "           0       1.00      1.00      1.00        61\n",
      "           1       0.79      0.87      0.83        52\n",
      "           2       0.92      0.87      0.90        54\n",
      "           3       0.78      0.91      0.84        47\n",
      "           4       0.92      0.94      0.93        50\n",
      "           5       0.95      0.87      0.91        62\n",
      "           6       1.00      0.93      0.96        54\n",
      "           7       0.85      0.96      0.90        52\n",
      "           8       0.71      0.80      0.75        50\n",
      "           9       0.98      0.72      0.83        58\n",
      "\n",
      "    accuracy                           0.89       540\n",
      "   macro avg       0.89      0.89      0.89       540\n",
      "weighted avg       0.90      0.89      0.89       540\n",
      "\n",
      "----------Confusion Matrix----------\n"
     ]
    },
    {
     "data": {
      "text/plain": [
       "(<Figure size 432x288 with 1 Axes>,\n",
       " <matplotlib.axes._subplots.AxesSubplot at 0x7f9f70c75e50>)"
      ]
     },
     "execution_count": 40,
     "metadata": {},
     "output_type": "execute_result"
    },
    {
     "data": {
      "image/png": "[encoded data removed]",
      "text/plain": [
       "<Figure size 432x288 with 1 Axes>"
      ]
     },
     "metadata": {
      "needs_background": "light"
     },
     "output_type": "display_data"
    }
   ],
   "source": [
    "print('Gaussian Naive Bayes Classifier on digits dataset... \\n')\n",
    "print('-'*10 + 'Classification Report' + '-'*5)\n",
    "print(metrics.classification_report(y_test, y_pred))\n",
    "print('-'*10 + 'Confusion Matrix' + '-'*10)\n",
    "plot_confusion_matrix(metrics.confusion_matrix(y_test, y_pred))"
   ]
  },
  {
   "cell_type": "markdown",
   "metadata": {
    "id": "fOWiGzRHJKbs"
   },
   "source": [
    "### 2.2. SciKitLearn Digits Summarised"
   ]
  },
  {
   "cell_type": "markdown",
   "metadata": {
    "id": "EUsfqhyFJKbt"
   },
   "source": [
    "Reduce the `digits` data set to only contain three values for the attributes, e.g., `0` for _dark_, `1` for _grey_ and `2` for _light_, with _dark_, _grey_ and _light_. Split again into `70%` training and `30%` test data.\n",
    "\n",
    "Bins:\n",
    "*  Light: `0-4`\n",
    "*  Grey: `5-10`\n",
    "*  Dark: `11-16`"
   ]
  },
  {
   "cell_type": "code",
   "execution_count": 41,
   "metadata": {
    "id": "D8w8RmppJKb6"
   },
   "outputs": [],
   "source": [
    "bin_bounds = [4, 10]\n",
    "digits_data_summarised = np.digitize(digits.images, bins=bin_bounds, right=True)\n",
    "digits_target_summarised = digits.target"
   ]
  },
  {
   "cell_type": "code",
   "execution_count": 42,
   "metadata": {
    "colab": {
     "base_uri": "https://localhost:8080/",
     "height": 262
    },
    "id": "V_8HafPXJKb8",
    "outputId": "578023e0-61aa-4fd6-d363-8077b30d70ad"
   },
   "outputs": [
    {
     "data": {
      "image/png": "[encoded data removed]",
      "text/plain": [
       "<Figure size 432x288 with 80 Axes>"
      ]
     },
     "metadata": {
      "needs_background": "light"
     },
     "output_type": "display_data"
    }
   ],
   "source": [
    "# Display random sample of images per class\n",
    "n_samples = 8\n",
    "n_classes = 10\n",
    "for cls in range(n_classes):\n",
    "    idxs = np.where(digits_target_summarised == cls)[0]\n",
    "    idxs = np.random.choice(idxs, n_samples, replace=False)\n",
    "    for i, idx in enumerate(idxs):\n",
    "        plt.subplot(n_samples, n_classes, i * n_classes + cls + 1)\n",
    "        plt.axis('off')\n",
    "        plt.imshow(digits_data_summarised[idx].reshape((8,8)).astype('uint8'), cmap=plt.cm.gray_r, interpolation='nearest')\n",
    "        if i == 0:\n",
    "            plt.title(str(cls))\n",
    "plt.show()"
   ]
  },
  {
   "cell_type": "code",
   "execution_count": 43,
   "metadata": {
    "id": "SBmWpCBsJKb9"
   },
   "outputs": [],
   "source": [
    "X_train, X_test, y_train, y_test = train_test_split(digits_data_summarised, digits_target_summarised, test_size=0.3)"
   ]
  },
  {
   "cell_type": "markdown",
   "metadata": {
    "id": "nSfhgwUyJKb9"
   },
   "source": [
    "#### 2.2.1. SciKitLearn Gaussian Naive Bayes Classifier"
   ]
  },
  {
   "cell_type": "code",
   "execution_count": 44,
   "metadata": {
    "id": "FH6lA02whS4p"
   },
   "outputs": [],
   "source": [
    "# Reshape data to 2D\n",
    "X_train = X_train.reshape((len(X_train), -1))\n",
    "X_test = X_test.reshape((len(X_test), -1))"
   ]
  },
  {
   "cell_type": "code",
   "execution_count": 45,
   "metadata": {
    "colab": {
     "base_uri": "https://localhost:8080/"
    },
    "id": "SC4wjDMYhN8p",
    "outputId": "3279a457-1edb-4830-e356-415d9dd5702b"
   },
   "outputs": [
    {
     "data": {
      "text/plain": [
       "GaussianNB(priors=None, var_smoothing=1e-09)"
      ]
     },
     "execution_count": 45,
     "metadata": {},
     "output_type": "execute_result"
    }
   ],
   "source": [
    "sklearnGNB.fit(X_train, y_train)"
   ]
  },
  {
   "cell_type": "code",
   "execution_count": 46,
   "metadata": {
    "id": "lD1cdZgQJKb9"
   },
   "outputs": [],
   "source": [
    "y_pred = sklearnGNB.predict(X_test)"
   ]
  },
  {
   "cell_type": "code",
   "execution_count": 47,
   "metadata": {
    "colab": {
     "base_uri": "https://localhost:8080/",
     "height": 656
    },
    "id": "UuC71m8wJKcW",
    "outputId": "0e3aa7b0-8f74-4168-c808-b43b9e17c98e"
   },
   "outputs": [
    {
     "name": "stdout",
     "output_type": "stream",
     "text": [
      "SciKitLearn Gaussian Naive Bayes Classifier on digits summarised dataset... \n",
      "\n",
      "----------Classification Report-----\n",
      "              precision    recall  f1-score   support\n",
      "\n",
      "           0       1.00      1.00      1.00        54\n",
      "           1       0.91      0.57      0.70        53\n",
      "           2       0.94      0.69      0.80        49\n",
      "           3       0.90      0.74      0.81        62\n",
      "           4       0.96      0.89      0.93        57\n",
      "           5       0.98      0.64      0.77        66\n",
      "           6       0.94      0.96      0.95        46\n",
      "           7       0.90      0.97      0.93        59\n",
      "           8       0.44      0.98      0.61        47\n",
      "           9       0.75      0.87      0.80        47\n",
      "\n",
      "    accuracy                           0.82       540\n",
      "   macro avg       0.87      0.83      0.83       540\n",
      "weighted avg       0.88      0.82      0.83       540\n",
      "\n",
      "----------Confusion Matrix----------\n"
     ]
    },
    {
     "data": {
      "text/plain": [
       "(<Figure size 432x288 with 1 Axes>,\n",
       " <matplotlib.axes._subplots.AxesSubplot at 0x7f9f71ab86d0>)"
      ]
     },
     "execution_count": 47,
     "metadata": {},
     "output_type": "execute_result"
    },
    {
     "data": {
      "image/png": "[encoded data removed]",
      "text/plain": [
       "<Figure size 432x288 with 1 Axes>"
      ]
     },
     "metadata": {
      "needs_background": "light"
     },
     "output_type": "display_data"
    }
   ],
   "source": [
    "print('SciKitLearn Gaussian Naive Bayes Classifier on digits summarised dataset... \\n')\n",
    "print('-'*10 + 'Classification Report' + '-'*5)\n",
    "print(metrics.classification_report(y_test, y_pred))\n",
    "print('-'*10 + 'Confusion Matrix' + '-'*10)\n",
    "plot_confusion_matrix(metrics.confusion_matrix(y_test, y_pred))"
   ]
  },
  {
   "cell_type": "markdown",
   "metadata": {
    "id": "rhkHs7FcJKcY"
   },
   "source": [
    "#### 2.2.2. Nearest Centroid Classifier"
   ]
  },
  {
   "cell_type": "code",
   "execution_count": 48,
   "metadata": {
    "colab": {
     "base_uri": "https://localhost:8080/"
    },
    "id": "2jmlPpzJJKcY",
    "outputId": "3536093a-635d-4ddb-f086-7f790c7af516"
   },
   "outputs": [
    {
     "data": {
      "text/plain": [
       "<__main__.NCC at 0x7f9f6f6aed10>"
      ]
     },
     "execution_count": 48,
     "metadata": {},
     "output_type": "execute_result"
    }
   ],
   "source": [
    "ncc.fit(X_train, y_train)"
   ]
  },
  {
   "cell_type": "code",
   "execution_count": 49,
   "metadata": {
    "id": "ZB_Z7LxFJKcY"
   },
   "outputs": [],
   "source": [
    "y_pred = ncc.predict(X_test)"
   ]
  },
  {
   "cell_type": "code",
   "execution_count": 50,
   "metadata": {
    "colab": {
     "base_uri": "https://localhost:8080/",
     "height": 656
    },
    "id": "gwGHh4UxJKcZ",
    "outputId": "8d66ef9e-a6dc-4bed-bd92-a912ee780eeb"
   },
   "outputs": [
    {
     "name": "stdout",
     "output_type": "stream",
     "text": [
      "Nearest Centroid Classifier on digits summarised data... \n",
      "\n",
      "----------Classification Report-----\n",
      "              precision    recall  f1-score   support\n",
      "\n",
      "           0       0.98      1.00      0.99        54\n",
      "           1       0.86      0.72      0.78        53\n",
      "           2       0.91      0.86      0.88        49\n",
      "           3       0.93      0.81      0.86        62\n",
      "           4       1.00      0.98      0.99        57\n",
      "           5       0.98      0.91      0.94        66\n",
      "           6       0.96      0.98      0.97        46\n",
      "           7       0.95      1.00      0.98        59\n",
      "           8       0.83      0.85      0.84        47\n",
      "           9       0.67      0.96      0.79        47\n",
      "\n",
      "    accuracy                           0.91       540\n",
      "   macro avg       0.91      0.91      0.90       540\n",
      "weighted avg       0.91      0.91      0.91       540\n",
      "\n",
      "----------Confusion Matrix----------\n"
     ]
    },
    {
     "data": {
      "text/plain": [
       "(<Figure size 432x288 with 1 Axes>,\n",
       " <matplotlib.axes._subplots.AxesSubplot at 0x7f9f6ec6a9d0>)"
      ]
     },
     "execution_count": 50,
     "metadata": {},
     "output_type": "execute_result"
    },
    {
     "data": {
      "image/png": "[encoded data removed]",
      "text/plain": [
       "<Figure size 432x288 with 1 Axes>"
      ]
     },
     "metadata": {
      "needs_background": "light"
     },
     "output_type": "display_data"
    }
   ],
   "source": [
    "print('Nearest Centroid Classifier on digits summarised data... \\n')\n",
    "print('-'*10 + 'Classification Report' + '-'*5)\n",
    "print(metrics.classification_report(y_test, y_pred))\n",
    "print('-'*10 + 'Confusion Matrix' + '-'*10)\n",
    "plot_confusion_matrix(metrics.confusion_matrix(y_test, y_pred))"
   ]
  },
  {
   "cell_type": "markdown",
   "metadata": {
    "id": "xtxFZTNWJKcZ"
   },
   "source": [
    "#### 2.2.3. Naive Bayes Classifier"
   ]
  },
  {
   "cell_type": "code",
   "execution_count": 51,
   "metadata": {
    "id": "Z7Ldh2LhJKcZ"
   },
   "outputs": [],
   "source": [
    "n_samples, n_pixels = X_train.shape\n",
    "dim = int(np.sqrt(n_pixels))"
   ]
  },
  {
   "cell_type": "code",
   "execution_count": 52,
   "metadata": {
    "id": "1H2vQ_H-h_5H"
   },
   "outputs": [],
   "source": [
    "# Reshape data to 3D\n",
    "X_train_nbc = X_train.reshape((len(X_train), dim, dim))\n",
    "X_test_nbc = X_test.reshape((len(X_test), dim, dim))"
   ]
  },
  {
   "cell_type": "code",
   "execution_count": 53,
   "metadata": {
    "colab": {
     "base_uri": "https://localhost:8080/"
    },
    "id": "ouv2oOwOh_bT",
    "outputId": "fbb98528-2246-4e50-eed7-bf4532e7a279"
   },
   "outputs": [
    {
     "data": {
      "text/plain": [
       "<__main__.NBC at 0x7f9f6ee06e90>"
      ]
     },
     "execution_count": 53,
     "metadata": {},
     "output_type": "execute_result"
    }
   ],
   "source": [
    "nbc.fit(X_train_nbc, y_train)"
   ]
  },
  {
   "cell_type": "code",
   "execution_count": 54,
   "metadata": {
    "id": "lki2g1ZziO7B"
   },
   "outputs": [],
   "source": [
    "y_pred = nbc.predict(X_test_nbc)"
   ]
  },
  {
   "cell_type": "code",
   "execution_count": 55,
   "metadata": {
    "colab": {
     "base_uri": "https://localhost:8080/",
     "height": 656
    },
    "id": "ZVCv8qxeiPe4",
    "outputId": "a967090c-454c-4c27-ebe0-bd48e4ef7cdb"
   },
   "outputs": [
    {
     "name": "stdout",
     "output_type": "stream",
     "text": [
      "Naive Bayes Classifier on digits summarised data... \n",
      "\n",
      "----------Classification Report-----\n",
      "              precision    recall  f1-score   support\n",
      "\n",
      "           0       0.98      1.00      0.99        54\n",
      "           1       0.87      0.75      0.81        53\n",
      "           2       0.88      0.88      0.88        49\n",
      "           3       0.96      0.79      0.87        62\n",
      "           4       0.98      0.96      0.97        57\n",
      "           5       1.00      0.91      0.95        66\n",
      "           6       0.98      0.98      0.98        46\n",
      "           7       0.94      1.00      0.97        59\n",
      "           8       0.84      0.87      0.85        47\n",
      "           9       0.71      0.98      0.82        47\n",
      "\n",
      "    accuracy                           0.91       540\n",
      "   macro avg       0.91      0.91      0.91       540\n",
      "weighted avg       0.92      0.91      0.91       540\n",
      "\n",
      "----------Confusion Matrix----------\n"
     ]
    },
    {
     "data": {
      "text/plain": [
       "(<Figure size 432x288 with 1 Axes>,\n",
       " <matplotlib.axes._subplots.AxesSubplot at 0x7f9f6eb38c10>)"
      ]
     },
     "execution_count": 55,
     "metadata": {},
     "output_type": "execute_result"
    },
    {
     "data": {
      "image/png": "[encoded data removed]",
      "text/plain": [
       "<Figure size 432x288 with 1 Axes>"
      ]
     },
     "metadata": {
      "needs_background": "light"
     },
     "output_type": "display_data"
    }
   ],
   "source": [
    "print('Naive Bayes Classifier on digits summarised data... \\n')\n",
    "print('-'*10 + 'Classification Report' + '-'*5)\n",
    "print(metrics.classification_report(y_test, y_pred))\n",
    "print('-'*10 + 'Confusion Matrix' + '-'*10)\n",
    "plot_confusion_matrix(metrics.confusion_matrix(y_test, y_pred))"
   ]
  },
  {
   "cell_type": "markdown",
   "metadata": {
    "id": "jmRAyjK4JKcZ"
   },
   "source": [
    "#### 2.2.4. Gaussian Naive Bayes Classifier"
   ]
  },
  {
   "cell_type": "code",
   "execution_count": 56,
   "metadata": {
    "id": "n3_6zgGuJKcZ"
   },
   "outputs": [],
   "source": [
    "gnbc.fit(X_train, y_train)"
   ]
  },
  {
   "cell_type": "code",
   "execution_count": 57,
   "metadata": {
    "colab": {
     "base_uri": "https://localhost:8080/"
    },
    "id": "LgUQDrR0i0oy",
    "outputId": "340d7133-070b-4c22-d20f-0b943bce30ec"
   },
   "outputs": [
    {
     "name": "stderr",
     "output_type": "stream",
     "text": [
      "/usr/local/lib/python3.7/dist-packages/ipykernel_launcher.py:6: RuntimeWarning: divide by zero encountered in log\n",
      "  \n",
      "/usr/local/lib/python3.7/dist-packages/numpy/lib/function_base.py:2192: RuntimeWarning: divide by zero encountered in ? (vectorized)\n",
      "  outputs = ufunc(*inputs)\n"
     ]
    }
   ],
   "source": [
    "y_pred = gnbc.predict(X_test)"
   ]
  },
  {
   "cell_type": "code",
   "execution_count": 58,
   "metadata": {
    "colab": {
     "base_uri": "https://localhost:8080/",
     "height": 656
    },
    "id": "YS8jbvl8o-Aa",
    "outputId": "f6037462-c2b1-4906-ed54-da9b5c25320b"
   },
   "outputs": [
    {
     "name": "stdout",
     "output_type": "stream",
     "text": [
      "Gaussian Naive Bayes Classifier on digits summarised dataset... \n",
      "\n",
      "----------Classification Report-----\n",
      "              precision    recall  f1-score   support\n",
      "\n",
      "           0       0.98      1.00      0.99        54\n",
      "           1       0.95      0.70      0.80        53\n",
      "           2       0.95      0.84      0.89        49\n",
      "           3       0.92      0.74      0.82        62\n",
      "           4       0.96      0.93      0.95        57\n",
      "           5       0.98      0.83      0.90        66\n",
      "           6       1.00      0.96      0.98        46\n",
      "           7       0.88      1.00      0.94        59\n",
      "           8       0.64      0.98      0.77        47\n",
      "           9       0.75      0.94      0.83        47\n",
      "\n",
      "    accuracy                           0.89       540\n",
      "   macro avg       0.90      0.89      0.89       540\n",
      "weighted avg       0.91      0.89      0.89       540\n",
      "\n",
      "----------Confusion Matrix----------\n"
     ]
    },
    {
     "data": {
      "text/plain": [
       "(<Figure size 432x288 with 1 Axes>,\n",
       " <matplotlib.axes._subplots.AxesSubplot at 0x7f9f6e9f5250>)"
      ]
     },
     "execution_count": 58,
     "metadata": {},
     "output_type": "execute_result"
    },
    {
     "data": {
      "image/png": "[encoded data removed]",
      "text/plain": [
       "<Figure size 432x288 with 1 Axes>"
      ]
     },
     "metadata": {
      "needs_background": "light"
     },
     "output_type": "display_data"
    }
   ],
   "source": [
    "print('Gaussian Naive Bayes Classifier on digits summarised dataset... \\n')\n",
    "print('-'*10 + 'Classification Report' + '-'*5)\n",
    "print(metrics.classification_report(y_test, y_pred))\n",
    "print('-'*10 + 'Confusion Matrix' + '-'*10)\n",
    "plot_confusion_matrix(metrics.confusion_matrix(y_test, y_pred))"
   ]
  },
  {
   "cell_type": "markdown",
   "metadata": {
    "id": "YLgXqCYoJKcf"
   },
   "source": [
    "### 2.3. MNIST_Light"
   ]
  },
  {
   "cell_type": "code",
   "execution_count": 61,
   "metadata": {
    "id": "ZWURp0JmJKct"
   },
   "outputs": [],
   "source": [
    "# ---------------------------------------------------------------- #\n",
    "# This code is mainly from the EDAN95 fall term lab session No 6,\n",
    "# provided by Volker Krueger\n",
    "# ---------------------------------------------------------------- #\n",
    "from PIL import Image\n",
    "import glob\n",
    "\n",
    "dir = 'src/MNIST_Light/*/*.png'\n",
    "\n",
    "filelist = sorted(glob.glob(dir))\n",
    "x = np.array([np.array(Image.open(fname)) for fname in filelist])\n",
    "\n",
    "samples_per_class = 500\n",
    "number_of_classes = 10\n",
    "\n",
    "y = np.zeros(number_of_classes * samples_per_class, dtype=int)\n",
    "for cls in range(1, number_of_classes):\n",
    "    y[(cls*500):(cls+1)*500] = cls\n",
    "    \n",
    "train_features, test_features, train_labels, test_labels = train_test_split(x, y, test_size=0.3, random_state=42)\n",
    "train_normalised = train_features.reshape(3500, 400) / 255.0\n",
    "test_normalised = test_features.reshape(1500, 400) / 255.0"
   ]
  },
  {
   "cell_type": "code",
   "execution_count": 62,
   "metadata": {
    "colab": {
     "base_uri": "https://localhost:8080/"
    },
    "id": "DRS1YVZBHKfs",
    "outputId": "ab6fc0fb-0919-4f6c-d33f-c15725aaf24d"
   },
   "outputs": [
    {
     "data": {
      "text/plain": [
       "(3500, 20, 20)"
      ]
     },
     "execution_count": 62,
     "metadata": {},
     "output_type": "execute_result"
    }
   ],
   "source": [
    "train_features.shape"
   ]
  },
  {
   "cell_type": "code",
   "execution_count": 63,
   "metadata": {
    "colab": {
     "base_uri": "https://localhost:8080/",
     "height": 262
    },
    "id": "yd1HB600JKct",
    "outputId": "b37779a1-624e-4985-f677-5ddc7e3f40b2"
   },
   "outputs": [
    {
     "data": {
      "image/png": "[encoded data removed]",
      "text/plain": [
       "<Figure size 432x288 with 80 Axes>"
      ]
     },
     "metadata": {
      "needs_background": "light"
     },
     "output_type": "display_data"
    }
   ],
   "source": [
    "visualize_random(train_features, train_labels, examples_per_class=8)"
   ]
  },
  {
   "cell_type": "code",
   "execution_count": 64,
   "metadata": {
    "colab": {
     "base_uri": "https://localhost:8080/",
     "height": 74
    },
    "id": "DJJ-pA_dJKct",
    "outputId": "1f01830c-b719-45e3-90d1-d607dbd9096d"
   },
   "outputs": [
    {
     "data": {
      "image/png": "[encoded data removed]",
      "text/plain": [
       "<Figure size 432x288 with 10 Axes>"
      ]
     },
     "metadata": {
      "needs_background": "light"
     },
     "output_type": "display_data"
    }
   ],
   "source": [
    "mean_image(train_features, train_labels, dim=20)"
   ]
  },
  {
   "cell_type": "markdown",
   "metadata": {
    "id": "khiGWfpKJKct"
   },
   "source": [
    "#### 2.3.1. SciKitLearn Gaussian Naive Bayes Classifier"
   ]
  },
  {
   "cell_type": "code",
   "execution_count": 65,
   "metadata": {
    "colab": {
     "base_uri": "https://localhost:8080/"
    },
    "id": "xstS5xU-JKcu",
    "outputId": "9c99940d-14b5-44f5-e23d-cb59e9502afa"
   },
   "outputs": [
    {
     "data": {
      "text/plain": [
       "GaussianNB(priors=None, var_smoothing=1e-09)"
      ]
     },
     "execution_count": 65,
     "metadata": {},
     "output_type": "execute_result"
    }
   ],
   "source": [
    "sklearnGNB.fit(train_normalised, train_labels)"
   ]
  },
  {
   "cell_type": "code",
   "execution_count": 66,
   "metadata": {
    "id": "M1zEAF2nJKcu"
   },
   "outputs": [],
   "source": [
    "y_pred = sklearnGNB.predict(test_normalised)"
   ]
  },
  {
   "cell_type": "code",
   "execution_count": 67,
   "metadata": {
    "colab": {
     "base_uri": "https://localhost:8080/",
     "height": 656
    },
    "id": "C2y9cBXbJKcu",
    "outputId": "0047c266-17d2-48d6-bd79-5ebeeb02e77c"
   },
   "outputs": [
    {
     "name": "stdout",
     "output_type": "stream",
     "text": [
      "SciKitLearn Gaussian Naive Bayes Classifier on MNIST_Light data... \n",
      "\n",
      "----------Classification Report-----\n",
      "              precision    recall  f1-score   support\n",
      "\n",
      "           0       0.54      0.94      0.69       164\n",
      "           1       0.71      0.94      0.81       152\n",
      "           2       0.83      0.50      0.62       155\n",
      "           3       0.83      0.53      0.65       154\n",
      "           4       0.75      0.31      0.44       143\n",
      "           5       0.67      0.16      0.25       141\n",
      "           6       0.81      0.85      0.83       143\n",
      "           7       0.83      0.82      0.83       158\n",
      "           8       0.41      0.64      0.50       132\n",
      "           9       0.60      0.84      0.70       158\n",
      "\n",
      "    accuracy                           0.66      1500\n",
      "   macro avg       0.70      0.65      0.63      1500\n",
      "weighted avg       0.70      0.66      0.64      1500\n",
      "\n",
      "----------Confusion Matrix----------\n"
     ]
    },
    {
     "data": {
      "text/plain": [
       "(<Figure size 432x288 with 1 Axes>,\n",
       " <matplotlib.axes._subplots.AxesSubplot at 0x7f9f71992c90>)"
      ]
     },
     "execution_count": 67,
     "metadata": {},
     "output_type": "execute_result"
    },
    {
     "data": {
      "image/png": "[encoded data removed]",
      "text/plain": [
       "<Figure size 432x288 with 1 Axes>"
      ]
     },
     "metadata": {
      "needs_background": "light"
     },
     "output_type": "display_data"
    }
   ],
   "source": [
    "print('SciKitLearn Gaussian Naive Bayes Classifier on MNIST_Light data... \\n')\n",
    "print('-'*10 + 'Classification Report' + '-'*5)\n",
    "print(metrics.classification_report(test_labels, y_pred))\n",
    "print('-'*10 + 'Confusion Matrix' + '-'*10)\n",
    "plot_confusion_matrix(metrics.confusion_matrix(test_labels, y_pred))"
   ]
  },
  {
   "cell_type": "markdown",
   "metadata": {
    "id": "8ct3ElZ7JKcu"
   },
   "source": [
    "#### 2.3.2. Nearest Centroid Classifier"
   ]
  },
  {
   "cell_type": "code",
   "execution_count": 68,
   "metadata": {
    "colab": {
     "base_uri": "https://localhost:8080/"
    },
    "id": "JNMoU40cJKcu",
    "outputId": "da216e40-fdf8-42bb-aed1-de3dd84f2616"
   },
   "outputs": [
    {
     "data": {
      "text/plain": [
       "<__main__.NCC at 0x7f9f6f6aed10>"
      ]
     },
     "execution_count": 68,
     "metadata": {},
     "output_type": "execute_result"
    }
   ],
   "source": [
    "ncc.fit(train_normalised, train_labels)"
   ]
  },
  {
   "cell_type": "code",
   "execution_count": 69,
   "metadata": {
    "id": "DMNyNrE0JKcu"
   },
   "outputs": [],
   "source": [
    "y_pred = ncc.predict(test_normalised)"
   ]
  },
  {
   "cell_type": "code",
   "execution_count": 70,
   "metadata": {
    "colab": {
     "base_uri": "https://localhost:8080/",
     "height": 656
    },
    "id": "vfRQcx4vJKcu",
    "outputId": "83506e86-1566-4ce7-ac71-b9d2cc15fbb2"
   },
   "outputs": [
    {
     "name": "stdout",
     "output_type": "stream",
     "text": [
      "Nearest Centroid Classifier on MNIST_Light data... \n",
      "\n",
      "----------Classification Report-----\n",
      "              precision    recall  f1-score   support\n",
      "\n",
      "           0       0.91      0.91      0.91       164\n",
      "           1       0.71      0.97      0.82       152\n",
      "           2       0.84      0.73      0.78       155\n",
      "           3       0.74      0.76      0.75       154\n",
      "           4       0.75      0.76      0.75       143\n",
      "           5       0.72      0.69      0.70       141\n",
      "           6       0.90      0.86      0.88       143\n",
      "           7       0.95      0.80      0.87       158\n",
      "           8       0.79      0.72      0.75       132\n",
      "           9       0.76      0.80      0.78       158\n",
      "\n",
      "    accuracy                           0.80      1500\n",
      "   macro avg       0.81      0.80      0.80      1500\n",
      "weighted avg       0.81      0.80      0.80      1500\n",
      "\n",
      "----------Confusion Matrix----------\n"
     ]
    },
    {
     "data": {
      "text/plain": [
       "(<Figure size 432x288 with 1 Axes>,\n",
       " <matplotlib.axes._subplots.AxesSubplot at 0x7f9f71ed0f90>)"
      ]
     },
     "execution_count": 70,
     "metadata": {},
     "output_type": "execute_result"
    },
    {
     "data": {
      "image/png": "[encoded data removed]",
      "text/plain": [
       "<Figure size 432x288 with 1 Axes>"
      ]
     },
     "metadata": {
      "needs_background": "light"
     },
     "output_type": "display_data"
    }
   ],
   "source": [
    "print('Nearest Centroid Classifier on MNIST_Light data... \\n')\n",
    "print('-'*10 + 'Classification Report' + '-'*5)\n",
    "print(metrics.classification_report(test_labels, y_pred))\n",
    "print('-'*10 + 'Confusion Matrix' + '-'*10)\n",
    "plot_confusion_matrix(metrics.confusion_matrix(test_labels, y_pred))"
   ]
  },
  {
   "cell_type": "markdown",
   "metadata": {
    "id": "0nEMditcJKcv"
   },
   "source": [
    "#### 2.3.3. Naive Bayes Classifier"
   ]
  },
  {
   "cell_type": "code",
   "execution_count": 71,
   "metadata": {
    "id": "VaDbgYh3JKcv"
   },
   "outputs": [],
   "source": [
    "n_samples, n_pixels = train_normalised.shape\n",
    "dim = int(np.sqrt(n_pixels))"
   ]
  },
  {
   "cell_type": "code",
   "execution_count": 72,
   "metadata": {
    "id": "ntxYntH4j47y"
   },
   "outputs": [],
   "source": [
    "# Reshape data to 3D\n",
    "train_normalised_nbc = train_normalised.reshape((len(train_normalised), dim, dim))\n",
    "test_normalised_nbc = test_normalised.reshape((len(test_normalised), dim, dim))"
   ]
  },
  {
   "cell_type": "code",
   "execution_count": 73,
   "metadata": {
    "colab": {
     "base_uri": "https://localhost:8080/"
    },
    "id": "chOs5OPcj53T",
    "outputId": "1c214eac-c698-49a4-df31-704610f1bc70"
   },
   "outputs": [
    {
     "data": {
      "text/plain": [
       "<__main__.NBC at 0x7f9f6ee06e90>"
      ]
     },
     "execution_count": 73,
     "metadata": {},
     "output_type": "execute_result"
    }
   ],
   "source": [
    "nbc.fit(train_normalised_nbc, train_labels, data=\"MNIST_Light\")"
   ]
  },
  {
   "cell_type": "code",
   "execution_count": 74,
   "metadata": {
    "id": "D4Fm78nOk56k"
   },
   "outputs": [],
   "source": [
    "y_pred = nbc.predict(test_normalised_nbc)"
   ]
  },
  {
   "cell_type": "code",
   "execution_count": 75,
   "metadata": {
    "colab": {
     "base_uri": "https://localhost:8080/",
     "height": 656
    },
    "id": "c2dOZcrQlAG8",
    "outputId": "1da97ea6-6a92-4ab7-f5bb-125f68d9964d"
   },
   "outputs": [
    {
     "name": "stdout",
     "output_type": "stream",
     "text": [
      "Naive Bayes Classifier on MNIST_Light data... \n",
      "\n",
      "----------Classification Report-----\n",
      "              precision    recall  f1-score   support\n",
      "\n",
      "           0       0.70      0.18      0.29       164\n",
      "           1       0.32      0.99      0.48       152\n",
      "           2       0.75      0.04      0.07       155\n",
      "           3       0.56      0.25      0.35       154\n",
      "           4       0.25      0.17      0.21       143\n",
      "           5       0.24      0.04      0.07       141\n",
      "           6       0.69      0.50      0.58       143\n",
      "           7       0.38      0.09      0.14       158\n",
      "           8       0.15      0.15      0.15       132\n",
      "           9       0.21      0.66      0.32       158\n",
      "\n",
      "    accuracy                           0.31      1500\n",
      "   macro avg       0.42      0.31      0.27      1500\n",
      "weighted avg       0.43      0.31      0.27      1500\n",
      "\n",
      "----------Confusion Matrix----------\n"
     ]
    },
    {
     "data": {
      "text/plain": [
       "(<Figure size 432x288 with 1 Axes>,\n",
       " <matplotlib.axes._subplots.AxesSubplot at 0x7f9f6dbe19d0>)"
      ]
     },
     "execution_count": 75,
     "metadata": {},
     "output_type": "execute_result"
    },
    {
     "data": {
      "image/png": "[encoded data removed]",
      "text/plain": [
       "<Figure size 432x288 with 1 Axes>"
      ]
     },
     "metadata": {
      "needs_background": "light"
     },
     "output_type": "display_data"
    }
   ],
   "source": [
    "print('Naive Bayes Classifier on MNIST_Light data... \\n')\n",
    "print('-'*10 + 'Classification Report' + '-'*5)\n",
    "print(metrics.classification_report(test_labels, y_pred))\n",
    "print('-'*10 + 'Confusion Matrix' + '-'*10)\n",
    "plot_confusion_matrix(metrics.confusion_matrix(test_labels, y_pred))"
   ]
  },
  {
   "cell_type": "markdown",
   "metadata": {
    "id": "uaZ2kqajJKcv"
   },
   "source": [
    "## Credits\n",
    "This assignment was prepared by E.A Topp et al., HT2019 (link [here](http://cs.lth.se/edan95/lab-programming-assignments/lab-session-5))."
   ]
  }
 ],
 "metadata": {
  "colab": {
   "collapsed_sections": [],
   "name": "2019-12-20-Comparing-Various-Classifiers.ipynb",
   "provenance": []
  },
  "kernelspec": {
   "display_name": "Python 3",
   "language": "python",
   "name": "python3"
  },
  "language_info": {
   "codemirror_mode": {
    "name": "ipython",
    "version": 3
   },
   "file_extension": ".py",
   "mimetype": "text/x-python",
   "name": "python",
   "nbconvert_exporter": "python",
   "pygments_lexer": "ipython3",
   "version": "3.8.5"
  }
 },
 "nbformat": 4,
 "nbformat_minor": 1
}

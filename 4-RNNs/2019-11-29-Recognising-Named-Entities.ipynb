{
 "cells": [
  {
   "cell_type": "markdown",
   "metadata": {
    "id": "HpAJtPCNLcTw"
   },
   "source": [
    "# Recognizing Named Entites Using CoNLL Tags and GloVe Embeddings\n",
    "#### By Jonathan L. Moran (jo6155mo-s@student.lu.se)\n",
    "From the EDAN95 - Applied Machine Learning course given at Lunds Tekniska Högskola (LTH) | Ht2 2019."
   ]
  },
  {
   "cell_type": "markdown",
   "metadata": {},
   "source": [
    "## Introduction\n",
    "What is covered in this post:\n",
    "*   Named entity recognition (NER)\n",
    "*   Cosine similarity \n",
    "*   Word Representation\n",
    "*   Contextual Word Representation\n",
    "*   Training a Simple RNN and Bi-directional LSTM Model\n",
    "\n",
    "Named entity recognition (abbreviated NER) is the task of _identifying_ and _categorising_ key information (called _entities_) in text. An entity is a word or string of words that have a categorical assignment. Possible entites include _Person_, _Organization_, _Time_, _Location_, etc.\n",
    "\n",
    "In this article, we will be performing two major tasks:\n",
    "1.   Recognising named entities in text.\n",
    "2.   Predicting the corresponding NER tags of a tag set.\n",
    "\n",
    "Before we dive into the code, let's first ask ourselves this–_why is this task important?_ Well, to begin with, named entity recognition is a non-trivial problem. This is because of the fact that a lot of entities, such as names or organizations, are simply made-up. In other words, we don’t have any prior knowledge of these entities. Such a dataset may not exist, or could simply be too computationally expensive to utilize. Thus, we need a model that will extract contextual information from a sentence, just like humans do.\n",
    "\n",
    "NER is suitable for any situation where a high-level overview of large text is helpful. Some practical examples of this are:\n",
    "*   Human resources– summarising applicants' CVs, parsing employee reviews/complaints.\n",
    "*   Customer support– categorising complaints and help guides, filtering by keywords.\n",
    "*   Health care– extracting important information from medical records.\n",
    "and the list goes on..."
   ]
  },
  {
   "cell_type": "markdown",
   "metadata": {
    "id": "8Jh47rWRZbcT"
   },
   "source": [
    "## Programming\n",
    "We will be using the famous [CoNLL2003 task](http://www.cnts.ua.ac.be/conll2003/ner/) data set to perform named entity recognition. This is a well known data set consisting of many, many tagged entities. The entity categories contained the CoNLL2003 task range from locations (e.g., roads, regions, public/commercial places, abstract places) to organizations (e.g., companies, brands, political movements, named collections of people) and persons (e.g. first/middle/last names, animals, aliases). A miscellaneous category includes words/word phrases not otherwise inferred (e.g., religions, nationalities, events, media titles, etc). If you are curious, a full list of tags with associated categories can be found [here](https://blog.myassignmenttutor.com/articleblog/conll-2003-list-of-tags-with-associated-categories-of-names/)."
   ]
  },
  {
   "cell_type": "code",
   "execution_count": 2,
   "metadata": {
    "id": "d43Gcml9RsoY"
   },
   "outputs": [],
   "source": [
    "import os"
   ]
  },
  {
   "cell_type": "code",
   "execution_count": 3,
   "metadata": {
    "colab": {
     "base_uri": "https://localhost:8080/",
     "height": 34
    },
    "id": "TedmJ_z-RSWy",
    "outputId": "54317dd2-de6f-49e3-c7a5-2419c6a66f92"
   },
   "outputs": [
    {
     "name": "stdout",
     "output_type": "stream",
     "text": [
      "Requirement already satisfied: regex in /opt/anaconda3/lib/python3.8/site-packages (2020.10.15)\r\n"
     ]
    }
   ],
   "source": [
    "!pip install regex"
   ]
  },
  {
   "cell_type": "code",
   "execution_count": 4,
   "metadata": {},
   "outputs": [
    {
     "name": "stdout",
     "output_type": "stream",
     "text": [
      "Requirement already satisfied: conlleval in /opt/anaconda3/lib/python3.8/site-packages (0.2)\r\n"
     ]
    }
   ],
   "source": [
    "# Compute the F1-score (harmonic mean of the precision and recall).\n",
    "!pip install conlleval\n",
    "import conlleval"
   ]
  },
  {
   "cell_type": "markdown",
   "metadata": {
    "id": "S8oL05A_Zd1Z"
   },
   "source": [
    "### Collecting a Dataset"
   ]
  },
  {
   "cell_type": "code",
   "execution_count": 5,
   "metadata": {
    "id": "SI0gfr_0LVlZ"
   },
   "outputs": [],
   "source": [
    "import pandas as pd\n",
    "import numpy as np\n",
    "import matplotlib.pyplot as plt"
   ]
  },
  {
   "cell_type": "code",
   "execution_count": 6,
   "metadata": {},
   "outputs": [],
   "source": [
    "BASE_DIR = '../src/'"
   ]
  },
  {
   "cell_type": "code",
   "execution_count": 7,
   "metadata": {
    "id": "vouvxLZOTi6g"
   },
   "outputs": [],
   "source": [
    "### From P. Nugues' datasets.py"
   ]
  },
  {
   "cell_type": "code",
   "execution_count": 8,
   "metadata": {},
   "outputs": [],
   "source": [
    "# import datasets\n",
    "def load_conll2003_en():\n",
    "    \"\"\"\n",
    "    Load the CoNLL2003 datasets and split into sentences. \n",
    "    \"\"\"\n",
    "    train_file = BASE_DIR + 'NER-data/eng.train'\n",
    "    dev_file = BASE_DIR + 'NER-data/eng.valid'\n",
    "    test_file = BASE_DIR + 'NER-data/eng.test'\n",
    "    column_names = ['form', 'ppos', 'pchunk', 'ner']\n",
    "    train_sentences = open(train_file, encoding='utf8').read().strip()\n",
    "    dev_sentences = open(dev_file, encoding='utf8').read().strip()\n",
    "    test_sentences = open(test_file, encoding='utf8').read().strip()\n",
    "    return train_sentences, dev_sentences, test_sentences, column_names"
   ]
  },
  {
   "cell_type": "code",
   "execution_count": 9,
   "metadata": {
    "id": "fhBEp_uuLWHg"
   },
   "outputs": [],
   "source": [
    "### From P. Nugues' conll_dictorizer.py"
   ]
  },
  {
   "cell_type": "code",
   "execution_count": 10,
   "metadata": {},
   "outputs": [],
   "source": [
    "# import CoNLLDictorizer, Token\n",
    "\"\"\"\n",
    "CoNLL 2009 file readers and writers for the parts of speech.\n",
    "Version with a class modeled as a vectorizer\n",
    "\"\"\"\n",
    "__author__ = \"Pierre Nugues\"\n",
    "import re\n",
    "\n",
    "class Token(dict):\n",
    "    pass\n",
    "\n",
    "\n",
    "class CoNLLDictorizer:\n",
    "\n",
    "    def __init__(self, column_names, sent_sep='\\n\\n', col_sep=' +'):\n",
    "        self.column_names = column_names\n",
    "        self.sent_sep = sent_sep\n",
    "        self.col_sep = col_sep\n",
    "\n",
    "    def fit(self):\n",
    "        pass\n",
    "\n",
    "    def transform(self, corpus):\n",
    "        corpus = corpus.strip()\n",
    "        sentences = re.split(self.sent_sep, corpus)\n",
    "        return list(map(self._split_in_words, sentences))\n",
    "\n",
    "    def fit_transform(self, corpus):\n",
    "        return self.transform(corpus)\n",
    "\n",
    "    def _split_in_words(self, sentence):\n",
    "        rows = re.split('\\n', sentence)\n",
    "        return [Token(dict(zip(self.column_names,\n",
    "                               re.split(self.col_sep, row))))\n",
    "                for row in rows]"
   ]
  },
  {
   "cell_type": "markdown",
   "metadata": {
    "id": "tkhgOOJMZt5R"
   },
   "source": [
    "#### Using the CoNLL 2003 dataset\n",
    "##### A local copy of the licensed dataset was provided in the `/usr/local/cs/EDAN95/datasets/NER-data` folder (access granted for LTH students)."
   ]
  },
  {
   "cell_type": "markdown",
   "metadata": {},
   "source": [
    "This is the 20030423 release of the data for the CoNLL-2003 shared \n",
    "task."
   ]
  },
  {
   "cell_type": "code",
   "execution_count": 12,
   "metadata": {},
   "outputs": [],
   "source": [
    "train_sentences, dev_sentences, test_sentences, column_names = load_conll2003_en()"
   ]
  },
  {
   "cell_type": "code",
   "execution_count": 13,
   "metadata": {
    "colab": {
     "base_uri": "https://localhost:8080/",
     "height": 34
    },
    "id": "eiUcpZ2hUGmN",
    "outputId": "b5285f9a-3a0d-411a-cdf7-e16878259a20"
   },
   "outputs": [
    {
     "data": {
      "text/plain": [
       "'I'"
      ]
     },
     "execution_count": 13,
     "metadata": {},
     "output_type": "execute_result"
    }
   ],
   "source": [
    "train_sentences[100]"
   ]
  },
  {
   "cell_type": "code",
   "execution_count": 14,
   "metadata": {
    "colab": {
     "base_uri": "https://localhost:8080/",
     "height": 34
    },
    "id": "hGRpYpTKUVue",
    "outputId": "7f797d71-d658-46fe-b8a4-d5be7c6238f9"
   },
   "outputs": [
    {
     "data": {
      "text/plain": [
       "'I'"
      ]
     },
     "execution_count": 14,
     "metadata": {},
     "output_type": "execute_result"
    }
   ],
   "source": [
    "test_sentences[100]"
   ]
  },
  {
   "cell_type": "code",
   "execution_count": 15,
   "metadata": {},
   "outputs": [],
   "source": [
    "conll_dict = CoNLLDictorizer(column_names, col_sep=' +')\n",
    "train_dict = conll_dict.transform(train_sentences)\n",
    "dev_dict = conll_dict.transform(dev_sentences)\n",
    "test_dict = conll_dict.transform(test_sentences)"
   ]
  },
  {
   "cell_type": "markdown",
   "metadata": {},
   "source": [
    "Let's look at the first two examples in our train data:"
   ]
  },
  {
   "cell_type": "code",
   "execution_count": 16,
   "metadata": {
    "colab": {
     "base_uri": "https://localhost:8080/",
     "height": 34
    },
    "id": "MVlM2kaEUocH",
    "outputId": "41ef1299-d643-41e8-c715-d8401fae87bf"
   },
   "outputs": [
    {
     "name": "stdout",
     "output_type": "stream",
     "text": [
      "[{'form': '-DOCSTART-', 'ppos': '-X-', 'pchunk': 'O', 'ner': 'O'}]\n"
     ]
    }
   ],
   "source": [
    "print(train_dict[0])"
   ]
  },
  {
   "cell_type": "code",
   "execution_count": 17,
   "metadata": {
    "colab": {
     "base_uri": "https://localhost:8080/",
     "height": 54
    },
    "id": "uyaEcFgVVW00",
    "outputId": "79d544dd-7510-49f1-9c8b-6c1b9406476c"
   },
   "outputs": [
    {
     "name": "stdout",
     "output_type": "stream",
     "text": [
      "[{'form': 'EU', 'ppos': 'NNP', 'pchunk': 'I-NP', 'ner': 'I-ORG'}, {'form': 'rejects', 'ppos': 'VBZ', 'pchunk': 'I-VP', 'ner': 'O'}, {'form': 'German', 'ppos': 'JJ', 'pchunk': 'I-NP', 'ner': 'I-MISC'}, {'form': 'call', 'ppos': 'NN', 'pchunk': 'I-NP', 'ner': 'O'}, {'form': 'to', 'ppos': 'TO', 'pchunk': 'I-VP', 'ner': 'O'}, {'form': 'boycott', 'ppos': 'VB', 'pchunk': 'I-VP', 'ner': 'O'}, {'form': 'British', 'ppos': 'JJ', 'pchunk': 'I-NP', 'ner': 'I-MISC'}, {'form': 'lamb', 'ppos': 'NN', 'pchunk': 'I-NP', 'ner': 'O'}, {'form': '.', 'ppos': '.', 'pchunk': 'O', 'ner': 'O'}]\n"
     ]
    }
   ],
   "source": [
    "print(train_dict[1])"
   ]
  },
  {
   "cell_type": "markdown",
   "metadata": {},
   "source": [
    "And the first sentence in our dev data set:"
   ]
  },
  {
   "cell_type": "code",
   "execution_count": 18,
   "metadata": {
    "colab": {
     "base_uri": "https://localhost:8080/",
     "height": 54
    },
    "id": "3IkdI1Hg0hHa",
    "outputId": "f8e68451-b64d-4a09-b71c-9c60d2c08b7c"
   },
   "outputs": [
    {
     "name": "stdout",
     "output_type": "stream",
     "text": [
      "[{'form': 'CRICKET', 'ppos': 'NNP', 'pchunk': 'I-NP', 'ner': 'O'}, {'form': '-', 'ppos': ':', 'pchunk': 'O', 'ner': 'O'}, {'form': 'LEICESTERSHIRE', 'ppos': 'NNP', 'pchunk': 'I-NP', 'ner': 'I-ORG'}, {'form': 'TAKE', 'ppos': 'NNP', 'pchunk': 'I-NP', 'ner': 'O'}, {'form': 'OVER', 'ppos': 'IN', 'pchunk': 'I-PP', 'ner': 'O'}, {'form': 'AT', 'ppos': 'NNP', 'pchunk': 'I-NP', 'ner': 'O'}, {'form': 'TOP', 'ppos': 'NNP', 'pchunk': 'I-NP', 'ner': 'O'}, {'form': 'AFTER', 'ppos': 'NNP', 'pchunk': 'I-NP', 'ner': 'O'}, {'form': 'INNINGS', 'ppos': 'NNP', 'pchunk': 'I-NP', 'ner': 'O'}, {'form': 'VICTORY', 'ppos': 'NN', 'pchunk': 'I-NP', 'ner': 'O'}, {'form': '.', 'ppos': '.', 'pchunk': 'O', 'ner': 'O'}]\n"
     ]
    }
   ],
   "source": [
    "print(dev_dict[1])"
   ]
  },
  {
   "cell_type": "markdown",
   "metadata": {},
   "source": [
    "Great! We have successfully obtained our CoNLL2003 data, which we will used to train and validate our NER tag model. Let's move on to the next step in our pipeline–obtaining _word representations_. We will accomplish this using a set of pre-trained word vectors."
   ]
  },
  {
   "cell_type": "markdown",
   "metadata": {
    "id": "a7e0wgMxaSBR"
   },
   "source": [
    "### Collecting the Embeddings\n",
    "In this segment, we will be using a set of pre-trained word embeddings from the [GloVe](https://nlp.stanford.edu/projects/glove/) unsupervised learning algorithm for obtaining vector representations for words. But wait–_what is a word embeddding?_ Well, from the words of [Samarth Agrawal](https://towardsdatascience.com/what-the-heck-is-word-embedding-b30f67f01c81), a word embedding is a collective term used to describe models that learned to map a set of words or phrases in a vocabulary to vectors of numerical values. In short, word embeddings are the result of a very simple method to represent a word in the vector form. \n",
    "\n",
    "Word embeddings are a class of techniques where individual words are represented as real-valued vectors in a predefined vector space. Furthermore, each word is mapped to one vector and the vector values are learned in a way that resembles a neural network (thanks for that definition, [Jason Brownlee](https://machinelearningmastery.com/what-are-word-embeddings/)."
   ]
  },
  {
   "cell_type": "markdown",
   "metadata": {
    "id": "TtRwtUvhh-eP"
   },
   "source": [
    "_1. Download the 'GloVe embeddings 6B' from https://nlp.stanford.edu/projects/glove/ and keep the `glove.6B.100d` vectors._"
   ]
  },
  {
   "cell_type": "code",
   "execution_count": 19,
   "metadata": {},
   "outputs": [],
   "source": [
    "embedding_file = '../src/glove.6B.100d.txt'"
   ]
  },
  {
   "cell_type": "markdown",
   "metadata": {
    "id": "ONDcsn-FiVFg"
   },
   "source": [
    "_2. LTH students: you have a local copy of this script in `usr/local/cs/EDAN95/datasets/`_"
   ]
  },
  {
   "cell_type": "markdown",
   "metadata": {
    "id": "NIX62mFWiRnQ"
   },
   "source": [
    "_3. Write a function that reads GloVe embeddings and store them in a dictionary, where the `keys` will be the words and the `values`, the embeddings._"
   ]
  },
  {
   "cell_type": "markdown",
   "metadata": {},
   "source": [
    "Luckily, [Pierre Nugues](https://cs.lth.se/pierre/) did most of the work in this step for us. Thanks, Pierre."
   ]
  },
  {
   "cell_type": "code",
   "execution_count": 20,
   "metadata": {
    "id": "jk1NMB_0aYhA"
   },
   "outputs": [],
   "source": [
    "def read_embeddings(file):\n",
    "  \"\"\"\n",
    "  Return the embeddings in the form of a dictionary (src:\n",
    "  https://github.com/pnugues/edan95/blob/master/programs/4.2-nn-pos-tagger-embeddings.ipynb)\n",
    "\n",
    "  :return: embeddings   the GloVe embeddings where `keys`=words, `values`=embeddings\n",
    "  \"\"\"\n",
    "  embeddings = {}\n",
    "  glove = open(file, encoding='utf8')\n",
    "  for line in glove:\n",
    "    values = line.strip().split()\n",
    "    word = values[0]\n",
    "    vector = np.array(values[1:], dtype='float32')\n",
    "    embeddings[word] = vector\n",
    "  glove.close()\n",
    "\n",
    "  return embeddings"
   ]
  },
  {
   "cell_type": "code",
   "execution_count": 21,
   "metadata": {},
   "outputs": [],
   "source": [
    "embeddings_dict = read_embeddings(embedding_file)\n",
    "embedded_words = sorted(list(embeddings_dict.keys()))"
   ]
  },
  {
   "cell_type": "markdown",
   "metadata": {},
   "source": [
    "Here's what we got from our `read_embeddings` method:"
   ]
  },
  {
   "cell_type": "code",
   "execution_count": 22,
   "metadata": {
    "colab": {
     "base_uri": "https://localhost:8080/",
     "height": 34
    },
    "id": "xUm8M9UPaY0P",
    "outputId": "0ad28398-a5dc-4d55-809a-5de133eb2304"
   },
   "outputs": [
    {
     "name": "stdout",
     "output_type": "stream",
     "text": [
      "Found 400000 word vectors\n"
     ]
    }
   ],
   "source": [
    "print('Found %s word vectors' % len(embeddings_dict))"
   ]
  },
  {
   "cell_type": "code",
   "execution_count": 23,
   "metadata": {
    "colab": {
     "base_uri": "https://localhost:8080/",
     "height": 34
    },
    "id": "om45SIEWpBt0",
    "outputId": "a8c77036-0ce3-4aed-e80c-f8a181444e33"
   },
   "outputs": [
    {
     "name": "stdout",
     "output_type": "stream",
     "text": [
      "Found 400000 embedding words\n"
     ]
    }
   ],
   "source": [
    "print('Found %s embedding words' % len(embedded_words))"
   ]
  },
  {
   "cell_type": "markdown",
   "metadata": {},
   "source": [
    "At first glance, you can see that we obtained a _ton_ of embeddings from the GloVe data set. `400000` unique words, to be exact. And because these are feature vectors, we see that there are also `400000` vectors, one for each word."
   ]
  },
  {
   "cell_type": "markdown",
   "metadata": {
    "id": "iCOZxb9-jCjx"
   },
   "source": [
    "##### 4. Using a cosine similarity, compute the 5 closest words to the words _table_, _france_, and _sweden_\n",
    "In this example, we will be computing the _cosine similarity_ between each embedding. This serves as a measure of similarity between two vectors by computing the angle between them and determining whether the two vectors are pointing in roughly the same direction. We won't go into the details of this computation, since it's readily available to us using `sklearn`, but many explanations are just a click away."
   ]
  },
  {
   "cell_type": "code",
   "execution_count": 24,
   "metadata": {
    "id": "ULSMSQ4bRshp"
   },
   "outputs": [],
   "source": [
    "from sklearn.metrics.pairwise import cosine_similarity\n",
    "from operator import itemgetter"
   ]
  },
  {
   "cell_type": "code",
   "execution_count": 25,
   "metadata": {
    "id": "YKMpKUBheWKM"
   },
   "outputs": [],
   "source": [
    "def closest_neighbors(glove_dict):\n",
    "  #word_embedding = embeddings_idx[word]\n",
    "  neighbors = {}\n",
    "  neighbors2 = {}\n",
    "  neighbors3 = {}\n",
    "  #print(word_embedding)\n",
    "  #print(neighbors)\n",
    "  \n",
    "  for i in glove_dict:\n",
    "    val = round(cosine_similarity([glove_dict['table'], glove_dict[i]])[0][1], 4)\n",
    "    if val > 0:\n",
    "      neighbors[i] = val\n",
    "    val2 = round(cosine_similarity([glove_dict['france'], glove_dict[i]])[0][1], 4)\n",
    "    if val2 > 0:\n",
    "      neighbors2[i] = val2\n",
    "    val3 = round(cosine_similarity([glove_dict['sweden'], glove_dict[i]])[0][1], 4)\n",
    "    if val3 > 0:\n",
    "      neighbors3[i] = val3\n",
    "\n",
    "  pair_list = []\n",
    "  for k,v in sorted(neighbors.items(), key=itemgetter(1)):\n",
    "    pair_list.append(k)\n",
    "  print('Closest 5 words to \"table\": ', pair_list[-5:])\n",
    "\n",
    "  pair_list = []\n",
    "  for k,v in sorted(neighbors2.items(), key=itemgetter(1)):\n",
    "    pair_list.append(k)\n",
    "  print('Closest 5 words to \"france\": ', pair_list[-5:])\n",
    "\n",
    "  pair_list = []\n",
    "  for k,v in sorted(neighbors3.items(), key=itemgetter(1)):\n",
    "    pair_list.append(k)\n",
    "  print('Closest 5 words to \"sweden\": ', pair_list[-5:])"
   ]
  },
  {
   "cell_type": "code",
   "execution_count": 26,
   "metadata": {
    "colab": {
     "base_uri": "https://localhost:8080/",
     "height": 70
    },
    "id": "pOau-UmVkKxS",
    "outputId": "a2ff15d4-8251-413a-849a-54487e83f1ed"
   },
   "outputs": [
    {
     "name": "stdout",
     "output_type": "stream",
     "text": [
      "Closest 5 words to \"table\":  ['room', 'bottom', 'place', 'tables', 'table']\n",
      "Closest 5 words to \"france\":  ['spain', 'britain', 'french', 'belgium', 'france']\n",
      "Closest 5 words to \"sweden\":  ['netherlands', 'finland', 'norway', 'denmark', 'sweden']\n"
     ]
    }
   ],
   "source": [
    "closest_neighbors(embeddings_dict)"
   ]
  },
  {
   "cell_type": "markdown",
   "metadata": {},
   "source": [
    "As the above described, we used cosine similarity to compute the 5 closest words to _table_, _france_ and _sweden_. The results look pretty good! The words \"bottom\" and \"table\" seem to imply a context-specific (and rather strange) co-occurence. Also, it seems odd that the \"netherlands\" is associated with the Scandinavian country \"sweden\", but nontheless–GloVe embeddings seem like a great place to start with encoding semantic understanding in our model. For the extra smart ones out there, consider improving your own NER model by fine-tuning contextual word representaions (popularised by models like BERT, ELMo, GPT-2). More on that [here](http://ai.stanford.edu/blog/contextual/)."
   ]
  },
  {
   "cell_type": "markdown",
   "metadata": {},
   "source": [
    "### Extracting the $X$ and $Y$ Lists of Symbols"
   ]
  },
  {
   "cell_type": "markdown",
   "metadata": {
    "id": "RcT8yc_K8pjx"
   },
   "source": [
    "#### Reading the Corpus and Building Indices\n",
    "In this step we will be creating a vocabulary composed of all the words in the CoNLL and GloVe data sets. We'll use a few methods provided to us by Pierre Nugues to accomplish this task."
   ]
  },
  {
   "cell_type": "markdown",
   "metadata": {
    "id": "J1_FXKfU8xxk"
   },
   "source": [
    "You will read the corpus with programs available from https://github.com/pnugues/edan95. These programs will enable you to load the files in the form of a list of dictionaries."
   ]
  },
  {
   "cell_type": "markdown",
   "metadata": {
    "id": "n82iy-ea81n1"
   },
   "source": [
    "_1. Write a function that for each sentence returns the *x* and *y* lists of symbols consisting of words and NER tags._\n",
    "\n",
    "Some datasets you may find on the web use a different NER tagset, where `I-` is replaced with `B-`, like `B-ORG` instead of `I-ORG`. This will not change your results."
   ]
  },
  {
   "cell_type": "code",
   "execution_count": 27,
   "metadata": {
    "id": "smszW78y_WeY"
   },
   "outputs": [],
   "source": [
    "def build_sequences(corpus_dict, key_x='form', key_y='ner', tolower=True):\n",
    "  \"\"\"\n",
    "  Creates sequences from a list of dictionaries\n",
    "  :param corpus_dict:\n",
    "  :param key_x:\n",
    "  :param key_y:\n",
    "  :return:\n",
    "  \"\"\"\n",
    "  X = []\n",
    "  Y = []\n",
    "  \n",
    "  for sentence in corpus_dict:\n",
    "    x = []     # list of symbols containing words\n",
    "    y = []     # list of symbols containing NER tags\n",
    "    \n",
    "    for word in sentence:\n",
    "      x += [word[key_x]]\n",
    "      y += [word[key_y]]\n",
    "    if tolower:\n",
    "      x = list(map(str.lower, x))\n",
    "    X += [x]\n",
    "    Y += [y]\n",
    "\n",
    "  return X, Y"
   ]
  },
  {
   "cell_type": "markdown",
   "metadata": {
    "id": "wQncnJul9fx5"
   },
   "source": [
    "_2. Apply this function to your datasets so you create **X** and **Y** lists of lists consisting of words and NER tags._"
   ]
  },
  {
   "cell_type": "code",
   "execution_count": 28,
   "metadata": {
    "id": "b0eNEXvI_Vyy"
   },
   "outputs": [],
   "source": [
    "X_train, Y_train = build_sequences(train_dict)\n",
    "X_test, Y_test = build_sequences(test_dict)\n",
    "X_dev, Y_dev = build_sequences(dev_dict)"
   ]
  },
  {
   "cell_type": "markdown",
   "metadata": {
    "id": "XkYytEHqGsGK"
   },
   "source": [
    "_For the second sentence of the training set, you should have:_\n",
    "```\n",
    "x = ['eu', 'rejects', 'german', 'call', 'to', 'boycott', 'british', 'lamb', '.']\n",
    "y = ['I-ORG', 'O', 'I-MISC', 'O', 'O', 'O', 'I-MISC', 'O', 'O']\n",
    "```"
   ]
  },
  {
   "cell_type": "code",
   "execution_count": 29,
   "metadata": {
    "colab": {
     "base_uri": "https://localhost:8080/",
     "height": 73
    },
    "id": "0_lRx6V4Guc6",
    "outputId": "a94c3261-5af4-46fe-f736-e6224f8c984b"
   },
   "outputs": [
    {
     "name": "stdout",
     "output_type": "stream",
     "text": [
      "x = ['eu', 'rejects', 'german', 'call', 'to', 'boycott', 'british', 'lamb', '.']\n",
      "y = ['I-ORG', 'O', 'I-MISC', 'O', 'O', 'O', 'I-MISC', 'O', 'O']\n"
     ]
    }
   ],
   "source": [
    "print('x =', X_train[1])\n",
    "print('y =', Y_train[1])"
   ]
  },
  {
   "cell_type": "markdown",
   "metadata": {},
   "source": [
    "Look at that–it matches!\n",
    "\n",
    "\n",
    "Let's also take a look at the second sentence of the dev set:"
   ]
  },
  {
   "cell_type": "code",
   "execution_count": 30,
   "metadata": {
    "colab": {
     "base_uri": "https://localhost:8080/",
     "height": 73
    },
    "id": "AqzzpeAC1F3_",
    "outputId": "c2357d04-0a41-448f-b8b7-1f4890a2a7ef"
   },
   "outputs": [
    {
     "name": "stdout",
     "output_type": "stream",
     "text": [
      "x = ['cricket', '-', 'leicestershire', 'take', 'over', 'at', 'top', 'after', 'innings', 'victory', '.']\n",
      "y = ['O', 'O', 'I-ORG', 'O', 'O', 'O', 'O', 'O', 'O', 'O', 'O']\n"
     ]
    }
   ],
   "source": [
    "print('x =', X_dev[1])\n",
    "print('y =', Y_dev[1])"
   ]
  },
  {
   "cell_type": "markdown",
   "metadata": {
    "id": "DdraRLQv90Bh"
   },
   "source": [
    "_3. Create a vocabulary of all the words observed in the training set and the words in GloVe. You should find 402,595 different words._"
   ]
  },
  {
   "cell_type": "code",
   "execution_count": 31,
   "metadata": {
    "id": "t1WM0jCT_Te2"
   },
   "outputs": [],
   "source": [
    "def extract_words(X_dict, Y_dict):\n",
    "  # Extracting the words in the CoNLL data set\n",
    "  vocabulary_words = sorted(list(\n",
    "      set([word for sentence in X_dict for word in sentence])))\n",
    "\n",
    "  # Extracting the NER tags in the GloVe tagset\n",
    "  ner = sorted(list(\n",
    "      set([ner for sentence in Y_dict for ner in sentence])))\n",
    "  \n",
    "  print('NER tagset: ', ner)\n",
    "\n",
    "  return vocabulary_words, ner"
   ]
  },
  {
   "cell_type": "code",
   "execution_count": 32,
   "metadata": {
    "colab": {
     "base_uri": "https://localhost:8080/",
     "height": 53
    },
    "id": "Rjqo_Rr0vj2i",
    "outputId": "5b46aced-a8d0-42ac-87ae-a177d88edb2f"
   },
   "outputs": [
    {
     "name": "stdout",
     "output_type": "stream",
     "text": [
      "NER tagset:  ['B-LOC', 'B-MISC', 'B-ORG', 'I-LOC', 'I-MISC', 'I-ORG', 'I-PER', 'O']\n"
     ]
    }
   ],
   "source": [
    "vocabulary_words, ner = extract_words(X_train, Y_train)"
   ]
  },
  {
   "cell_type": "markdown",
   "metadata": {},
   "source": [
    "Let's preview the words in our new vocabulary. We will consider a range of 10 words that begin with the letter 'A'."
   ]
  },
  {
   "cell_type": "code",
   "execution_count": 33,
   "metadata": {
    "id": "5oG75NDquubz"
   },
   "outputs": [],
   "source": [
    "def create_dict(vocabulary_words, embeddings_dict):\n",
    "  \"\"\"\n",
    "  Creates a dictionary of unique words in the CoNLL and GloVe embeddings data sets\n",
    "  Each word has a padding_length of 2, such that:\n",
    "    - index 0 is the padding symbol and,\n",
    "    - index 1 is the unknown words symbol\n",
    "\n",
    "  :param vocabulary_words:    the set of unique words in CoNLL data set\n",
    "  :param embeddings_words:    the set of unique NER tags in GloVe data set\n",
    "  :return vocabulary_words:   the set of unique words in entire vocabulary (GloVe and CoNLL)\n",
    "  :return cnt_uniq:           the number of unique words (plus padding symbols)\n",
    "  \"\"\"\n",
    "  padding_length = 2\n",
    "\n",
    "  embeddings_words = embeddings_dict.keys()\n",
    "  print('Words in GloVe:',  len(embeddings_dict.keys()))\n",
    "\n",
    "  vocabulary_words = sorted(list(set(vocabulary_words + list(embeddings_words))))\n",
    "\n",
    "  cnt_uniq = len(vocabulary_words) + padding_length\n",
    "  print('# unique words in the vocabulary: embeddings and corpus:', cnt_uniq)\n",
    "\n",
    "  return vocabulary_words, cnt_uniq"
   ]
  },
  {
   "cell_type": "code",
   "execution_count": 34,
   "metadata": {
    "colab": {
     "base_uri": "https://localhost:8080/",
     "height": 71
    },
    "id": "WImkOAyTGSUg",
    "outputId": "1af50db2-a86a-47e3-f7a7-1968823db506"
   },
   "outputs": [
    {
     "name": "stdout",
     "output_type": "stream",
     "text": [
      "Words in GloVe: 400000\n",
      "# unique words in the vocabulary: embeddings and corpus: 402597\n"
     ]
    }
   ],
   "source": [
    "vocabulary_words, cnt_uniq = create_dict(vocabulary_words, embeddings_dict)"
   ]
  },
  {
   "cell_type": "markdown",
   "metadata": {},
   "source": [
    "By this step, you should note that we have a new vocabulary consisting of CoNLL + GloVe words and NER tags. We've added 2597 words to our GloVe embeddings dictionary, leaving us with a total of 402597 unique words to work with."
   ]
  },
  {
   "cell_type": "markdown",
   "metadata": {
    "id": "cAxcVKC7-BCa"
   },
   "source": [
    "_4. Create indices and inverted indices for all the words and the NER: i.e. you will associate each word with a number. You will use index 0 for the padding symbol and 1 for unknown words._"
   ]
  },
  {
   "cell_type": "markdown",
   "metadata": {},
   "source": [
    "For clarification, an _inverted index_ is an index data structure storing a mapping from content, such as words or numbers, to its location in a document or set of documents. An advantage of using an inverted index is that it allows for fast full-text searches, but comes at the cost of high storage overhead and maintence costs on update, delete and insert (more on that [here](https://www.geeksforgeeks.org/inverted-index/))."
   ]
  },
  {
   "cell_type": "code",
   "execution_count": 35,
   "metadata": {
    "id": "iQ2yTtc2zIbx"
   },
   "outputs": [],
   "source": [
    "from sklearn.feature_extraction import DictVectorizer"
   ]
  },
  {
   "cell_type": "code",
   "execution_count": 36,
   "metadata": {
    "id": "fVmK61ZB_G70"
   },
   "outputs": [],
   "source": [
    "def map_idx(vocabulary_words, ner, X_dict, Y_dict):\n",
    "  \"\"\"\n",
    "  Maps the list of words (or NER tag lists) to a parallelly-sequenced index\n",
    "\n",
    "  :param vocabulary_words:   the list of lists containing CoNLL words\n",
    "  :param ner:                the list of lists containing GloVe embeddings\n",
    "  :param X_dict:             the sequenced list of dictionaries containing vocabulary words\n",
    "  :param Y_dict:             the sequenced list of dictionaries containing GloVe embeddings\n",
    "  :return X_idx:             the parallelly-sequenced indexes mapping unique words to indices\n",
    "  :return word_idx:          the padded index containing unique words in vocabulary\n",
    "  :return Y_idx:             the parallelly-sequenced indexes mapping unique tags to indices\n",
    "  :return ner_idx:           the padded index containing unique tags in vocabulary\n",
    "  \"\"\"\n",
    "  # We keep indexes 0,1 for padding and unknown word symbols\n",
    "  idx_word = dict(enumerate(vocabulary_words, start=2))\n",
    "  idx_ner = dict(enumerate(ner, start=2))\n",
    "\n",
    "  word_idx = {v: k for k, v in idx_word.items()}\n",
    "  ner_idx = {v: k for k, v in idx_ner.items()}\n",
    "\n",
    "  X_idx = []\n",
    "  for x in X_dict:\n",
    "    # We map the unknown words to one\n",
    "    x_idx = list(map(lambda x: word_idx.get(x, 1), x))\n",
    "    X_idx += [x_idx]\n",
    "  \n",
    "  Y_idx = []\n",
    "  for y in Y_dict:\n",
    "    # We map the unknown words to one\n",
    "    y_idx = list(map(lambda y: ner_idx.get(y, 1), y))\n",
    "    Y_idx += [y_idx]\n",
    "  \n",
    "  return X_idx, word_idx, Y_idx, ner_idx"
   ]
  },
  {
   "cell_type": "code",
   "execution_count": 37,
   "metadata": {
    "id": "DdvZvMoUWb_S"
   },
   "outputs": [],
   "source": [
    "X_idx, word_idx, Y_idx, ner_idx = map_idx(vocabulary_words, ner, X_train, Y_train)\n",
    "X_dev_idx, word_dev_idx, Y_dev_idx, ner_dev_idx = map_idx(vocabulary_words, ner, X_dev, Y_dev)"
   ]
  },
  {
   "cell_type": "code",
   "execution_count": 38,
   "metadata": {
    "colab": {
     "base_uri": "https://localhost:8080/",
     "height": 73
    },
    "id": "WdLZHip-xPMv",
    "outputId": "d44af2ab-c89a-4a3b-e2d4-3e90ce50f501"
   },
   "outputs": [
    {
     "name": "stdout",
     "output_type": "stream",
     "text": [
      "Second sentences of X_idx, word indices [[935], [142143, 307143, 161836, 91321, 363368, 83766, 85852, 218260, 936], [284434, 79019], [86920, 15423]]\n",
      "Second sentences of Y_idx, NER indices [[9], [7, 9, 6, 9, 9, 9, 6, 9, 9], [8, 8], [5, 9]]\n"
     ]
    }
   ],
   "source": [
    "print('Second sentences of X_idx, word indices', X_idx[:4])\n",
    "print('Second sentences of Y_idx, NER indices', Y_idx[:4])"
   ]
  },
  {
   "cell_type": "code",
   "execution_count": 39,
   "metadata": {
    "colab": {
     "base_uri": "https://localhost:8080/",
     "height": 73
    },
    "id": "RYkwXsZz3L52",
    "outputId": "b69c5768-617f-4892-e65b-a029911d5700"
   },
   "outputs": [
    {
     "name": "stdout",
     "output_type": "stream",
     "text": [
      "Second sentences of X_dev_idx, word indices [[935], [113351, 679, 221875, 354360, 275584, 63471, 364505, 49150, 192163, 381011, 936], [227217, 15431], [388337, 190955, 53074, 285387, 334414, 364408, 154113, 153033, 26724, 271939, 155673, 62067, 221875, 72732, 339658, 89620, 55656, 192163, 56102, 27037, 315734, 190291, 370791, 119532, 363368, 354360, 275584, 63471, 359698, 176975, 270183, 359698, 112003, 98068, 936]]\n",
      "Second sentences of Y_dev_idx, NER indices [[9], [9, 9, 7, 9, 9, 9, 9, 9, 9, 9, 9], [5, 9], [6, 6, 9, 8, 8, 9, 9, 9, 9, 9, 9, 9, 7, 9, 7, 9, 9, 9, 9, 9, 9, 9, 9, 9, 9, 9, 9, 9, 9, 9, 9, 9, 9, 9, 9]]\n"
     ]
    }
   ],
   "source": [
    "print('Second sentences of X_dev_idx, word indices', X_dev_idx[:4])\n",
    "print('Second sentences of Y_dev_idx, NER indices', Y_dev_idx[:4])"
   ]
  },
  {
   "cell_type": "markdown",
   "metadata": {
    "id": "te02q_RrY0jp"
   },
   "source": [
    "### Building the Embeddings Matrix"
   ]
  },
  {
   "cell_type": "markdown",
   "metadata": {},
   "source": [
    "This matrix will be used to train our model on the vocabulary we constructed earlier. An embeddings matrix consists of word embeddings represented as a dense real-valued low dimensional matrix. Each row of the matrix is associated with a word in our vocabulary and each column in the matrix represents a latent feature. In our use case, we will consider the dimensionality of each embedding `N` to be of length `100`. That is, each unique word `M` in our vocabulary will have `100` features (elements) in every 1-D vertical array. According to our specification below, we will initialise these 100 elements to be random values. "
   ]
  },
  {
   "cell_type": "markdown",
   "metadata": {
    "id": "uKKpk-Rsjwja"
   },
   "source": [
    "_1. Create a matrix of dimensions `(M, N)`, where `M` will be the size of the vocabulary (the unique words in the training set and the words in GloVe), and `N` will be the dimension of the embeddings._\n",
    "* The padding symbol and the unknown word symbol will be part of the vocabulary.\n",
    "* The shape of your matrix should be `(402597, 100)`. Initialise it with random values."
   ]
  },
  {
   "cell_type": "code",
   "execution_count": 40,
   "metadata": {
    "id": "G_2LPx6C5Z2p"
   },
   "outputs": [],
   "source": [
    "def create_embeddings_matrix(vocabulary_words, embeddings_dict, word_idx):\n",
    "  \"\"\"\n",
    "  Create an embeddings matrix of size (M,N) where \n",
    "    M = size of vocabulary_words, and \n",
    "    N = dimension of embeddings\n",
    "\n",
    "  :param vocabulary_words:    the unique words in the training set and in GloVe\n",
    "  :param embeddings_dict:     the GloVe embeddings\n",
    "  :param word_idx:            the unique words \n",
    "  :return embedding_matrix:   the MxN matrix of M vocabulary words and N embeddings\n",
    "  \"\"\"\n",
    "  EMBEDDING_DIM = 100\n",
    "  rdstate = np.random.RandomState(1234567)\n",
    "  # random = np.random.random((len(vocabulary_words)+2, EMBEDDING_DIM))\n",
    "  embedding_matrix = rdstate.uniform(-0.05, 0.05,\n",
    "                                     (len(vocabulary_words) + 2,\n",
    "                                      EMBEDDING_DIM))\n",
    "\n",
    "  for word in vocabulary_words:\n",
    "    if word in embeddings_dict:\n",
    "      # If the words are in the embeddings, we fill them with a value\n",
    "      embedding_matrix[word_idx[word]] = embeddings_dict[word]\n",
    "\n",
    "  return embedding_matrix"
   ]
  },
  {
   "cell_type": "markdown",
   "metadata": {
    "id": "aaZEdEoNjwsN"
   },
   "source": [
    "_2. Fill the matrix with the GloVe embeddings when available. You will use the indices from the previous section._"
   ]
  },
  {
   "cell_type": "code",
   "execution_count": 41,
   "metadata": {
    "id": "aqKiAvgZk9fD"
   },
   "outputs": [],
   "source": [
    "embedding_matrix = create_embeddings_matrix(vocabulary_words, embeddings_dict, word_idx)"
   ]
  },
  {
   "cell_type": "code",
   "execution_count": 42,
   "metadata": {
    "colab": {
     "base_uri": "https://localhost:8080/",
     "height": 667
    },
    "id": "2abMiWOzaMnm",
    "outputId": "5d9e86a3-a132-48fc-a9d3-7fda388889d2"
   },
   "outputs": [
    {
     "name": "stdout",
     "output_type": "stream",
     "text": [
      "Shape of embedding matrix: (402597, 100)\n",
      "Embedding of table [-0.61453998  0.89692998  0.56770998  0.39102    -0.22437     0.49035001\n",
      "  0.10868     0.27410999 -0.23833001 -0.52152997  0.73550999 -0.32653999\n",
      "  0.51304001  0.32415    -0.46709001  0.68050998 -0.25497001 -0.040484\n",
      " -0.54417998 -1.05480003 -0.46691999  0.23557     0.31233999 -0.34536999\n",
      "  0.14793    -0.53745002 -0.43215001 -0.48723999 -0.51019001 -0.90509999\n",
      " -0.17918999 -0.018376    0.09719    -0.31623     0.75120002  0.92236\n",
      " -0.49965     0.14036    -0.28296    -0.97443002 -0.0094408  -0.62944001\n",
      "  0.14711    -0.94375998  0.0075222   0.18565001 -0.99172002  0.072789\n",
      " -0.18474001 -0.52901     0.38995001 -0.45677    -0.21932     1.37230003\n",
      " -0.29635999 -2.2342     -0.36667001  0.04987     0.63420999  0.53275001\n",
      " -0.53955001  0.31398001 -0.44698    -0.38389     0.066668   -0.02168\n",
      "  0.20558     0.59456003 -0.24891999 -0.52794999 -0.3761      0.077104\n",
      "  0.75221997 -0.2647     -0.0587      0.67540997 -0.16559    -0.49278\n",
      " -0.26326999 -0.21214999  0.24316999  0.17005999 -0.29260001 -0.50089997\n",
      " -0.56638002 -0.40377    -0.48451999 -0.32539001  0.75292999  0.0049585\n",
      " -0.32115     0.28898999 -0.042392    0.63862997 -0.20332    -0.46785\n",
      " -0.15661     0.21789999  1.41429996  0.40033999]\n",
      "Embedding of the padding symbol, idx 0, random numbers [-0.02629708 -0.04923516 -0.04801697 -0.01869074 -0.04005453 -0.03048257\n",
      " -0.0292702  -0.03350688  0.0211879  -0.04679333 -0.03026304  0.0464557\n",
      "  0.00738946  0.01992277  0.04746414  0.01543505 -0.02391317 -0.03035904\n",
      "  0.03614633 -0.01292743 -0.01311645  0.00429138  0.01827985  0.03228761\n",
      " -0.03686076 -0.04223968  0.03409078 -0.0278994   0.02529113 -0.0156977\n",
      " -0.04902496 -0.01042922 -0.029072   -0.00319148 -0.01353996  0.00950514\n",
      "  0.0413734  -0.00028032 -0.01519774 -0.01369095  0.03702888 -0.01152137\n",
      "  0.03035301  0.00264644 -0.0463597  -0.02356203 -0.033484   -0.02621933\n",
      " -0.03773337  0.01826283  0.03646911 -0.04109766 -0.03953006  0.04822013\n",
      " -0.02821295 -0.0431476  -0.02476419  0.04927545 -0.02866612 -0.00881531\n",
      " -0.01183301  0.02965345 -0.03483367  0.0109977  -0.04514807 -0.0231921\n",
      "  0.00176915  0.00485835 -0.0040727  -0.01905112 -0.02361332 -0.03425079\n",
      "  0.04564135 -0.02310861  0.04121954 -0.04504611  0.00330172  0.01987282\n",
      " -0.00783856  0.0198199  -0.02306001 -0.0187176   0.03677814 -0.03901311\n",
      " -0.03016801  0.03832556  0.02892775  0.04970791 -0.01038987  0.04192337\n",
      "  0.0403074  -0.01217054  0.04221675 -0.02228818  0.03978376 -0.00845296\n",
      "  0.00691154  0.01943966  0.00093845 -0.03084958]\n"
     ]
    }
   ],
   "source": [
    "print('Shape of embedding matrix:', embedding_matrix.shape)\n",
    "print('Embedding of table', embedding_matrix[word_idx['table']])\n",
    "print('Embedding of the padding symbol, idx 0, random numbers', \n",
    "      embedding_matrix[0])"
   ]
  },
  {
   "cell_type": "markdown",
   "metadata": {},
   "source": [
    "Now that we have constructed our vocabulary embeddings matrix, we will begin to conduct our final step in the pre-processing stage so we can train a model to perform our desired task. In case you have forgotten by now, that is to create a NER model to locate and classify named entities in text."
   ]
  },
  {
   "cell_type": "markdown",
   "metadata": {
    "id": "8q5Vu44JY6dd"
   },
   "source": [
    "### Creating the **X** and **Y** Sequences"
   ]
  },
  {
   "cell_type": "markdown",
   "metadata": {
    "id": "6_39oxZ5k-W-"
   },
   "source": [
    "You will now create the input and output sequences with numerical indices."
   ]
  },
  {
   "cell_type": "markdown",
   "metadata": {
    "id": "2NzAF-Jmk-tF"
   },
   "source": [
    "_1. Convert the **X** and **Y** lists of symbols in lists of numbers using the indices you created._"
   ]
  },
  {
   "cell_type": "markdown",
   "metadata": {
    "id": "e7rGbUNolQjh"
   },
   "source": [
    "_2. Pad the sentences using the `pad_sequences` function. As maximum length and `maxlen` argument, you will use 150 or greater. What matters is that you have a length that is larger than the maximum length you observed in your training and development corpora._\n",
    "\n",
    "For further clarification, the `pad_sequences` function will pad each sentence with the value `0` to a specific length, in our case, that is `150`."
   ]
  },
  {
   "cell_type": "code",
   "execution_count": 43,
   "metadata": {
    "id": "E69l6O2FpF5W"
   },
   "outputs": [],
   "source": [
    "from keras.preprocessing.sequence import pad_sequences"
   ]
  },
  {
   "cell_type": "code",
   "execution_count": 44,
   "metadata": {
    "id": "rEa5DsE1-LOV"
   },
   "outputs": [],
   "source": [
    "MAX_SEQUENCE_LEN=150"
   ]
  },
  {
   "cell_type": "code",
   "execution_count": 45,
   "metadata": {
    "id": "WQN9xUucYTik"
   },
   "outputs": [],
   "source": [
    "# Padding the training set with maxlen of GloVe data set\n",
    "X = pad_sequences(X_idx, maxlen=MAX_SEQUENCE_LEN)\n",
    "Y = pad_sequences(Y_idx, maxlen=MAX_SEQUENCE_LEN)"
   ]
  },
  {
   "cell_type": "code",
   "execution_count": 46,
   "metadata": {
    "colab": {
     "base_uri": "https://localhost:8080/",
     "height": 269
    },
    "id": "MZbYfup6Yt1T",
    "outputId": "ec028c4d-21c8-4153-dbdd-7973f204624e"
   },
   "outputs": [
    {
     "name": "stdout",
     "output_type": "stream",
     "text": [
      "[  0   0   0   0   0   0   0   0   0   0   0   0   0   0   0   0   0   0\n",
      "   0   0   0   0   0   0   0   0   0   0   0   0   0   0   0   0   0   0\n",
      "   0   0   0   0   0   0   0   0   0   0   0   0   0   0   0   0   0   0\n",
      "   0   0   0   0   0   0   0   0   0   0   0   0   0   0   0   0   0   0\n",
      "   0   0   0   0   0   0   0   0   0   0   0   0   0   0   0   0   0   0\n",
      "   0   0   0   0   0   0   0   0   0   0   0   0   0   0   0   0   0   0\n",
      "   0   0   0   0   0   0   0   0   0   0   0   0   0   0   0   0   0   0\n",
      "   0   0   0   0   0   0   0   0   0   0   0   0   0   0   0   0   0   0\n",
      "   0   0   0   0   0 935]\n",
      "[0 0 0 0 0 0 0 0 0 0 0 0 0 0 0 0 0 0 0 0 0 0 0 0 0 0 0 0 0 0 0 0 0 0 0 0 0\n",
      " 0 0 0 0 0 0 0 0 0 0 0 0 0 0 0 0 0 0 0 0 0 0 0 0 0 0 0 0 0 0 0 0 0 0 0 0 0\n",
      " 0 0 0 0 0 0 0 0 0 0 0 0 0 0 0 0 0 0 0 0 0 0 0 0 0 0 0 0 0 0 0 0 0 0 0 0 0\n",
      " 0 0 0 0 0 0 0 0 0 0 0 0 0 0 0 0 0 0 0 0 0 0 0 0 0 0 0 0 0 0 0 0 0 0 0 0 0\n",
      " 0 9]\n"
     ]
    }
   ],
   "source": [
    "# The first sentence of our vocabulary index, padded with maxlen of GloVe data set\n",
    "print(X[0])\n",
    "# The first sequence of embeddings, padded with maxlen of GloVe data set\n",
    "print(Y[0])"
   ]
  },
  {
   "cell_type": "code",
   "execution_count": 47,
   "metadata": {
    "id": "gWT0YQRDZMb_"
   },
   "outputs": [],
   "source": [
    "from keras.utils import to_categorical"
   ]
  },
  {
   "cell_type": "markdown",
   "metadata": {},
   "source": [
    "The `to_categorical` function returns a matrix of binary values where each row equals the length of the input vector and the number of columns corresponds to the number of classes."
   ]
  },
  {
   "cell_type": "code",
   "execution_count": 48,
   "metadata": {
    "colab": {
     "base_uri": "https://localhost:8080/",
     "height": 899
    },
    "id": "oeK-ppFpZHzv",
    "outputId": "4d27c0c8-a0e1-4a6b-c72a-af9477a06ab7"
   },
   "outputs": [],
   "source": [
    "# The number of NER tags and 0 (padding symbol)\n",
    "Y_train_cat = to_categorical(Y, num_classes=len(ner) + 2)\n",
    "#print(Y_train_cat)"
   ]
  },
  {
   "cell_type": "code",
   "execution_count": 49,
   "metadata": {},
   "outputs": [],
   "source": [
    "# Generating the test set\n",
    "X_test_idx, word_test_idx, Y_test_idx, ner_test_idx = map_idx(vocabulary_words, ner, X_test, Y_test)\n",
    "\n",
    "# Padding the test set with maxlen of GloVe data set\n",
    "X_test_padded = pad_sequences(X_test_idx, maxlen=MAX_SEQUENCE_LEN)\n",
    "Y_test_padded = pad_sequences(Y_test_idx, maxlen=MAX_SEQUENCE_LEN)\n",
    "\n",
    "# 0 (padding), 1 (missing word)\n",
    "Y_test_cat = to_categorical(Y_test_padded, num_classes=len(ner) + 2)"
   ]
  },
  {
   "cell_type": "code",
   "execution_count": 50,
   "metadata": {},
   "outputs": [
    {
     "name": "stdout",
     "output_type": "stream",
     "text": [
      "Shape of X_test set: (3684, 150)\n"
     ]
    }
   ],
   "source": [
    "print('Shape of X_test set:', X_test_padded.shape)"
   ]
  },
  {
   "cell_type": "code",
   "execution_count": 51,
   "metadata": {},
   "outputs": [
    {
     "name": "stdout",
     "output_type": "stream",
     "text": [
      "Shape of Y_test set: (3684, 150, 10)\n"
     ]
    }
   ],
   "source": [
    "print('Shape of Y_test set:', Y_test_cat.shape)"
   ]
  },
  {
   "cell_type": "markdown",
   "metadata": {
    "id": "_IYwvnRSlpCr"
   },
   "source": [
    "_3. Do the same for the development set._"
   ]
  },
  {
   "cell_type": "code",
   "execution_count": 52,
   "metadata": {
    "id": "DQrj3JsGzo3B"
   },
   "outputs": [],
   "source": [
    "# Padding the dev set with maxlen of GloVe data set\n",
    "X_dev_padded = pad_sequences(X_dev_idx, maxlen=MAX_SEQUENCE_LEN)\n",
    "Y_dev_padded = pad_sequences(Y_dev_idx, maxlen=MAX_SEQUENCE_LEN)"
   ]
  },
  {
   "cell_type": "code",
   "execution_count": 53,
   "metadata": {
    "colab": {
     "base_uri": "https://localhost:8080/",
     "height": 269
    },
    "id": "DAvI54dg4nJw",
    "outputId": "45653bd7-0e24-4de8-9416-9dc0c1c1ba10"
   },
   "outputs": [
    {
     "name": "stdout",
     "output_type": "stream",
     "text": [
      "[  0   0   0   0   0   0   0   0   0   0   0   0   0   0   0   0   0   0\n",
      "   0   0   0   0   0   0   0   0   0   0   0   0   0   0   0   0   0   0\n",
      "   0   0   0   0   0   0   0   0   0   0   0   0   0   0   0   0   0   0\n",
      "   0   0   0   0   0   0   0   0   0   0   0   0   0   0   0   0   0   0\n",
      "   0   0   0   0   0   0   0   0   0   0   0   0   0   0   0   0   0   0\n",
      "   0   0   0   0   0   0   0   0   0   0   0   0   0   0   0   0   0   0\n",
      "   0   0   0   0   0   0   0   0   0   0   0   0   0   0   0   0   0   0\n",
      "   0   0   0   0   0   0   0   0   0   0   0   0   0   0   0   0   0   0\n",
      "   0   0   0   0   0 935]\n"
     ]
    }
   ],
   "source": [
    "# The first sentence of our dev vocabulary index, padded with maxlen of GloVe data set\n",
    "print(X_dev_padded[0])"
   ]
  },
  {
   "cell_type": "code",
   "execution_count": 54,
   "metadata": {},
   "outputs": [
    {
     "name": "stdout",
     "output_type": "stream",
     "text": [
      "[0 0 0 0 0 0 0 0 0 0 0 0 0 0 0 0 0 0 0 0 0 0 0 0 0 0 0 0 0 0 0 0 0 0 0 0 0\n",
      " 0 0 0 0 0 0 0 0 0 0 0 0 0 0 0 0 0 0 0 0 0 0 0 0 0 0 0 0 0 0 0 0 0 0 0 0 0\n",
      " 0 0 0 0 0 0 0 0 0 0 0 0 0 0 0 0 0 0 0 0 0 0 0 0 0 0 0 0 0 0 0 0 0 0 0 0 0\n",
      " 0 0 0 0 0 0 0 0 0 0 0 0 0 0 0 0 0 0 0 0 0 0 0 0 0 0 0 0 0 0 0 0 0 0 0 0 0\n",
      " 0 9]\n"
     ]
    }
   ],
   "source": [
    "# The first sequence of dev embeddings, padded with maxlen of GloVe data set\n",
    "print(Y_dev_padded[0])"
   ]
  },
  {
   "cell_type": "code",
   "execution_count": 55,
   "metadata": {
    "colab": {
     "base_uri": "https://localhost:8080/",
     "height": 899
    },
    "id": "41OsFjI04x9O",
    "outputId": "454ead18-9494-4f91-9465-6b957c550773"
   },
   "outputs": [
    {
     "name": "stdout",
     "output_type": "stream",
     "text": [
      "[[1. 0. 0. ... 0. 0. 0.]\n",
      " [1. 0. 0. ... 0. 0. 0.]\n",
      " [1. 0. 0. ... 0. 0. 0.]\n",
      " ...\n",
      " [1. 0. 0. ... 0. 0. 0.]\n",
      " [1. 0. 0. ... 0. 0. 0.]\n",
      " [0. 0. 0. ... 0. 0. 1.]]\n"
     ]
    }
   ],
   "source": [
    "# The number of NER tags (2 missing) and 0 (padding symbol) in our dev set\n",
    "Y_dev_cat = to_categorical(Y_dev_padded, num_classes=len(ner) + 2)\n",
    "print(Y_dev_cat[0])"
   ]
  },
  {
   "cell_type": "code",
   "execution_count": 56,
   "metadata": {},
   "outputs": [
    {
     "name": "stdout",
     "output_type": "stream",
     "text": [
      "Shape of X_dev set: (3466, 150)\n"
     ]
    }
   ],
   "source": [
    "print('Shape of X_dev set:', X_dev_padded.shape)"
   ]
  },
  {
   "cell_type": "code",
   "execution_count": 57,
   "metadata": {},
   "outputs": [
    {
     "name": "stdout",
     "output_type": "stream",
     "text": [
      "Shape of Y_dev set: (3466, 150, 10)\n"
     ]
    }
   ],
   "source": [
    "print('Shape of Y_dev set:', Y_dev_cat.shape)"
   ]
  },
  {
   "cell_type": "markdown",
   "metadata": {},
   "source": [
    "If you have made it this far– congratulations! We finished preparing our data. That was a lot of steps, so let's recap. We:\n",
    "1.   Collected a data set using both CoNLL2003 and GloVe embeddings data.\n",
    "2.   Constructed a vocabulary of all unique words in each.\n",
    "3.   Obtained parallely-sequenced and inverted indices.\n",
    "4.   Generated sequenced X and Y data using the keras `to_categorical()` method."
   ]
  },
  {
   "cell_type": "markdown",
   "metadata": {
    "id": "pI_ggUvyZC8u"
   },
   "source": [
    "### Building a Simple Reccurent Neural Network"
   ]
  },
  {
   "cell_type": "markdown",
   "metadata": {},
   "source": [
    "We will first be training a `keras simpleRNN` model on our data. While simple RNN models can classify the input sequence taking into account the long time dependencies, they face the problem of vanishing gradients ([Y Benigo, 1994](https://ieeexplore.ieee.org/document/279181)). To solve this problem, we will be using another RNN architecture known as the Long Short-Term Memory (LSTM). The LSTM, namely the bi-directional LSTM, is a widely-accepted architecture for performing NER. However, let's start with this simple model so we can show you some improved results in the later part of this notebook."
   ]
  },
  {
   "cell_type": "code",
   "execution_count": 58,
   "metadata": {
    "id": "kAU6yBUbSHbq"
   },
   "outputs": [],
   "source": [
    "from keras import models, layers\n",
    "from keras.preprocessing.text import Tokenizer\n",
    "from sklearn.preprocessing import StandardScaler\n",
    "from keras import utils\n",
    "from keras.layers import SimpleRNN, Dense, Embedding\n",
    "from keras.models import load_model\n",
    "import math\n",
    "import bisect\n",
    "import operator"
   ]
  },
  {
   "cell_type": "markdown",
   "metadata": {
    "id": "3ABX8guDluyG"
   },
   "source": [
    "_1. Create a simple recurrent network and train a model with the training set. As layers, you will use `Embedding`, `SimpleRNN`, and `Dense`._"
   ]
  },
  {
   "cell_type": "code",
   "execution_count": 59,
   "metadata": {
    "id": "01d4TLmI5lpV"
   },
   "outputs": [],
   "source": [
    "EMBEDDING_DIM = 100\n",
    "OPTIMIZER = 'rmsprop'\n",
    "EPOCHS = 10\n",
    "BATCH_SIZE = 128\n",
    "NB_CLASSES = len(ner)"
   ]
  },
  {
   "cell_type": "markdown",
   "metadata": {
    "id": "kaRfwPLfMs03"
   },
   "source": [
    "Relative classification accuracy is high (trainable == False)"
   ]
  },
  {
   "cell_type": "code",
   "execution_count": 60,
   "metadata": {
    "colab": {
     "base_uri": "https://localhost:8080/",
     "height": 91
    },
    "id": "x8R40xW6CDnP",
    "outputId": "fc25018a-00bc-4f68-84df-2e3d7113f4a4"
   },
   "outputs": [],
   "source": [
    "model = models.Sequential()\n",
    "model.add(layers.Embedding(len(vocabulary_words) + 2,\n",
    "                           EMBEDDING_DIM,\n",
    "                           mask_zero=True))\n",
    "model.layers[0].set_weights([embedding_matrix])\n",
    "# The default is True\n",
    "model.layers[0].trainable = True\n",
    "model.add(SimpleRNN(EMBEDDING_DIM, return_sequences=True))\n",
    "model.add(Dense(units=NB_CLASSES+2, activation='softmax'))"
   ]
  },
  {
   "cell_type": "markdown",
   "metadata": {
    "id": "_LHVXNFllvDl"
   },
   "source": [
    "_2. Compile and fit your network. You will report the training and validation losses and accuracies and comment on the possible overfit._"
   ]
  },
  {
   "cell_type": "code",
   "execution_count": 61,
   "metadata": {
    "colab": {
     "base_uri": "https://localhost:8080/",
     "height": 523
    },
    "id": "z_rEfHuaCEf4",
    "outputId": "4a8c64cd-a50f-41b9-a217-5ea90ec5bfb4"
   },
   "outputs": [
    {
     "name": "stdout",
     "output_type": "stream",
     "text": [
      "Model: \"sequential\"\n",
      "_________________________________________________________________\n",
      "Layer (type)                 Output Shape              Param #   \n",
      "=================================================================\n",
      "embedding (Embedding)        (None, None, 100)         40259700  \n",
      "_________________________________________________________________\n",
      "simple_rnn (SimpleRNN)       (None, None, 100)         20100     \n",
      "_________________________________________________________________\n",
      "dense (Dense)                (None, None, 10)          1010      \n",
      "=================================================================\n",
      "Total params: 40,280,810\n",
      "Trainable params: 40,280,810\n",
      "Non-trainable params: 0\n",
      "_________________________________________________________________\n"
     ]
    }
   ],
   "source": [
    "model.compile(loss='categorical_crossentropy',\n",
    "              optimizer='rmsprop',\n",
    "              metrics=['acc'])\n",
    "model.summary()"
   ]
  },
  {
   "cell_type": "code",
   "execution_count": 62,
   "metadata": {},
   "outputs": [
    {
     "name": "stdout",
     "output_type": "stream",
     "text": [
      "Epoch 1/10\n",
      "118/118 [==============================] - 44s 365ms/step - loss: 0.0641 - acc: 0.8083 - val_loss: 0.0221 - val_acc: 0.9357\n",
      "Epoch 2/10\n",
      "118/118 [==============================] - 43s 361ms/step - loss: 0.0169 - acc: 0.9436 - val_loss: 0.0180 - val_acc: 0.9464\n",
      "Epoch 3/10\n",
      "118/118 [==============================] - 42s 351ms/step - loss: 0.0125 - acc: 0.9574 - val_loss: 0.0174 - val_acc: 0.9455\n",
      "Epoch 4/10\n",
      "118/118 [==============================] - 40s 338ms/step - loss: 0.0105 - acc: 0.9648 - val_loss: 0.0137 - val_acc: 0.9601\n",
      "Epoch 5/10\n",
      "118/118 [==============================] - 41s 345ms/step - loss: 0.0088 - acc: 0.9695 - val_loss: 0.0142 - val_acc: 0.9567\n",
      "Epoch 6/10\n",
      "118/118 [==============================] - 44s 370ms/step - loss: 0.0077 - acc: 0.9732 - val_loss: 0.0132 - val_acc: 0.9602\n",
      "Epoch 7/10\n",
      "118/118 [==============================] - 41s 345ms/step - loss: 0.0070 - acc: 0.9761 - val_loss: 0.0136 - val_acc: 0.9571\n",
      "Epoch 8/10\n",
      "118/118 [==============================] - 41s 349ms/step - loss: 0.0064 - acc: 0.9780 - val_loss: 0.0125 - val_acc: 0.9626\n",
      "Epoch 9/10\n",
      "118/118 [==============================] - 41s 350ms/step - loss: 0.0058 - acc: 0.9793 - val_loss: 0.0123 - val_acc: 0.9650\n",
      "Epoch 10/10\n",
      "118/118 [==============================] - 42s 352ms/step - loss: 0.0053 - acc: 0.9814 - val_loss: 0.0123 - val_acc: 0.9645\n"
     ]
    }
   ],
   "source": [
    "trained = True\n",
    "if trained == False:\n",
    "    history = model.fit(X, Y_train_cat, \n",
    "                        epochs=EPOCHS, \n",
    "                        batch_size=BATCH_SIZE,\n",
    "                        validation_data=(X_dev_padded, Y_dev_cat)\n",
    "                       )"
   ]
  },
  {
   "cell_type": "code",
   "execution_count": 63,
   "metadata": {},
   "outputs": [],
   "source": [
    "if trained == False:\n",
    "    model.save_weights('model1.model')\n",
    "else:\n",
    "    model.load_weights('model1.model')"
   ]
  },
  {
   "cell_type": "markdown",
   "metadata": {},
   "source": [
    "#### Visualising the training metrics\n",
    "Now that we've trained our model, we want to visualise the model's training and validation accuracy."
   ]
  },
  {
   "cell_type": "code",
   "execution_count": 64,
   "metadata": {},
   "outputs": [],
   "source": [
    "import matplotlib.pyplot as plt"
   ]
  },
  {
   "cell_type": "code",
   "execution_count": 65,
   "metadata": {},
   "outputs": [
    {
     "data": {
      "image/png": "[encoded data removed]",
      "text/plain": [
       "<Figure size 432x288 with 1 Axes>"
      ]
     },
     "metadata": {
      "needs_background": "light"
     },
     "output_type": "display_data"
    },
    {
     "data": {
      "image/png": "[encoded data removed]",
      "text/plain": [
       "<Figure size 432x288 with 1 Axes>"
      ]
     },
     "metadata": {
      "needs_background": "light"
     },
     "output_type": "display_data"
    }
   ],
   "source": [
    "acc = history.history['acc']\n",
    "val_acc = history.history['val_acc']\n",
    "loss = history.history['loss']\n",
    "val_loss = history.history['val_loss']\n",
    "\n",
    "epochs = range(1, len(acc)+1)\n",
    "\n",
    "plt.plot(epochs, acc, 'bo', label='Training acc')\n",
    "plt.plot(epochs, val_acc, 'bo', label='Validation acc')\n",
    "plt.title('Training and validation accuracy')\n",
    "plt.legend()\n",
    "\n",
    "plt.figure()\n",
    "\n",
    "\n",
    "plt.plot(epochs, loss, 'bo', label='Training loss')\n",
    "plt.plot(epochs, val_loss, 'bo', label='Validation loss')\n",
    "plt.title('Training and validation loss')\n",
    "plt.legend()\n",
    "\n",
    "plt.show()"
   ]
  },
  {
   "cell_type": "markdown",
   "metadata": {
    "id": "6xUrL6XhmOYK"
   },
   "source": [
    "_3. Apply your network to the test set and report the accuracy you obtained. You will use the `evaluate` method._"
   ]
  },
  {
   "cell_type": "code",
   "execution_count": 66,
   "metadata": {
    "colab": {
     "base_uri": "https://localhost:8080/",
     "height": 71
    },
    "id": "DtY1DAAuGD3P",
    "outputId": "3e354e68-f53b-4210-c589-378083631fc5"
   },
   "outputs": [
    {
     "name": "stdout",
     "output_type": "stream",
     "text": [
      "116/116 [==============================] - 2s 20ms/step - loss: 0.0145 - acc: 0.9503\n",
      "Test loss: 0.014512376859784126\n",
      "Test accuracy: 0.950285017490387\n"
     ]
    }
   ],
   "source": [
    "# Evaluates with the padding symbol\n",
    "test_loss, test_acc = model.evaluate(X_test_padded, Y_test_cat)\n",
    "print('Test loss:', test_loss)\n",
    "print('Test accuracy:', test_acc)"
   ]
  },
  {
   "cell_type": "markdown",
   "metadata": {
    "id": "KIEJo3l-Is5I"
   },
   "source": [
    "#### Evaluating your System"
   ]
  },
  {
   "cell_type": "markdown",
   "metadata": {
    "id": "5tfrASrcIz0U"
   },
   "source": [
    "_1. Use the predict method to predict the tags of the whole test set._"
   ]
  },
  {
   "cell_type": "code",
   "execution_count": 67,
   "metadata": {
    "colab": {
     "base_uri": "https://localhost:8080/",
     "height": 539
    },
    "id": "lRkQyIy0GIx1",
    "outputId": "ed1e1751-6476-4a2e-a6ee-b5d3129fd6aa"
   },
   "outputs": [],
   "source": [
    "# Evaluating on all the test corpus\n",
    "y_pred = model.predict(X_test_padded)\n",
    "y_preds = np.argmax(y_pred, axis=2)"
   ]
  },
  {
   "cell_type": "code",
   "execution_count": 68,
   "metadata": {},
   "outputs": [],
   "source": [
    "# Remove padding\n",
    "Y_test_ = [y[y != 0.] for y in np.argmax(Y_test_cat, axis = 2)]\n",
    "Y_pred_ = [y_hat[y != 0.] for y, y_hat in zip(np.argmax(Y_test_cat, axis = 2), y_preds)]"
   ]
  },
  {
   "cell_type": "code",
   "execution_count": 69,
   "metadata": {},
   "outputs": [
    {
     "name": "stdout",
     "output_type": "stream",
     "text": [
      "Predicted: [9 9 5 9 9 9 9 5 9 9 9 9]\n",
      "Actual   : [9 9 5 9 9 9 9 8 9 9 9 9]\n"
     ]
    }
   ],
   "source": [
    "# Compare first predicted sentence tags to actual\n",
    "print(\"Predicted:\", Y_pred_[1])\n",
    "print(\"Actual   :\", Y_test_[1])"
   ]
  },
  {
   "cell_type": "markdown",
   "metadata": {
    "id": "p7z3ruh0I5Dp"
   },
   "source": [
    "_2. Write your results in a file, where the two last columns will be the hand-annotated tag and the predicted tag. The fields must be separated by a space and each line must end with a new line: `\\n`._\n",
    "\n",
    "Written by Jonas Lundgren, link [here](https://github.com/LurreMcFly/edan95/blob/master/Lab4/lab4.ipynb)."
   ]
  },
  {
   "cell_type": "code",
   "execution_count": 70,
   "metadata": {},
   "outputs": [],
   "source": [
    "def save(file, corpus_dict, ner, y, y_pred):\n",
    "    \n",
    "    with open(file, 'w', encoding='utf8') as f_out:\n",
    "        for i, sentence in enumerate(corpus_dict):\n",
    "            sentence_lst = []\n",
    "            for j, row in enumerate(sentence):\n",
    "                items = str(row.get('form')) + ' ' + str(ner[y[i][j]- 2]) + ' ' + str(ner[y_pred[i][j] - 2])\n",
    "                sentence_lst += items + '\\n'\n",
    "            sentence_lst += '\\n'\n",
    "            f_out.write(''.join(sentence_lst))"
   ]
  },
  {
   "cell_type": "code",
   "execution_count": 71,
   "metadata": {},
   "outputs": [],
   "source": [
    "# Writing results to file\n",
    "save(\"output1.txt\", test_dict, ner, Y_test_, Y_pred_)"
   ]
  },
  {
   "cell_type": "markdown",
   "metadata": {},
   "source": [
    "##### 3. Apply conlleval to your output. Report the F1 result."
   ]
  },
  {
   "cell_type": "code",
   "execution_count": 72,
   "metadata": {},
   "outputs": [
    {
     "name": "stdout",
     "output_type": "stream",
     "text": [
      "F1 score: 0.7279680166869459\n"
     ]
    }
   ],
   "source": [
    "lines = open(\"output1.txt\", encoding='utf8').read().splitlines()\n",
    "res = conlleval.evaluate(lines)\n",
    "improved_score = res['overall']['chunks']['evals']['f1']\n",
    "print(\"F1 score:\", improved_score)"
   ]
  },
  {
   "cell_type": "markdown",
   "metadata": {
    "id": "BOLHN4T5KOPw"
   },
   "source": [
    "#### Building a LSTM Network\n",
    "While the above model produces pretty good results, we want to consider using a Long Short-Term Memory (LSTM) model to address the problem of vanishing gradients. The type of LSTM we will be using is called a `Bidirectional` layer because information from its inputs will be preserved from both directions, _past to future_ and _future to past_. The use of the two hidden states combined results in better performance by allowing the model to learn both past and future contexts of a word.\n",
    "\n"
   ]
  },
  {
   "cell_type": "markdown",
   "metadata": {
    "id": "Bkq1GuWpKSh5"
   },
   "source": [
    "_1. Create a simple LSTM network and train a model with the train set. As layers, you will use `Embedding`, `LSTM`, and `Dense`._"
   ]
  },
  {
   "cell_type": "code",
   "execution_count": 73,
   "metadata": {
    "id": "XUjhQxmEMcrq"
   },
   "outputs": [],
   "source": [
    "from keras.layers import LSTM, Bidirectional"
   ]
  },
  {
   "cell_type": "code",
   "execution_count": 74,
   "metadata": {
    "id": "Il3Q02rlKRH7"
   },
   "outputs": [
    {
     "name": "stdout",
     "output_type": "stream",
     "text": [
      "Model: \"sequential_1\"\n",
      "_________________________________________________________________\n",
      "Layer (type)                 Output Shape              Param #   \n",
      "=================================================================\n",
      "embedding_1 (Embedding)      (None, 150, 100)          40259700  \n",
      "_________________________________________________________________\n",
      "bidirectional (Bidirectional (None, 150, 200)          160800    \n",
      "_________________________________________________________________\n",
      "dense_1 (Dense)              (None, 150, 10)           2010      \n",
      "=================================================================\n",
      "Total params: 40,422,510\n",
      "Trainable params: 40,422,510\n",
      "Non-trainable params: 0\n",
      "_________________________________________________________________\n"
     ]
    }
   ],
   "source": [
    "model2 = models.Sequential()\n",
    "model2.add(layers.Embedding(len(vocabulary_words) + 2,\n",
    "                           EMBEDDING_DIM,\n",
    "                           mask_zero=True,\n",
    "                           input_length=MAX_SEQUENCE_LEN))\n",
    "# model.add(SimpleRNN(100, return_sequences=True))\n",
    "# model.add(Bidirectional(SimpleRNN(100, return_sequences=True)))\n",
    "model2.add(Bidirectional(LSTM(EMBEDDING_DIM, return_sequences=True)))\n",
    "model2.add(Dense(units=NB_CLASSES+2, activation='softmax'))\n",
    "\n",
    "model2.layers[0].set_weights([embedding_matrix])\n",
    "# The default is True\n",
    "model2.layers[0].trainable = True\n",
    "model2.summary()"
   ]
  },
  {
   "cell_type": "markdown",
   "metadata": {},
   "source": [
    "_2. Compile and fit your network. You will report the training and validation losses and accuracies and comment on the possible overfit._"
   ]
  },
  {
   "cell_type": "code",
   "execution_count": 75,
   "metadata": {
    "colab": {
     "base_uri": "https://localhost:8080/",
     "height": 379
    },
    "id": "hx84j_CKKraL",
    "outputId": "236ce65f-9f1b-464d-aff8-bad5e8dc659f"
   },
   "outputs": [],
   "source": [
    "model2.compile(loss='categorical_crossentropy',\n",
    "              optimizer='rmsprop',\n",
    "              metrics=['acc'])"
   ]
  },
  {
   "cell_type": "code",
   "execution_count": 76,
   "metadata": {},
   "outputs": [
    {
     "name": "stdout",
     "output_type": "stream",
     "text": [
      "Epoch 1/10\n",
      "118/118 [==============================] - 107s 836ms/step - loss: 0.0555 - acc: 0.8288 - val_loss: 0.0204 - val_acc: 0.9388\n",
      "Epoch 2/10\n",
      "118/118 [==============================] - 101s 854ms/step - loss: 0.0155 - acc: 0.9504 - val_loss: 0.0134 - val_acc: 0.9608\n",
      "Epoch 3/10\n",
      "118/118 [==============================] - 112s 951ms/step - loss: 0.0102 - acc: 0.9658 - val_loss: 0.0123 - val_acc: 0.9629\n",
      "Epoch 4/10\n",
      "118/118 [==============================] - 141s 1s/step - loss: 0.0083 - acc: 0.9723 - val_loss: 0.0106 - val_acc: 0.9675\n",
      "Epoch 5/10\n",
      "118/118 [==============================] - 141s 1s/step - loss: 0.0066 - acc: 0.9782 - val_loss: 0.0109 - val_acc: 0.9675\n",
      "Epoch 6/10\n",
      "118/118 [==============================] - 132s 1s/step - loss: 0.0056 - acc: 0.9820 - val_loss: 0.0100 - val_acc: 0.9712\n",
      "Epoch 7/10\n",
      "118/118 [==============================] - 138s 1s/step - loss: 0.0043 - acc: 0.9855 - val_loss: 0.0097 - val_acc: 0.9708\n",
      "Epoch 8/10\n",
      "118/118 [==============================] - 125s 1s/step - loss: 0.0039 - acc: 0.9869 - val_loss: 0.0089 - val_acc: 0.9750\n",
      "Epoch 9/10\n",
      "118/118 [==============================] - 124s 1s/step - loss: 0.0031 - acc: 0.9895 - val_loss: 0.0089 - val_acc: 0.9729\n",
      "Epoch 10/10\n",
      "118/118 [==============================] - 134s 1s/step - loss: 0.0026 - acc: 0.9920 - val_loss: 0.0099 - val_acc: 0.9740\n"
     ]
    }
   ],
   "source": [
    "trained = False\n",
    "if trained == False:\n",
    "    history = model2.fit(X, Y_train_cat, \n",
    "                         epochs=EPOCHS, \n",
    "                         batch_size=BATCH_SIZE,\n",
    "                         validation_data=(X_dev_padded, Y_dev_cat))"
   ]
  },
  {
   "cell_type": "markdown",
   "metadata": {},
   "source": [
    "##### Saving model weights"
   ]
  },
  {
   "cell_type": "code",
   "execution_count": 77,
   "metadata": {},
   "outputs": [],
   "source": [
    "if trained == False:\n",
    "    model2.save_weights('model2.model')\n",
    "else:\n",
    "    model2.load_weights('model2.model')"
   ]
  },
  {
   "cell_type": "markdown",
   "metadata": {},
   "source": [
    "##### Visualising the training metrics\n",
    "Now that we've trained our model, we want to visualise the model's training and validation accuracy."
   ]
  },
  {
   "cell_type": "code",
   "execution_count": 78,
   "metadata": {},
   "outputs": [
    {
     "data": {
      "image/png": "[encoded data removed]",
      "text/plain": [
       "<Figure size 432x288 with 1 Axes>"
      ]
     },
     "metadata": {
      "needs_background": "light"
     },
     "output_type": "display_data"
    },
    {
     "data": {
      "image/png": "[encoded data removed]",
      "text/plain": [
       "<Figure size 432x288 with 1 Axes>"
      ]
     },
     "metadata": {
      "needs_background": "light"
     },
     "output_type": "display_data"
    }
   ],
   "source": [
    "acc = history.history['acc']\n",
    "val_acc = history.history['val_acc']\n",
    "loss = history.history['loss']\n",
    "val_loss = history.history['val_loss']\n",
    "\n",
    "epochs = range(1, len(acc)+1)\n",
    "\n",
    "plt.plot(epochs, acc, 'bo', label='Training acc')\n",
    "plt.plot(epochs, val_acc, 'bo', label='Validation acc')\n",
    "plt.title('Training and validation accuracy')\n",
    "plt.legend()\n",
    "\n",
    "plt.figure()\n",
    "\n",
    "\n",
    "plt.plot(epochs, loss, 'bo', label='Training loss')\n",
    "plt.plot(epochs, val_loss, 'bo', label='Validation loss')\n",
    "plt.title('Training and validation loss')\n",
    "plt.legend()\n",
    "\n",
    "plt.show()"
   ]
  },
  {
   "cell_type": "markdown",
   "metadata": {},
   "source": [
    "_3. Apply your network to the test set and report the accuracy you obtained. You will use the `evaluate` method._"
   ]
  },
  {
   "cell_type": "code",
   "execution_count": 79,
   "metadata": {
    "colab": {
     "base_uri": "https://localhost:8080/",
     "height": 71
    },
    "id": "4BRjVROWLIsG",
    "outputId": "3e968b36-db34-41b5-994d-828a7bc24e96"
   },
   "outputs": [
    {
     "name": "stdout",
     "output_type": "stream",
     "text": [
      "116/116 [==============================] - 9s 78ms/step - loss: 0.0128 - acc: 0.9614\n",
      "Test loss: 0.012847092002630234\n",
      "Test accuracy: 0.9614280462265015\n"
     ]
    }
   ],
   "source": [
    "# Evaluates with the padding symbol\n",
    "test_loss, test_acc = model2.evaluate(X_test_padded, Y_test_cat)\n",
    "print('Test loss:', test_loss)\n",
    "print('Test accuracy:', test_acc)"
   ]
  },
  {
   "cell_type": "markdown",
   "metadata": {
    "id": "Q-q-YZMRwdKM"
   },
   "source": [
    "#### Evaluating your System"
   ]
  },
  {
   "cell_type": "markdown",
   "metadata": {
    "id": "W_UPdosAw6bT"
   },
   "source": [
    "_1. Use the predict method to predict the tags of the whole test set._"
   ]
  },
  {
   "cell_type": "code",
   "execution_count": 80,
   "metadata": {
    "colab": {
     "base_uri": "https://localhost:8080/",
     "height": 539
    },
    "id": "ZJFqtjdOLtB3",
    "outputId": "5ef3667c-8cda-4e1f-ec97-d553f175470e"
   },
   "outputs": [],
   "source": [
    "y_pred = model2.predict(X_test_padded)\n",
    "y_preds = np.argmax(y_pred, axis=2)"
   ]
  },
  {
   "cell_type": "code",
   "execution_count": 81,
   "metadata": {},
   "outputs": [],
   "source": [
    "# Remove padding\n",
    "Y_test_ = [y[y != 0.] for y in np.argmax(Y_test_cat, axis = 2)]\n",
    "Y_pred_ = [y_hat[y != 0.] for y, y_hat in zip(np.argmax(Y_test_cat, axis = 2), y_preds)]"
   ]
  },
  {
   "cell_type": "code",
   "execution_count": 82,
   "metadata": {},
   "outputs": [
    {
     "name": "stdout",
     "output_type": "stream",
     "text": [
      "Predicted: [9 9 5 9 9 9 9 5 9 9 9 9]\n",
      "Actual   : [9 9 5 9 9 9 9 8 9 9 9 9]\n"
     ]
    }
   ],
   "source": [
    "# Compare first predicted sentence tags to actual\n",
    "print(\"Predicted:\", Y_pred_[1])\n",
    "print(\"Actual   :\", Y_test_[1])"
   ]
  },
  {
   "cell_type": "markdown",
   "metadata": {},
   "source": [
    "_2. Write your results in a file, where the two last columns will be the hand-annotated tag and the predicted tag. The fields must be separated by a space and each line must end with a new line: `\\n`._"
   ]
  },
  {
   "cell_type": "code",
   "execution_count": 83,
   "metadata": {},
   "outputs": [],
   "source": [
    "# Writing results to file\n",
    "save(\"output2.txt\", test_dict, ner, Y_test_, Y_pred_)"
   ]
  },
  {
   "cell_type": "markdown",
   "metadata": {},
   "source": [
    "_3. Apply conlleval to your output. Report the F1 result._"
   ]
  },
  {
   "cell_type": "code",
   "execution_count": 84,
   "metadata": {},
   "outputs": [
    {
     "name": "stdout",
     "output_type": "stream",
     "text": [
      "F1 score: 0.8097796883396023\n"
     ]
    }
   ],
   "source": [
    "lines = open(\"output2.txt\", encoding='utf8').read().splitlines()\n",
    "res = conlleval.evaluate(lines)\n",
    "improved_score = res['overall']['chunks']['evals']['f1']\n",
    "print(\"F1 score:\", improved_score)"
   ]
  },
  {
   "cell_type": "markdown",
   "metadata": {},
   "source": [
    "So we were able to impove the test accuracy of our initial model 8.2% by adding a Bidirectional LSTM layer. No complaints there. But what if I told you we could go further with our improvisation? That's what we'll try to accomplish with our third and final model."
   ]
  },
  {
   "cell_type": "markdown",
   "metadata": {},
   "source": [
    "### Improving the Bidirectional LSTM\n",
    "We've seen that making some minor adjustments to the way we define our model's architecture can have a pretty significant impact on test performance. To recap, we changed our `simpleRNN` layer to a `Bidirectional LSTM` layer, and, in line with _Y Benigo's_ research paper, we found that to be an overall improvement in accuracy on test set evaluation. Now, there's a few other parameters in this model that we can fine-tune for better performance."
   ]
  },
  {
   "cell_type": "markdown",
   "metadata": {},
   "source": [
    "##### Adding layers"
   ]
  },
  {
   "cell_type": "markdown",
   "metadata": {},
   "source": [
    "Let's start with the first optimisation–changing our model architecture. Assume that we have an ideal configuration in mind. That is to say, we can expect great results by doing the following:\n",
    "*   Adding an additional `Bidirectional LSTM` layer\n",
    "*   Adding `Dropout` layers between our `Bidirectional LSTM` and `Dense` layers.\n",
    "*   Adding a `Dense` layer with the `relu` activation function\n",
    "If you want an explanation as to why the above layers improve our word embedding model performance, there's a short lecture from DeepLearning.AI's Natural Language Processing with Sequence Models course covering the use of `Dense` and `ReLu` layers [here](https://www.coursera.org/lecture/sequence-models-in-nlp/dense-and-relu-layers-AGDYm?utm_source=link&utm_medium=page_share&utm_content=vlp&utm_campaign=top_button)."
   ]
  },
  {
   "cell_type": "markdown",
   "metadata": {},
   "source": [
    "_1. Create a LSTM network and train a model with the train set. As layers, you will use `Embedding`, `Bidirectional LSTM`, `Dropout` and `Dense`._"
   ]
  },
  {
   "cell_type": "code",
   "execution_count": 92,
   "metadata": {},
   "outputs": [],
   "source": [
    "from keras.layers import Dropout"
   ]
  },
  {
   "cell_type": "code",
   "execution_count": 93,
   "metadata": {},
   "outputs": [
    {
     "name": "stdout",
     "output_type": "stream",
     "text": [
      "Model: \"sequential_2\"\n",
      "_________________________________________________________________\n",
      "Layer (type)                 Output Shape              Param #   \n",
      "=================================================================\n",
      "embedding_2 (Embedding)      (None, 150, 100)          40259700  \n",
      "_________________________________________________________________\n",
      "bidirectional_1 (Bidirection (None, 150, 200)          160800    \n",
      "_________________________________________________________________\n",
      "dropout (Dropout)            (None, 150, 200)          0         \n",
      "_________________________________________________________________\n",
      "bidirectional_2 (Bidirection (None, 150, 200)          240800    \n",
      "_________________________________________________________________\n",
      "dropout_1 (Dropout)          (None, 150, 200)          0         \n",
      "_________________________________________________________________\n",
      "dense_2 (Dense)              (None, 150, 512)          102912    \n",
      "_________________________________________________________________\n",
      "dropout_2 (Dropout)          (None, 150, 512)          0         \n",
      "_________________________________________________________________\n",
      "dense_3 (Dense)              (None, 150, 10)           5130      \n",
      "=================================================================\n",
      "Total params: 40,769,342\n",
      "Trainable params: 40,769,342\n",
      "Non-trainable params: 0\n",
      "_________________________________________________________________\n"
     ]
    }
   ],
   "source": [
    "model3 = models.Sequential()\n",
    "model3.add(layers.Embedding(len(vocabulary_words) + 2,\n",
    "                           EMBEDDING_DIM,\n",
    "                           mask_zero=True,\n",
    "                           input_length=MAX_SEQUENCE_LEN))\n",
    "model3.add(Bidirectional(LSTM(EMBEDDING_DIM, return_sequences=True)))\n",
    "model3.add(Dropout(0.05))\n",
    "model3.add(Bidirectional(LSTM(EMBEDDING_DIM, return_sequences=True)))\n",
    "model3.add(Dropout(0.05))\n",
    "model3.add(Dense(512, activation = 'relu'))\n",
    "model3.add(Dropout(0.5))\n",
    "model3.add(Dense(units=NB_CLASSES+2, activation='softmax'))\n",
    "\n",
    "model3.layers[0].set_weights([embedding_matrix])\n",
    "\n",
    "model3.summary()"
   ]
  },
  {
   "cell_type": "markdown",
   "metadata": {},
   "source": [
    "_2. Compile and fit your network. You will report the training and validation losses and accuracies and comment on the possible overfit._"
   ]
  },
  {
   "cell_type": "code",
   "execution_count": 94,
   "metadata": {},
   "outputs": [],
   "source": [
    "model3.compile(optimizer='rmsprop',\n",
    "              loss='categorical_crossentropy',\n",
    "              metrics=['acc'])"
   ]
  },
  {
   "cell_type": "code",
   "execution_count": 95,
   "metadata": {},
   "outputs": [
    {
     "name": "stdout",
     "output_type": "stream",
     "text": [
      "Epoch 1/10\n",
      "118/118 [==============================] - 390s 3s/step - loss: 0.0614 - acc: 0.8150 - val_loss: 0.0202 - val_acc: 0.9415\n",
      "Epoch 2/10\n",
      "118/118 [==============================] - 315s 3s/step - loss: 0.0154 - acc: 0.9478 - val_loss: 0.0151 - val_acc: 0.9547\n",
      "Epoch 3/10\n",
      "118/118 [==============================] - 258s 2s/step - loss: 0.0099 - acc: 0.9658 - val_loss: 0.0138 - val_acc: 0.9582\n",
      "Epoch 4/10\n",
      "118/118 [==============================] - 225s 2s/step - loss: 0.0075 - acc: 0.9742 - val_loss: 0.0088 - val_acc: 0.9735\n",
      "Epoch 5/10\n",
      "118/118 [==============================] - 203s 2s/step - loss: 0.0055 - acc: 0.9806 - val_loss: 0.0091 - val_acc: 0.9721\n",
      "Epoch 6/10\n",
      "118/118 [==============================] - 199s 2s/step - loss: 0.0046 - acc: 0.9841 - val_loss: 0.0086 - val_acc: 0.9753\n",
      "Epoch 7/10\n",
      "118/118 [==============================] - 286s 2s/step - loss: 0.0036 - acc: 0.9870 - val_loss: 0.0101 - val_acc: 0.9757\n",
      "Epoch 8/10\n",
      "118/118 [==============================] - 212s 2s/step - loss: 0.0029 - acc: 0.9897 - val_loss: 0.0094 - val_acc: 0.9725\n",
      "Epoch 9/10\n",
      "118/118 [==============================] - 216s 2s/step - loss: 0.0021 - acc: 0.9927 - val_loss: 0.0104 - val_acc: 0.9775\n",
      "Epoch 10/10\n",
      "118/118 [==============================] - 236s 2s/step - loss: 0.0017 - acc: 0.9941 - val_loss: 0.0102 - val_acc: 0.9780\n"
     ]
    }
   ],
   "source": [
    "trained = False\n",
    "if trained == False:\n",
    "    history = model3.fit(X, Y_train_cat, \n",
    "                         epochs=EPOCHS, \n",
    "                         batch_size=BATCH_SIZE,\n",
    "                         validation_data=(X_dev_padded, Y_dev_cat))"
   ]
  },
  {
   "cell_type": "markdown",
   "metadata": {},
   "source": [
    "_3. Apply your network to the test set and report the accuracy you obtained. You will use the `evaluate` method._"
   ]
  },
  {
   "cell_type": "code",
   "execution_count": 96,
   "metadata": {},
   "outputs": [
    {
     "name": "stdout",
     "output_type": "stream",
     "text": [
      "116/116 [==============================] - 13s 116ms/step - loss: 0.0146 - acc: 0.9655\n",
      "Test loss: 0.014625404961407185\n",
      "Test accuracy: 0.9654780626296997\n"
     ]
    }
   ],
   "source": [
    "# Evaluates with the padding symbol\n",
    "test_loss, test_acc = model3.evaluate(X_test_padded, Y_test_cat)\n",
    "print('Test loss:', test_loss)\n",
    "print('Test accuracy:', test_acc)"
   ]
  },
  {
   "cell_type": "markdown",
   "metadata": {},
   "source": [
    "#### Evaluating your System\n",
    "_1. Use the predict method to predict the tags of the whole test set._"
   ]
  },
  {
   "cell_type": "code",
   "execution_count": 97,
   "metadata": {},
   "outputs": [],
   "source": [
    "y_pred = model3.predict(X_test_padded)\n",
    "y_preds = np.argmax(y_pred, axis=2)"
   ]
  },
  {
   "cell_type": "code",
   "execution_count": 98,
   "metadata": {},
   "outputs": [],
   "source": [
    "# Remove padding\n",
    "Y_test_ = [y[y != 0.] for y in np.argmax(Y_test_cat, axis = 2)]\n",
    "Y_pred_ = [y_hat[y != 0.] for y, y_hat in zip(np.argmax(Y_test_cat, axis = 2), y_preds)]"
   ]
  },
  {
   "cell_type": "code",
   "execution_count": 99,
   "metadata": {},
   "outputs": [
    {
     "name": "stdout",
     "output_type": "stream",
     "text": [
      "Predicted: [9 9 5 9 9 9 9 5 9 9 9 9]\n",
      "Actual   : [9 9 5 9 9 9 9 8 9 9 9 9]\n"
     ]
    }
   ],
   "source": [
    "# Compare first predicted sentence tags to actual\n",
    "print(\"Predicted:\", Y_pred_[1])\n",
    "print(\"Actual   :\", Y_test_[1])"
   ]
  },
  {
   "cell_type": "markdown",
   "metadata": {},
   "source": [
    "_2. Write your results in a file, where the two last columns will be the hand-annotated tag and the predicted tag. The fields must be separated by a space and each line must end with a new line: `\\n`._"
   ]
  },
  {
   "cell_type": "code",
   "execution_count": 100,
   "metadata": {},
   "outputs": [],
   "source": [
    "# Writing results to file\n",
    "save(\"output3.txt\", test_dict, ner, Y_test_, Y_pred_)"
   ]
  },
  {
   "cell_type": "markdown",
   "metadata": {},
   "source": [
    "_3. Apply `conlleval` to your output. Report the F1 result._"
   ]
  },
  {
   "cell_type": "code",
   "execution_count": 101,
   "metadata": {},
   "outputs": [
    {
     "name": "stdout",
     "output_type": "stream",
     "text": [
      "F1 score: 0.8290402258292167\n"
     ]
    }
   ],
   "source": [
    "lines = open(\"output3.txt\", encoding='utf8').read().splitlines()\n",
    "res = conlleval.evaluate(lines)\n",
    "improved_score = res['overall']['chunks']['evals']['f1']\n",
    "print(\"F1 score:\", improved_score)"
   ]
  },
  {
   "cell_type": "markdown",
   "metadata": {},
   "source": [
    "##### Saving model weights"
   ]
  },
  {
   "cell_type": "code",
   "execution_count": 102,
   "metadata": {},
   "outputs": [],
   "source": [
    "if trained == False:\n",
    "    model3.save_weights('model3.model')\n",
    "else:\n",
    "    model3.load_weights('model3.model')"
   ]
  },
  {
   "cell_type": "markdown",
   "metadata": {},
   "source": [
    "Viola! We were able to successfully improve the resulting F1 score by ~1.9% by adding a few extra layers to our model, namely `Dropout` and `ReLu` layers. In conclusion, we were able to achieve an F1 score of `0.829` on the CoNLL2003 shared task with our final model. While this isn't exactly state-of-the-art (benchmarks [here](https://paperswithcode.com/sota/named-entity-recognition-ner-on-conll-2003?tag_filter=4)), we demonstrated that a few changes to our model could increase performance from 0.72 to 0.82. Not bad!"
   ]
  },
  {
   "cell_type": "markdown",
   "metadata": {},
   "source": [
    "#### Other considerations\n",
    "In case you're still curious, a few more improvements can be made to our LSTM network. While we will leave the training and testing to you, below are some additional considerations you may want to explore."
   ]
  },
  {
   "cell_type": "markdown",
   "metadata": {},
   "source": [
    "##### Improving class imbalance\n",
    "The first step we'll take to improve the results of our model is to mitigate the class imbalance. _Class imbalance_ in this case is when one of the target classes has a very high occurence compared to the other classes present. Let's visualise our targets and see where the imbalance is. To do this, we'll use the `numpy.bincount` function which counts the number of occurences of each value in our targets array. In our data, we have 10 classes (8 ner tags + 2 padding symbols)."
   ]
  },
  {
   "cell_type": "code",
   "execution_count": 85,
   "metadata": {},
   "outputs": [],
   "source": [
    "bins = NB_CLASSES + 2"
   ]
  },
  {
   "cell_type": "code",
   "execution_count": 86,
   "metadata": {},
   "outputs": [],
   "source": [
    "target_counts = np.zeros(bins)\n",
    "for y in Y:\n",
    "    target_counts += np.bincount(y, minlength=bins)"
   ]
  },
  {
   "cell_type": "code",
   "execution_count": 87,
   "metadata": {},
   "outputs": [
    {
     "data": {
      "text/plain": [
       "array([2.043483e+06, 0.000000e+00, 1.100000e+01, 3.700000e+01,\n",
       "       2.400000e+01, 8.286000e+03, 4.556000e+03, 1.000100e+04,\n",
       "       1.112800e+04, 1.705240e+05])"
      ]
     },
     "execution_count": 87,
     "metadata": {},
     "output_type": "execute_result"
    }
   ],
   "source": [
    "target_counts"
   ]
  },
  {
   "cell_type": "code",
   "execution_count": 88,
   "metadata": {},
   "outputs": [
    {
     "data": {
      "image/png": "[encoded data removed]",
      "text/plain": [
       "<Figure size 432x288 with 1 Axes>"
      ]
     },
     "metadata": {
      "needs_background": "light"
     },
     "output_type": "display_data"
    }
   ],
   "source": [
    "# Plot distribution of classes\n",
    "plt.bar(x=range(len(target_counts)), height=target_counts);\n",
    "plt.xticks(ticks=range(len(target_counts)), labels= [0,1] + ner);"
   ]
  },
  {
   "cell_type": "markdown",
   "metadata": {},
   "source": [
    "From the bar chart, it's clear that there's a significant skew. This is a problem as most machine learning algorithms assume that the data is evenly distributed within the classes. As a result, our model becomes more biased towards predicting the majority class, $O$. There's significantly less data for the model to learn the patterns of the minority classes (the remaining ner tags).\n",
    "\n",
    "\n",
    "In order to correct for this class imbalance, we can assign different weights to the majority and minority classes. To help us estimate class weights for our unbalanced dataset, we'll use a `sklearn.utils.class_weight` library function."
   ]
  },
  {
   "cell_type": "code",
   "execution_count": 89,
   "metadata": {},
   "outputs": [],
   "source": [
    "from sklearn import utils"
   ]
  },
  {
   "cell_type": "code",
   "execution_count": 90,
   "metadata": {},
   "outputs": [],
   "source": [
    "weights = utils.class_weight.compute_class_weight(class_weight='balanced', classes=np.unique(Y.flatten()), y=Y.flatten())"
   ]
  },
  {
   "cell_type": "code",
   "execution_count": 91,
   "metadata": {},
   "outputs": [],
   "source": [
    "# Keras requires a dict for class_weight\n",
    "class_weight = {i : weights[i] for i in range(9)}"
   ]
  },
  {
   "cell_type": "markdown",
   "metadata": {},
   "source": [
    "By specifying `class_weight='balanced'`, the class weights will be calculated with the formula:\n",
    "```\n",
    "n_samples / (n_classes * np.bincount(y))\n",
    "```"
   ]
  },
  {
   "cell_type": "markdown",
   "metadata": {},
   "source": [
    "**UPDATE**: `class_weight` not supported for 3+ dimensional targets (see error in `fit()` below). We'll skip this optimisation for now."
   ]
  },
  {
   "cell_type": "markdown",
   "metadata": {},
   "source": [
    "##### Re-training with further improvements"
   ]
  },
  {
   "cell_type": "markdown",
   "metadata": {},
   "source": [
    "We can try to improve our model's F1 score by making a few more adjustments. The previously-trained model weights can be loaded so that we only need to retrain for a few epochs."
   ]
  },
  {
   "cell_type": "code",
   "execution_count": 103,
   "metadata": {},
   "outputs": [],
   "source": [
    "# Loading our trained model\n",
    "trained = True\n",
    "if trained == False:\n",
    "    model3.save_weights('model3.model')\n",
    "else:\n",
    "    model3.load_weights('model3.model')"
   ]
  },
  {
   "cell_type": "markdown",
   "metadata": {},
   "source": [
    "##### Freezing weights"
   ]
  },
  {
   "cell_type": "markdown",
   "metadata": {},
   "source": [
    "One strategy we have is to freeze the `Embedding` layer. If you were paying real close attention to the previous models, you might have noticed that we set this parameter to `True`. We can change this parameter to `False` to avoid updating the already learned weights during our re-training process. The randomly initialised layers in our model trigger a large gradient update during the training process which could interfere with the pre-trained `GloVe` embeddings."
   ]
  },
  {
   "cell_type": "code",
   "execution_count": 104,
   "metadata": {},
   "outputs": [],
   "source": [
    "model3.layers[0].trainable = False"
   ]
  },
  {
   "cell_type": "markdown",
   "metadata": {},
   "source": [
    "##### Changing the optimiser"
   ]
  },
  {
   "cell_type": "markdown",
   "metadata": {},
   "source": [
    "An additional step in our hyper-parameter tuning is to look at the `optimizer`. To save you some extra time, we will recommend which of the `keras.optimizers` we would go with and why. In [this](https://deepdatascience.wordpress.com/2016/11/18/which-lstm-optimizer-to-use/) comparison of frequently used optimisers, author Bikal Basnet found that the `nadam` optimiser had outperformed our previous optimiser, the `RMSprop`, in LSTM networks. Also, [this](https://ruder.io/optimizing-gradient-descent/index.html) great article by Sebastian Ruder has an animated visualisation of the optimisers on the loss surface as well as a detailed explanation of the `nadam` optimiser and the difference between it and `RMSprop`. We will specify a learning rate for our new optimiser, choosing value `0.001`. Feel free to play around with this hyperparameter and see if you achieve better results."
   ]
  },
  {
   "cell_type": "code",
   "execution_count": 105,
   "metadata": {},
   "outputs": [],
   "source": [
    "from keras import optimizers"
   ]
  },
  {
   "cell_type": "code",
   "execution_count": 106,
   "metadata": {},
   "outputs": [],
   "source": [
    "model3.compile(optimizer=optimizers.Nadam(learning_rate=0.001),\n",
    "              loss='categorical_crossentropy',\n",
    "              metrics=['acc'])"
   ]
  },
  {
   "cell_type": "code",
   "execution_count": 107,
   "metadata": {},
   "outputs": [
    {
     "name": "stdout",
     "output_type": "stream",
     "text": [
      "ValueError: `class_weight` not supported for 3+ dimensional targets.\n"
     ]
    }
   ],
   "source": [
    "# Using class_weight\n",
    "try:\n",
    "    re_trained = False\n",
    "    if re_trained == False:\n",
    "        history = model3.fit(X, Y_train_cat, \n",
    "                             epochs=6, \n",
    "                             batch_size=BATCH_SIZE,\n",
    "                             class_weight=class_weight,\n",
    "                             validation_data=(X_dev_padded, Y_dev_cat))\n",
    "    assert False\n",
    "except Exception as e:\n",
    "    print(f\"{type(e).__name__}: {e}\")"
   ]
  },
  {
   "cell_type": "code",
   "execution_count": 108,
   "metadata": {},
   "outputs": [
    {
     "name": "stdout",
     "output_type": "stream",
     "text": [
      "Epoch 1/10\n",
      "118/118 [==============================] - 206s 2s/step - loss: 0.0010 - acc: 0.9963 - val_loss: 0.0112 - val_acc: 0.9771\n",
      "Epoch 2/10\n",
      "118/118 [==============================] - 179s 2s/step - loss: 8.0336e-04 - acc: 0.9971 - val_loss: 0.0126 - val_acc: 0.9777\n",
      "Epoch 3/10\n",
      "118/118 [==============================] - 181s 2s/step - loss: 5.9775e-04 - acc: 0.9980 - val_loss: 0.0130 - val_acc: 0.9759\n",
      "Epoch 4/10\n",
      "118/118 [==============================] - 179s 2s/step - loss: 5.3505e-04 - acc: 0.9981 - val_loss: 0.0151 - val_acc: 0.9741\n",
      "Epoch 5/10\n",
      "118/118 [==============================] - 177s 1s/step - loss: 6.2274e-04 - acc: 0.9976 - val_loss: 0.0149 - val_acc: 0.9762\n",
      "Epoch 6/10\n",
      "118/118 [==============================] - 200s 2s/step - loss: 4.2067e-04 - acc: 0.9985 - val_loss: 0.0218 - val_acc: 0.9574\n",
      "Epoch 7/10\n",
      "118/118 [==============================] - 180s 2s/step - loss: 0.0019 - acc: 0.9946 - val_loss: 0.0145 - val_acc: 0.9769\n",
      "Epoch 8/10\n",
      "118/118 [==============================] - 180s 2s/step - loss: 2.9290e-04 - acc: 0.9989 - val_loss: 0.0158 - val_acc: 0.9771\n",
      "Epoch 9/10\n",
      "118/118 [==============================] - 174s 1s/step - loss: 2.4162e-04 - acc: 0.9992 - val_loss: 0.0170 - val_acc: 0.9774\n",
      "Epoch 10/10\n",
      "118/118 [==============================] - 177s 2s/step - loss: 2.4307e-04 - acc: 0.9991 - val_loss: 0.0178 - val_acc: 0.9768\n"
     ]
    }
   ],
   "source": [
    "re_trained = False\n",
    "if re_trained == False:\n",
    "    history = model3.fit(X, Y_train_cat, \n",
    "                         epochs=EPOCHS, \n",
    "                         batch_size=BATCH_SIZE,\n",
    "                         validation_data=(X_dev_padded, Y_dev_cat))"
   ]
  },
  {
   "cell_type": "markdown",
   "metadata": {},
   "source": [
    "##### Saving model weights"
   ]
  },
  {
   "cell_type": "code",
   "execution_count": 109,
   "metadata": {},
   "outputs": [],
   "source": [
    "if re_trained == False:\n",
    "    model3.save_weights('model3_1.model')\n",
    "else:\n",
    "    model3.load_weights('model3_1.model')"
   ]
  },
  {
   "cell_type": "markdown",
   "metadata": {},
   "source": [
    "##### Visualising the training metrics\n",
    "Now that we've trained our model, we want to visualise the model's training and validation accuracy."
   ]
  },
  {
   "cell_type": "code",
   "execution_count": 110,
   "metadata": {},
   "outputs": [
    {
     "data": {
      "image/png": "[encoded data removed]",
      "text/plain": [
       "<Figure size 432x288 with 1 Axes>"
      ]
     },
     "metadata": {
      "needs_background": "light"
     },
     "output_type": "display_data"
    },
    {
     "data": {
      "image/png": "[encoded data removed]",
      "text/plain": [
       "<Figure size 432x288 with 1 Axes>"
      ]
     },
     "metadata": {
      "needs_background": "light"
     },
     "output_type": "display_data"
    }
   ],
   "source": [
    "acc = history.history['acc']\n",
    "val_acc = history.history['val_acc']\n",
    "loss = history.history['loss']\n",
    "val_loss = history.history['val_loss']\n",
    "\n",
    "epochs = range(1, len(acc)+1)\n",
    "\n",
    "plt.plot(epochs, acc, 'bo', label='Training acc')\n",
    "plt.plot(epochs, val_acc, 'bo', label='Validation acc')\n",
    "plt.title('Training and validation accuracy')\n",
    "plt.legend()\n",
    "\n",
    "plt.figure()\n",
    "\n",
    "\n",
    "plt.plot(epochs, loss, 'bo', label='Training loss')\n",
    "plt.plot(epochs, val_loss, 'bo', label='Validation loss')\n",
    "plt.title('Training and validation loss')\n",
    "plt.legend()\n",
    "\n",
    "plt.show()"
   ]
  },
  {
   "cell_type": "markdown",
   "metadata": {},
   "source": [
    "_3. Apply your network to the test set and report the accuracy you obtained. You will use the `evaluate` method._"
   ]
  },
  {
   "cell_type": "code",
   "execution_count": 111,
   "metadata": {},
   "outputs": [
    {
     "name": "stdout",
     "output_type": "stream",
     "text": [
      "116/116 [==============================] - 21s 178ms/step - loss: 0.0240 - acc: 0.9640\n",
      "Test loss: 0.024024100974202156\n",
      "Test accuracy: 0.9639566540718079\n"
     ]
    }
   ],
   "source": [
    "# Evaluates with the padding symbol\n",
    "test_loss, test_acc = model3.evaluate(X_test_padded, Y_test_cat)\n",
    "print('Test loss:', test_loss)\n",
    "print('Test accuracy:', test_acc)"
   ]
  },
  {
   "cell_type": "markdown",
   "metadata": {},
   "source": [
    "#### Evaluating your System\n",
    "_1. Use the predict method to predict the tags of the whole test set._"
   ]
  },
  {
   "cell_type": "code",
   "execution_count": 112,
   "metadata": {},
   "outputs": [],
   "source": [
    "y_pred = model3.predict(X_test_padded)\n",
    "y_preds = np.argmax(y_pred, axis=2)"
   ]
  },
  {
   "cell_type": "code",
   "execution_count": 113,
   "metadata": {},
   "outputs": [],
   "source": [
    "# Remove padding\n",
    "Y_test_ = [y[y != 0.] for y in np.argmax(Y_test_cat, axis = 2)]\n",
    "Y_pred_ = [y_hat[y != 0.] for y, y_hat in zip(np.argmax(Y_test_cat, axis = 2), y_preds)]"
   ]
  },
  {
   "cell_type": "code",
   "execution_count": 114,
   "metadata": {},
   "outputs": [
    {
     "name": "stdout",
     "output_type": "stream",
     "text": [
      "Predicted: [9 9 5 9 9 9 9 5 9 9 9 9]\n",
      "Actual   : [9 9 5 9 9 9 9 8 9 9 9 9]\n"
     ]
    }
   ],
   "source": [
    "# Compare first predicted sentence tags to actual\n",
    "print(\"Predicted:\", Y_pred_[1])\n",
    "print(\"Actual   :\", Y_test_[1])"
   ]
  },
  {
   "cell_type": "markdown",
   "metadata": {},
   "source": [
    "_2. Write your results in a file, where the two last columns will be the hand-annotated tag and the predicted tag. The fields must be separated by a space and each line must end with a new line: `\\n`._"
   ]
  },
  {
   "cell_type": "code",
   "execution_count": 115,
   "metadata": {},
   "outputs": [],
   "source": [
    "# Writing results to file\n",
    "save(\"output3_1.txt\", test_dict, ner, Y_test_, Y_pred_)"
   ]
  },
  {
   "cell_type": "markdown",
   "metadata": {},
   "source": [
    "_3. Apply conlleval to your output. Report the F1 result._"
   ]
  },
  {
   "cell_type": "code",
   "execution_count": 116,
   "metadata": {},
   "outputs": [
    {
     "name": "stdout",
     "output_type": "stream",
     "text": [
      "F1 score: 0.8203063457330416\n"
     ]
    }
   ],
   "source": [
    "lines = open(\"output3_1.txt\", encoding='utf8').read().splitlines()\n",
    "res = conlleval.evaluate(lines)\n",
    "improved_score = res['overall']['chunks']['evals']['f1']\n",
    "print(\"F1 score:\", improved_score)"
   ]
  },
  {
   "cell_type": "markdown",
   "metadata": {},
   "source": [
    "## Credits\n",
    "This assignment was prepared by _Pierre Nugues_, a phenomenal professor of Semantic Systems and Language Technology at Lunds Tekniska Högskola (bio [here](https://cs.lth.se/pierre/)).\n",
    "\n",
    "Additional credits to [Christopher Marshall](https://medium.com/mysuperai/what-is-named-entity-recognition-ner-and-how-can-i-use-it-2b68cf6f545d) and [Guillamume Genthial](https://guillaumegenthial.github.io/sequence-tagging-with-tensorflow.html) for making my job of convincing you why NER is worth paying attention to a lot easier. "
   ]
  }
 ],
 "metadata": {
  "colab": {
   "collapsed_sections": [],
   "name": "EDAN95_Lab4.ipynb",
   "provenance": []
  },
  "kernelspec": {
   "display_name": "Python 3",
   "language": "python",
   "name": "python3"
  },
  "language_info": {
   "codemirror_mode": {
    "name": "ipython",
    "version": 3
   },
   "file_extension": ".py",
   "mimetype": "text/x-python",
   "name": "python",
   "nbconvert_exporter": "python",
   "pygments_lexer": "ipython3",
   "version": "3.8.5"
  },
  "widgets": {
   "application/vnd.jupyter.widget-state+json": {
    "state": {},
    "version_major": 2,
    "version_minor": 0
   }
  }
 },
 "nbformat": 4,
 "nbformat_minor": 1
}
